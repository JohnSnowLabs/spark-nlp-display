{
 "cells": [
  {
   "cell_type": "markdown",
   "metadata": {
    "id": "O7rf8pcS-vYP"
   },
   "source": [
    "\n",
    "\n",
    "![JohnSnowLabs](https://nlp.johnsnowlabs.com/assets/images/logo.png)\n",
    "\n",
    "[![Open In Colab](https://colab.research.google.com/assets/colab-badge.svg)](https://colab.research.google.com/github/JohnSnowLabs/spark-nlp-display/blob/main/tutorials/Spark_NLP_Display.ipynb)\n",
    "\n",
    "\n"
   ]
  },
  {
   "cell_type": "markdown",
   "metadata": {
    "id": "cu022cz5-m8A"
   },
   "source": [
    "# **Spark NLP Display**"
   ]
  },
  {
   "cell_type": "markdown",
   "metadata": {
    "id": "MPq5GEK6HfvN"
   },
   "source": [
    "# **Public Models' Visualisations**"
   ]
  },
  {
   "cell_type": "code",
   "execution_count": null,
   "metadata": {
    "id": "iksnHoGcyGK0"
   },
   "outputs": [],
   "source": [
    "! apt-get update\n",
    "! apt-get purge -y openjdk-11* -qq > /dev/null && sudo apt-get autoremove -y -qq > /dev/null\n",
    "! apt-get install -y openjdk-8-jdk-headless -qq > /dev/null\n",
    "\n",
    "! pip install --ignore-installed -q pyspark==3.0.2\n",
    "\n",
    "# install sparknlp\n",
    "!pip install spark-nlp\n",
    "# install sparknlp-display\n",
    "!pip install spark-nlp-display"
   ]
  },
  {
   "cell_type": "code",
   "execution_count": 3,
   "metadata": {
    "id": "jZSN3W8xx7ay"
   },
   "outputs": [],
   "source": [
    "import pandas as pd\n",
    "import numpy as np\n",
    "import os\n",
    "os.environ[\"JAVA_HOME\"] = \"/usr/lib/jvm/java-8-openjdk-amd64\"\n",
    "import json\n",
    "from pyspark.ml import Pipeline\n",
    "from pyspark.sql import SparkSession\n",
    "import pyspark.sql.functions as F\n",
    "from sparknlp.annotator import *\n",
    "from sparknlp.base import *\n",
    "import sparknlp\n",
    "from sparknlp.pretrained import PretrainedPipeline\n",
    "from sparknlp.annotator import *\n",
    "from sparknlp.base import *\n",
    "\n",
    "spark = sparknlp.start()\n"
   ]
  },
  {
   "cell_type": "markdown",
   "metadata": {
    "id": "4aIqjtNjy0ZG"
   },
   "source": [
    "## **Dependency Parser Visualisation**"
   ]
  },
  {
   "cell_type": "code",
   "execution_count": 4,
   "metadata": {
    "colab": {
     "base_uri": "https://localhost:8080/"
    },
    "id": "TcjoaK1zy4Zj",
    "outputId": "7c8610b9-bc24-4510-e814-2ebdc7c00c80"
   },
   "outputs": [
    {
     "name": "stdout",
     "output_type": "stream",
     "text": [
      "pos_anc download started this may take some time.\n",
      "Approximate size to download 4.3 MB\n",
      "[OK!]\n",
      "dependency_conllu download started this may take some time.\n",
      "Approximate size to download 16.6 MB\n",
      "[OK!]\n",
      "dependency_typed_conllu download started this may take some time.\n",
      "Approximate size to download 257.4 KB\n",
      "[OK!]\n"
     ]
    }
   ],
   "source": [
    "documentAssembler = DocumentAssembler()\\\n",
    "    .setInputCol(\"text\")\\\n",
    "    .setOutputCol(\"document\")\n",
    "\n",
    "tokenizer = Tokenizer() \\\n",
    "    .setInputCols([\"document\"]) \\\n",
    "    .setOutputCol(\"token\")\n",
    "\n",
    "pos = PerceptronModel.pretrained(\"pos_anc\", 'en')\\\n",
    "        .setInputCols(\"document\", \"token\")\\\n",
    "        .setOutputCol(\"pos\")\n",
    "\n",
    "chunker = Chunker()\\\n",
    "      .setInputCols([\"document\", \"pos\"])\\\n",
    "      .setOutputCol(\"chunk\")\\\n",
    "      .setRegexParsers([\"<NNP>+\", \"<DT>?<JJ>*<NN>\"])\n",
    "\n",
    "\n",
    "dep_parser = DependencyParserModel.pretrained('dependency_conllu')\\\n",
    "        .setInputCols([\"document\", \"pos\", \"token\"])\\\n",
    "        .setOutputCol(\"dependency\")\n",
    "\n",
    "\n",
    "typed_dep_parser = TypedDependencyParserModel.pretrained('dependency_typed_conllu')\\\n",
    "        .setInputCols([\"token\", \"pos\", \"dependency\"])\\\n",
    "        .setOutputCol(\"dependency_type\")\n",
    "\n",
    "\n",
    "nlpPipeline = Pipeline(\n",
    "      stages = [\n",
    "          documentAssembler,\n",
    "          tokenizer,\n",
    "          pos,\n",
    "          dep_parser,\n",
    "          typed_dep_parser\n",
    "      ])\n",
    "\n",
    "empty_df = spark.createDataFrame([['']]).toDF(\"text\")\n",
    "\n",
    "pipelineModel = nlpPipeline.fit(empty_df)\n",
    "lmodel = LightPipeline(pipelineModel)"
   ]
  },
  {
   "cell_type": "code",
   "execution_count": 5,
   "metadata": {
    "id": "zu3HKFMU6avR"
   },
   "outputs": [],
   "source": [
    "text = ['John Snow is a good man.']\n",
    "res = lmodel.fullAnnotate(text)[0]"
   ]
  },
  {
   "cell_type": "code",
   "execution_count": 6,
   "metadata": {
    "colab": {
     "base_uri": "https://localhost:8080/",
     "height": 471
    },
    "id": "FNcz18qOy4fs",
    "outputId": "db125874-4011-4ef2-ea39-3acb36b0f74c"
   },
   "outputs": [
    {
     "data": {
      "text/html": [
       "<svg baseProfile=\"tiny\" height=\"450\" version=\"1.2\" width=\"805\" xmlns=\"http://www.w3.org/2000/svg\" xmlns:ev=\"http://www.w3.org/2001/xml-events\" xmlns:xlink=\"http://www.w3.org/1999/xlink\"><defs /><text fill=\"gray\" font-family=\"courier\" font-size=\"25\" x=\"50\" y=\"350\">John</text><text fill=\"#BBCF65\" x=\"58\" y=\"380\">NNP</text><text fill=\"gray\" font-family=\"courier\" font-size=\"25\" x=\"170\" y=\"350\">Snow</text><text fill=\"#BBCF65\" x=\"178\" y=\"380\">NNP</text><text fill=\"gray\" font-family=\"courier\" font-size=\"25\" x=\"290\" y=\"350\">is</text><text fill=\"#93D0AA\" x=\"283\" y=\"380\">VBZ</text><text fill=\"gray\" font-family=\"courier\" font-size=\"25\" x=\"380\" y=\"350\">a</text><text fill=\"#CB8CB0\" x=\"373\" y=\"380\">DT</text><text fill=\"gray\" font-family=\"courier\" font-size=\"25\" x=\"455\" y=\"350\">good</text><text fill=\"#75DFA2\" x=\"470\" y=\"380\">JJ</text><text fill=\"gray\" font-family=\"courier\" font-size=\"25\" x=\"575\" y=\"350\">man</text><rect fill=\"none\" height=\"35\" stroke=\"orange\" stroke-width=\"2\" width=\"55\" x=\"570\" y=\"325\" /><text fill=\"#E6986A\" x=\"582\" y=\"380\">NN</text><text fill=\"gray\" font-family=\"courier\" font-size=\"25\" x=\"680\" y=\"350\">.</text><text fill=\"#9B6D86\" x=\"680\" y=\"380\">.</text><polyline fill=\"none\" points=\"619,324 619,250 688,250 688,320 690,320 688,324 686,320 688,320\" stroke=\"#84799E\" stroke-width=\"2\" /><text fill=\"#84799E\" font-family=\"courier\" font-size=\"20\" x=\"622.5909090909091\" y=\"246\">punct</text><polyline fill=\"none\" points=\"584,324 584,250 490,250 490,320 492,320 490,324 488,320 490,320\" stroke=\"#7EAEB4\" stroke-width=\"2\" /><text fill=\"#7EAEB4\" font-family=\"courier\" font-size=\"20\" x=\"511.54545454545456\" y=\"246\">amod</text><polyline fill=\"none\" points=\"591,324 591,200 392,200 392,320 394,320 392,324 390,320 392,320\" stroke=\"#85D276\" stroke-width=\"2\" /><text fill=\"#85D276\" font-family=\"courier\" font-size=\"20\" x=\"460.59090909090907\" y=\"196\">nsubj</text><polyline fill=\"none\" points=\"598,324 598,150 310,150 310,320 312,320 310,324 308,320 310,320\" stroke=\"#85D276\" stroke-width=\"2\" /><text fill=\"#85D276\" font-family=\"courier\" font-size=\"20\" x=\"423.09090909090907\" y=\"146\">nsubj</text><polyline fill=\"none\" points=\"605,324 605,100 205,100 205,320 207,320 205,324 203,320 205,320\" stroke=\"#74B29D\" stroke-width=\"2\" /><text fill=\"#74B29D\" font-family=\"courier\" font-size=\"20\" x=\"379.54545454545456\" y=\"96\">flat</text><polyline fill=\"none\" points=\"612,324 612,50 85,50 85,320 87,320 85,324 83,320 85,320\" stroke=\"#74B29D\" stroke-width=\"2\" /><text fill=\"#74B29D\" font-family=\"courier\" font-size=\"20\" x=\"323.04545454545456\" y=\"46\">flat</text></svg>"
      ],
      "text/plain": [
       "<IPython.core.display.HTML object>"
      ]
     },
     "metadata": {
      "tags": []
     },
     "output_type": "display_data"
    }
   ],
   "source": [
    "from sparknlp_display import DependencyParserVisualizer\n",
    "dependency_vis = DependencyParserVisualizer()\n",
    "dependency_vis.display(res, 'pos', 'dependency', 'dependency_type')"
   ]
  },
  {
   "cell_type": "markdown",
   "metadata": {
    "id": "QFR3Y0ooy5CU"
   },
   "source": [
    "## **NER Output Visualisation**"
   ]
  },
  {
   "cell_type": "code",
   "execution_count": 7,
   "metadata": {
    "id": "xzNPWhbQzL21"
   },
   "outputs": [],
   "source": [
    "example = [\n",
    "           \"The Mona Lisa is a 16th century oil painting created by Leonardo. It's held at the Louvre in Paris.\"\n",
    "]"
   ]
  },
  {
   "cell_type": "markdown",
   "metadata": {
    "id": "D15cZ7x0yr-T"
   },
   "source": [
    "### **Pre-trained pipeline**"
   ]
  },
  {
   "cell_type": "code",
   "execution_count": 8,
   "metadata": {
    "colab": {
     "base_uri": "https://localhost:8080/"
    },
    "id": "emLiZc9fyrg7",
    "outputId": "a9d33c6b-7577-4f39-ea63-4b41828f2ac5"
   },
   "outputs": [
    {
     "name": "stdout",
     "output_type": "stream",
     "text": [
      "recognize_entities_dl download started this may take some time.\n",
      "Approx size to download 159 MB\n",
      "[OK!]\n"
     ]
    }
   ],
   "source": [
    "pipeline = PretrainedPipeline('recognize_entities_dl', lang='en')"
   ]
  },
  {
   "cell_type": "code",
   "execution_count": 9,
   "metadata": {
    "colab": {
     "base_uri": "https://localhost:8080/"
    },
    "id": "VPOFr5DTzRqD",
    "outputId": "5b6c68e5-c082-4585-ee1a-e92b8dccda90"
   },
   "outputs": [
    {
     "data": {
      "text/plain": [
       "dict_keys(['entities', 'document', 'token', 'ner', 'embeddings', 'sentence'])"
      ]
     },
     "execution_count": 9,
     "metadata": {
      "tags": []
     },
     "output_type": "execute_result"
    }
   ],
   "source": [
    "ppres = pipeline.fullAnnotate(example)[0]\n",
    "ppres.keys()"
   ]
  },
  {
   "cell_type": "code",
   "execution_count": 10,
   "metadata": {
    "colab": {
     "base_uri": "https://localhost:8080/",
     "height": 264
    },
    "id": "lycK0jxNzImE",
    "outputId": "2781a037-99cf-4dcc-ca84-af0f20a441d8"
   },
   "outputs": [
    {
     "name": "stdout",
     "output_type": "stream",
     "text": [
      "Standard Output\n"
     ]
    },
    {
     "data": {
      "text/html": [
       "\n",
       "<style>\n",
       "    @import url('https://fonts.googleapis.com/css2?family=Montserrat:wght@300;400;500;600;700&display=swap');\n",
       "    @import url('https://fonts.googleapis.com/css2?family=Vistol Regular:wght@300;400;500;600;700&display=swap');\n",
       "    \n",
       "    .spark-nlp-display-scroll-entities {\n",
       "        border: 1px solid #E7EDF0;\n",
       "        border-radius: 3px;\n",
       "        text-align: justify;\n",
       "        \n",
       "    }\n",
       "    .spark-nlp-display-scroll-entities span {  \n",
       "        font-size: 14px;\n",
       "        line-height: 24px;\n",
       "        color: #536B76;\n",
       "        font-family: 'Montserrat', sans-serif !important;\n",
       "    }\n",
       "    \n",
       "    .spark-nlp-display-entity-wrapper{\n",
       "    \n",
       "        display: inline-grid;\n",
       "        text-align: center;\n",
       "        border-radius: 4px;\n",
       "        margin: 0 2px 5px 2px;\n",
       "        padding: 1px\n",
       "    }\n",
       "    .spark-nlp-display-entity-name{\n",
       "        font-size: 14px;\n",
       "        line-height: 24px;\n",
       "        font-family: 'Montserrat', sans-serif !important;\n",
       "        \n",
       "        background: #f1f2f3;\n",
       "        border-width: medium;\n",
       "        text-align: center;\n",
       "        \n",
       "        font-weight: 400;\n",
       "        \n",
       "        border-radius: 5px;\n",
       "        padding: 2px 5px;\n",
       "        display: block;\n",
       "        margin: 3px 2px;\n",
       "    \n",
       "    }\n",
       "    .spark-nlp-display-entity-type{\n",
       "        font-size: 14px;\n",
       "        line-height: 24px;\n",
       "        color: #ffffff;\n",
       "        font-family: 'Montserrat', sans-serif !important;\n",
       "        \n",
       "        text-transform: uppercase;\n",
       "        \n",
       "        font-weight: 500;\n",
       "\n",
       "        display: block;\n",
       "        padding: 3px 5px;\n",
       "    }\n",
       "    \n",
       "    .spark-nlp-display-entity-resolution{\n",
       "        font-size: 14px;\n",
       "        line-height: 24px;\n",
       "        color: #ffffff;\n",
       "        font-family: 'Vistol Regular', sans-serif !important;\n",
       "        \n",
       "        text-transform: uppercase;\n",
       "        \n",
       "        font-weight: 500;\n",
       "\n",
       "        display: block;\n",
       "        padding: 3px 5px;\n",
       "    }\n",
       "    \n",
       "    .spark-nlp-display-others{\n",
       "        font-size: 14px;\n",
       "        line-height: 24px;\n",
       "        font-family: 'Montserrat', sans-serif !important;\n",
       "        \n",
       "        font-weight: 400;\n",
       "    }\n",
       "\n",
       "</style>\n",
       " <span class=\"spark-nlp-display-others\" style=\"background-color: white\">The </span><span class=\"spark-nlp-display-entity-wrapper\" style=\"background-color: #95EBCB\"><span class=\"spark-nlp-display-entity-name\">Mona Lisa </span><span class=\"spark-nlp-display-entity-type\">PER</span></span><span class=\"spark-nlp-display-others\" style=\"background-color: white\"> is a 16th century oil painting created by </span><span class=\"spark-nlp-display-entity-wrapper\" style=\"background-color: #95EBCB\"><span class=\"spark-nlp-display-entity-name\">Leonardo </span><span class=\"spark-nlp-display-entity-type\">PER</span></span><span class=\"spark-nlp-display-others\" style=\"background-color: white\">. It's held at the </span><span class=\"spark-nlp-display-entity-wrapper\" style=\"background-color: #A2F6C8\"><span class=\"spark-nlp-display-entity-name\">Louvre </span><span class=\"spark-nlp-display-entity-type\">LOC</span></span><span class=\"spark-nlp-display-others\" style=\"background-color: white\"> in </span><span class=\"spark-nlp-display-entity-wrapper\" style=\"background-color: #A2F6C8\"><span class=\"spark-nlp-display-entity-name\">Paris </span><span class=\"spark-nlp-display-entity-type\">LOC</span></span><span class=\"spark-nlp-display-others\" style=\"background-color: white\">.</span></div>"
      ],
      "text/plain": [
       "<IPython.core.display.HTML object>"
      ]
     },
     "metadata": {
      "tags": []
     },
     "output_type": "display_data"
    },
    {
     "data": {
      "text/html": [
       "\n",
       "<style>\n",
       "    @import url('https://fonts.googleapis.com/css2?family=Montserrat:wght@300;400;500;600;700&display=swap');\n",
       "    @import url('https://fonts.googleapis.com/css2?family=Vistol Regular:wght@300;400;500;600;700&display=swap');\n",
       "    \n",
       "    .spark-nlp-display-scroll-entities {\n",
       "        border: 1px solid #E7EDF0;\n",
       "        border-radius: 3px;\n",
       "        text-align: justify;\n",
       "        \n",
       "    }\n",
       "    .spark-nlp-display-scroll-entities span {  \n",
       "        font-size: 14px;\n",
       "        line-height: 24px;\n",
       "        color: #536B76;\n",
       "        font-family: 'Montserrat', sans-serif !important;\n",
       "    }\n",
       "    \n",
       "    .spark-nlp-display-entity-wrapper{\n",
       "    \n",
       "        display: inline-grid;\n",
       "        text-align: center;\n",
       "        border-radius: 4px;\n",
       "        margin: 0 2px 5px 2px;\n",
       "        padding: 1px\n",
       "    }\n",
       "    .spark-nlp-display-entity-name{\n",
       "        font-size: 14px;\n",
       "        line-height: 24px;\n",
       "        font-family: 'Montserrat', sans-serif !important;\n",
       "        \n",
       "        background: #f1f2f3;\n",
       "        border-width: medium;\n",
       "        text-align: center;\n",
       "        \n",
       "        font-weight: 400;\n",
       "        \n",
       "        border-radius: 5px;\n",
       "        padding: 2px 5px;\n",
       "        display: block;\n",
       "        margin: 3px 2px;\n",
       "    \n",
       "    }\n",
       "    .spark-nlp-display-entity-type{\n",
       "        font-size: 14px;\n",
       "        line-height: 24px;\n",
       "        color: #ffffff;\n",
       "        font-family: 'Montserrat', sans-serif !important;\n",
       "        \n",
       "        text-transform: uppercase;\n",
       "        \n",
       "        font-weight: 500;\n",
       "\n",
       "        display: block;\n",
       "        padding: 3px 5px;\n",
       "    }\n",
       "    \n",
       "    .spark-nlp-display-entity-resolution{\n",
       "        font-size: 14px;\n",
       "        line-height: 24px;\n",
       "        color: #ffffff;\n",
       "        font-family: 'Vistol Regular', sans-serif !important;\n",
       "        \n",
       "        text-transform: uppercase;\n",
       "        \n",
       "        font-weight: 500;\n",
       "\n",
       "        display: block;\n",
       "        padding: 3px 5px;\n",
       "    }\n",
       "    \n",
       "    .spark-nlp-display-others{\n",
       "        font-size: 14px;\n",
       "        line-height: 24px;\n",
       "        font-family: 'Montserrat', sans-serif !important;\n",
       "        \n",
       "        font-weight: 400;\n",
       "    }\n",
       "\n",
       "</style>\n",
       " <span class=\"spark-nlp-display-others\" style=\"background-color: white\">The </span><span class=\"spark-nlp-display-entity-wrapper\" style=\"background-color: #800080\"><span class=\"spark-nlp-display-entity-name\">Mona Lisa </span><span class=\"spark-nlp-display-entity-type\">PER</span></span><span class=\"spark-nlp-display-others\" style=\"background-color: white\"> is a 16th century oil painting created by </span><span class=\"spark-nlp-display-entity-wrapper\" style=\"background-color: #800080\"><span class=\"spark-nlp-display-entity-name\">Leonardo </span><span class=\"spark-nlp-display-entity-type\">PER</span></span><span class=\"spark-nlp-display-others\" style=\"background-color: white\">. It's held at the </span><span class=\"spark-nlp-display-entity-wrapper\" style=\"background-color: #008080\"><span class=\"spark-nlp-display-entity-name\">Louvre </span><span class=\"spark-nlp-display-entity-type\">LOC</span></span><span class=\"spark-nlp-display-others\" style=\"background-color: white\"> in </span><span class=\"spark-nlp-display-entity-wrapper\" style=\"background-color: #008080\"><span class=\"spark-nlp-display-entity-name\">Paris </span><span class=\"spark-nlp-display-entity-type\">LOC</span></span><span class=\"spark-nlp-display-others\" style=\"background-color: white\">.</span></div>"
      ],
      "text/plain": [
       "<IPython.core.display.HTML object>"
      ]
     },
     "metadata": {
      "tags": []
     },
     "output_type": "display_data"
    },
    {
     "data": {
      "text/html": [
       "\n",
       "<style>\n",
       "    @import url('https://fonts.googleapis.com/css2?family=Montserrat:wght@300;400;500;600;700&display=swap');\n",
       "    @import url('https://fonts.googleapis.com/css2?family=Vistol Regular:wght@300;400;500;600;700&display=swap');\n",
       "    \n",
       "    .spark-nlp-display-scroll-entities {\n",
       "        border: 1px solid #E7EDF0;\n",
       "        border-radius: 3px;\n",
       "        text-align: justify;\n",
       "        \n",
       "    }\n",
       "    .spark-nlp-display-scroll-entities span {  \n",
       "        font-size: 14px;\n",
       "        line-height: 24px;\n",
       "        color: #536B76;\n",
       "        font-family: 'Montserrat', sans-serif !important;\n",
       "    }\n",
       "    \n",
       "    .spark-nlp-display-entity-wrapper{\n",
       "    \n",
       "        display: inline-grid;\n",
       "        text-align: center;\n",
       "        border-radius: 4px;\n",
       "        margin: 0 2px 5px 2px;\n",
       "        padding: 1px\n",
       "    }\n",
       "    .spark-nlp-display-entity-name{\n",
       "        font-size: 14px;\n",
       "        line-height: 24px;\n",
       "        font-family: 'Montserrat', sans-serif !important;\n",
       "        \n",
       "        background: #f1f2f3;\n",
       "        border-width: medium;\n",
       "        text-align: center;\n",
       "        \n",
       "        font-weight: 400;\n",
       "        \n",
       "        border-radius: 5px;\n",
       "        padding: 2px 5px;\n",
       "        display: block;\n",
       "        margin: 3px 2px;\n",
       "    \n",
       "    }\n",
       "    .spark-nlp-display-entity-type{\n",
       "        font-size: 14px;\n",
       "        line-height: 24px;\n",
       "        color: #ffffff;\n",
       "        font-family: 'Montserrat', sans-serif !important;\n",
       "        \n",
       "        text-transform: uppercase;\n",
       "        \n",
       "        font-weight: 500;\n",
       "\n",
       "        display: block;\n",
       "        padding: 3px 5px;\n",
       "    }\n",
       "    \n",
       "    .spark-nlp-display-entity-resolution{\n",
       "        font-size: 14px;\n",
       "        line-height: 24px;\n",
       "        color: #ffffff;\n",
       "        font-family: 'Vistol Regular', sans-serif !important;\n",
       "        \n",
       "        text-transform: uppercase;\n",
       "        \n",
       "        font-weight: 500;\n",
       "\n",
       "        display: block;\n",
       "        padding: 3px 5px;\n",
       "    }\n",
       "    \n",
       "    .spark-nlp-display-others{\n",
       "        font-size: 14px;\n",
       "        line-height: 24px;\n",
       "        font-family: 'Montserrat', sans-serif !important;\n",
       "        \n",
       "        font-weight: 400;\n",
       "    }\n",
       "\n",
       "</style>\n",
       " <span class=\"spark-nlp-display-others\" style=\"background-color: white\">The </span><span class=\"spark-nlp-display-entity-wrapper\" style=\"background-color: #800080\"><span class=\"spark-nlp-display-entity-name\">Mona Lisa </span><span class=\"spark-nlp-display-entity-type\">PER</span></span><span class=\"spark-nlp-display-others\" style=\"background-color: white\"> is a 16th century oil painting created by </span><span class=\"spark-nlp-display-entity-wrapper\" style=\"background-color: #800080\"><span class=\"spark-nlp-display-entity-name\">Leonardo </span><span class=\"spark-nlp-display-entity-type\">PER</span></span><span class=\"spark-nlp-display-others\" style=\"background-color: white\">. It's held at the </span><span class=\"spark-nlp-display-others\" style=\"background-color: white\">Louvre</span><span class=\"spark-nlp-display-others\" style=\"background-color: white\"> in </span><span class=\"spark-nlp-display-others\" style=\"background-color: white\">Paris</span><span class=\"spark-nlp-display-others\" style=\"background-color: white\">.</span></div>"
      ],
      "text/plain": [
       "<IPython.core.display.HTML object>"
      ]
     },
     "metadata": {
      "tags": []
     },
     "output_type": "display_data"
    },
    {
     "name": "stdout",
     "output_type": "stream",
     "text": [
      "color code for label \"LOC\": #008080\n"
     ]
    }
   ],
   "source": [
    "from sparknlp_display import NerVisualizer\n",
    "visualiser = NerVisualizer()\n",
    "print ('Standard Output')\n",
    "visualiser.display(ppres, label_col='entities', document_col='document')\n",
    "\n",
    "# Change color of an entity label\n",
    "visualiser.set_label_colors({'LOC':'#008080', 'PER':'#800080'})\n",
    "visualiser.display(ppres, label_col='entities')\n",
    "\n",
    "# Set label filter\n",
    "visualiser.display(ppres, label_col='entities', document_col='document',\n",
    "                   labels=['PER'])\n",
    "\n",
    "print ('color code for label \"LOC\": ' + visualiser.get_label_color('LOC'))"
   ]
  },
  {
   "cell_type": "markdown",
   "metadata": {
    "id": "AVoBwlVJyuM-"
   },
   "source": [
    "### **New Pipeline**"
   ]
  },
  {
   "cell_type": "code",
   "execution_count": 11,
   "metadata": {
    "colab": {
     "base_uri": "https://localhost:8080/"
    },
    "id": "m2CYYQI6yh1s",
    "outputId": "e8e061da-c07c-47a2-eda3-940daeb70fbb"
   },
   "outputs": [
    {
     "name": "stdout",
     "output_type": "stream",
     "text": [
      "glove_100d download started this may take some time.\n",
      "Approximate size to download 145.3 MB\n",
      "[OK!]\n",
      "ner_dl download started this may take some time.\n",
      "Approximate size to download 13.6 MB\n",
      "[OK!]\n"
     ]
    }
   ],
   "source": [
    "\n",
    "documentAssembler = DocumentAssembler()\\\n",
    "    .setInputCol(\"text\")\\\n",
    "    .setOutputCol(\"document\")\n",
    "\n",
    "tokenizer = Tokenizer() \\\n",
    "    .setInputCols([\"document\"]) \\\n",
    "    .setOutputCol(\"token\")\n",
    "\n",
    "embeddings = WordEmbeddingsModel.pretrained('glove_100d').\\\n",
    "                  setInputCols([\"document\", 'token']).\\\n",
    "                  setOutputCol(\"embeddings\")\n",
    "\n",
    "public_ner = NerDLModel.pretrained('ner_dl', 'en') \\\n",
    "          .setInputCols([\"document\", \"token\", \"embeddings\"]) \\\n",
    "          .setOutputCol(\"ner\")\n",
    "\n",
    "ner_converter = NerConverter() \\\n",
    "                .setInputCols([\"document\", \"token\", \"ner\"]) \\\n",
    "                  .setOutputCol(\"entities\")\n",
    "\n",
    "nlpPipeline = Pipeline(stages=[ documentAssembler, \n",
    "                                 tokenizer,\n",
    "                                 embeddings,\n",
    "                                 public_ner,\n",
    "                                 ner_converter\n",
    "                                 ])\n",
    "\n",
    "empty_df = spark.createDataFrame([['']]).toDF(\"text\")\n",
    "\n",
    "pipelineModel = nlpPipeline.fit(empty_df)\n",
    "lmodel = LightPipeline(pipelineModel)"
   ]
  },
  {
   "cell_type": "markdown",
   "metadata": {
    "id": "zkAmPZmy0yBn"
   },
   "source": [
    "#### **Display using Light Pipeline results**"
   ]
  },
  {
   "cell_type": "code",
   "execution_count": 12,
   "metadata": {
    "colab": {
     "base_uri": "https://localhost:8080/"
    },
    "id": "-3WoSCJ3zB6Q",
    "outputId": "8b7ab49e-963f-4953-93bb-de017d166c99"
   },
   "outputs": [
    {
     "data": {
      "text/plain": [
       "dict_keys(['entities', 'document', 'token', 'ner', 'embeddings'])"
      ]
     },
     "execution_count": 12,
     "metadata": {
      "tags": []
     },
     "output_type": "execute_result"
    }
   ],
   "source": [
    "cpres = lmodel.fullAnnotate(example)[0]\n",
    "cpres.keys()"
   ]
  },
  {
   "cell_type": "code",
   "execution_count": 13,
   "metadata": {
    "colab": {
     "base_uri": "https://localhost:8080/",
     "height": 247
    },
    "id": "ht9vlfcYzGqx",
    "outputId": "44fec9d3-59fb-4f68-a110-71724fdbf061"
   },
   "outputs": [
    {
     "name": "stdout",
     "output_type": "stream",
     "text": [
      "Standard Output\n"
     ]
    },
    {
     "data": {
      "text/html": [
       "\n",
       "<style>\n",
       "    @import url('https://fonts.googleapis.com/css2?family=Montserrat:wght@300;400;500;600;700&display=swap');\n",
       "    @import url('https://fonts.googleapis.com/css2?family=Vistol Regular:wght@300;400;500;600;700&display=swap');\n",
       "    \n",
       "    .spark-nlp-display-scroll-entities {\n",
       "        border: 1px solid #E7EDF0;\n",
       "        border-radius: 3px;\n",
       "        text-align: justify;\n",
       "        \n",
       "    }\n",
       "    .spark-nlp-display-scroll-entities span {  \n",
       "        font-size: 14px;\n",
       "        line-height: 24px;\n",
       "        color: #536B76;\n",
       "        font-family: 'Montserrat', sans-serif !important;\n",
       "    }\n",
       "    \n",
       "    .spark-nlp-display-entity-wrapper{\n",
       "    \n",
       "        display: inline-grid;\n",
       "        text-align: center;\n",
       "        border-radius: 4px;\n",
       "        margin: 0 2px 5px 2px;\n",
       "        padding: 1px\n",
       "    }\n",
       "    .spark-nlp-display-entity-name{\n",
       "        font-size: 14px;\n",
       "        line-height: 24px;\n",
       "        font-family: 'Montserrat', sans-serif !important;\n",
       "        \n",
       "        background: #f1f2f3;\n",
       "        border-width: medium;\n",
       "        text-align: center;\n",
       "        \n",
       "        font-weight: 400;\n",
       "        \n",
       "        border-radius: 5px;\n",
       "        padding: 2px 5px;\n",
       "        display: block;\n",
       "        margin: 3px 2px;\n",
       "    \n",
       "    }\n",
       "    .spark-nlp-display-entity-type{\n",
       "        font-size: 14px;\n",
       "        line-height: 24px;\n",
       "        color: #ffffff;\n",
       "        font-family: 'Montserrat', sans-serif !important;\n",
       "        \n",
       "        text-transform: uppercase;\n",
       "        \n",
       "        font-weight: 500;\n",
       "\n",
       "        display: block;\n",
       "        padding: 3px 5px;\n",
       "    }\n",
       "    \n",
       "    .spark-nlp-display-entity-resolution{\n",
       "        font-size: 14px;\n",
       "        line-height: 24px;\n",
       "        color: #ffffff;\n",
       "        font-family: 'Vistol Regular', sans-serif !important;\n",
       "        \n",
       "        text-transform: uppercase;\n",
       "        \n",
       "        font-weight: 500;\n",
       "\n",
       "        display: block;\n",
       "        padding: 3px 5px;\n",
       "    }\n",
       "    \n",
       "    .spark-nlp-display-others{\n",
       "        font-size: 14px;\n",
       "        line-height: 24px;\n",
       "        font-family: 'Montserrat', sans-serif !important;\n",
       "        \n",
       "        font-weight: 400;\n",
       "    }\n",
       "\n",
       "</style>\n",
       " <span class=\"spark-nlp-display-others\" style=\"background-color: white\">The </span><span class=\"spark-nlp-display-entity-wrapper\" style=\"background-color: #EFDFD6\"><span class=\"spark-nlp-display-entity-name\">Mona Lisa </span><span class=\"spark-nlp-display-entity-type\">PER</span></span><span class=\"spark-nlp-display-others\" style=\"background-color: white\"> is a 16th century oil painting created by </span><span class=\"spark-nlp-display-entity-wrapper\" style=\"background-color: #EFDFD6\"><span class=\"spark-nlp-display-entity-name\">Leonardo </span><span class=\"spark-nlp-display-entity-type\">PER</span></span><span class=\"spark-nlp-display-others\" style=\"background-color: white\">. It's held at the </span><span class=\"spark-nlp-display-entity-wrapper\" style=\"background-color: #79EC78\"><span class=\"spark-nlp-display-entity-name\">Louvre </span><span class=\"spark-nlp-display-entity-type\">LOC</span></span><span class=\"spark-nlp-display-others\" style=\"background-color: white\"> in </span><span class=\"spark-nlp-display-entity-wrapper\" style=\"background-color: #79EC78\"><span class=\"spark-nlp-display-entity-name\">Paris </span><span class=\"spark-nlp-display-entity-type\">LOC</span></span><span class=\"spark-nlp-display-others\" style=\"background-color: white\">.</span></div>"
      ],
      "text/plain": [
       "<IPython.core.display.HTML object>"
      ]
     },
     "metadata": {
      "tags": []
     },
     "output_type": "display_data"
    },
    {
     "data": {
      "text/html": [
       "\n",
       "<style>\n",
       "    @import url('https://fonts.googleapis.com/css2?family=Montserrat:wght@300;400;500;600;700&display=swap');\n",
       "    @import url('https://fonts.googleapis.com/css2?family=Vistol Regular:wght@300;400;500;600;700&display=swap');\n",
       "    \n",
       "    .spark-nlp-display-scroll-entities {\n",
       "        border: 1px solid #E7EDF0;\n",
       "        border-radius: 3px;\n",
       "        text-align: justify;\n",
       "        \n",
       "    }\n",
       "    .spark-nlp-display-scroll-entities span {  \n",
       "        font-size: 14px;\n",
       "        line-height: 24px;\n",
       "        color: #536B76;\n",
       "        font-family: 'Montserrat', sans-serif !important;\n",
       "    }\n",
       "    \n",
       "    .spark-nlp-display-entity-wrapper{\n",
       "    \n",
       "        display: inline-grid;\n",
       "        text-align: center;\n",
       "        border-radius: 4px;\n",
       "        margin: 0 2px 5px 2px;\n",
       "        padding: 1px\n",
       "    }\n",
       "    .spark-nlp-display-entity-name{\n",
       "        font-size: 14px;\n",
       "        line-height: 24px;\n",
       "        font-family: 'Montserrat', sans-serif !important;\n",
       "        \n",
       "        background: #f1f2f3;\n",
       "        border-width: medium;\n",
       "        text-align: center;\n",
       "        \n",
       "        font-weight: 400;\n",
       "        \n",
       "        border-radius: 5px;\n",
       "        padding: 2px 5px;\n",
       "        display: block;\n",
       "        margin: 3px 2px;\n",
       "    \n",
       "    }\n",
       "    .spark-nlp-display-entity-type{\n",
       "        font-size: 14px;\n",
       "        line-height: 24px;\n",
       "        color: #ffffff;\n",
       "        font-family: 'Montserrat', sans-serif !important;\n",
       "        \n",
       "        text-transform: uppercase;\n",
       "        \n",
       "        font-weight: 500;\n",
       "\n",
       "        display: block;\n",
       "        padding: 3px 5px;\n",
       "    }\n",
       "    \n",
       "    .spark-nlp-display-entity-resolution{\n",
       "        font-size: 14px;\n",
       "        line-height: 24px;\n",
       "        color: #ffffff;\n",
       "        font-family: 'Vistol Regular', sans-serif !important;\n",
       "        \n",
       "        text-transform: uppercase;\n",
       "        \n",
       "        font-weight: 500;\n",
       "\n",
       "        display: block;\n",
       "        padding: 3px 5px;\n",
       "    }\n",
       "    \n",
       "    .spark-nlp-display-others{\n",
       "        font-size: 14px;\n",
       "        line-height: 24px;\n",
       "        font-family: 'Montserrat', sans-serif !important;\n",
       "        \n",
       "        font-weight: 400;\n",
       "    }\n",
       "\n",
       "</style>\n",
       " <span class=\"spark-nlp-display-others\" style=\"background-color: white\">The </span><span class=\"spark-nlp-display-entity-wrapper\" style=\"background-color: #800080\"><span class=\"spark-nlp-display-entity-name\">Mona Lisa </span><span class=\"spark-nlp-display-entity-type\">PER</span></span><span class=\"spark-nlp-display-others\" style=\"background-color: white\"> is a 16th century oil painting created by </span><span class=\"spark-nlp-display-entity-wrapper\" style=\"background-color: #800080\"><span class=\"spark-nlp-display-entity-name\">Leonardo </span><span class=\"spark-nlp-display-entity-type\">PER</span></span><span class=\"spark-nlp-display-others\" style=\"background-color: white\">. It's held at the </span><span class=\"spark-nlp-display-entity-wrapper\" style=\"background-color: #008080\"><span class=\"spark-nlp-display-entity-name\">Louvre </span><span class=\"spark-nlp-display-entity-type\">LOC</span></span><span class=\"spark-nlp-display-others\" style=\"background-color: white\"> in </span><span class=\"spark-nlp-display-entity-wrapper\" style=\"background-color: #008080\"><span class=\"spark-nlp-display-entity-name\">Paris </span><span class=\"spark-nlp-display-entity-type\">LOC</span></span><span class=\"spark-nlp-display-others\" style=\"background-color: white\">.</span></div>"
      ],
      "text/plain": [
       "<IPython.core.display.HTML object>"
      ]
     },
     "metadata": {
      "tags": []
     },
     "output_type": "display_data"
    },
    {
     "data": {
      "text/html": [
       "\n",
       "<style>\n",
       "    @import url('https://fonts.googleapis.com/css2?family=Montserrat:wght@300;400;500;600;700&display=swap');\n",
       "    @import url('https://fonts.googleapis.com/css2?family=Vistol Regular:wght@300;400;500;600;700&display=swap');\n",
       "    \n",
       "    .spark-nlp-display-scroll-entities {\n",
       "        border: 1px solid #E7EDF0;\n",
       "        border-radius: 3px;\n",
       "        text-align: justify;\n",
       "        \n",
       "    }\n",
       "    .spark-nlp-display-scroll-entities span {  \n",
       "        font-size: 14px;\n",
       "        line-height: 24px;\n",
       "        color: #536B76;\n",
       "        font-family: 'Montserrat', sans-serif !important;\n",
       "    }\n",
       "    \n",
       "    .spark-nlp-display-entity-wrapper{\n",
       "    \n",
       "        display: inline-grid;\n",
       "        text-align: center;\n",
       "        border-radius: 4px;\n",
       "        margin: 0 2px 5px 2px;\n",
       "        padding: 1px\n",
       "    }\n",
       "    .spark-nlp-display-entity-name{\n",
       "        font-size: 14px;\n",
       "        line-height: 24px;\n",
       "        font-family: 'Montserrat', sans-serif !important;\n",
       "        \n",
       "        background: #f1f2f3;\n",
       "        border-width: medium;\n",
       "        text-align: center;\n",
       "        \n",
       "        font-weight: 400;\n",
       "        \n",
       "        border-radius: 5px;\n",
       "        padding: 2px 5px;\n",
       "        display: block;\n",
       "        margin: 3px 2px;\n",
       "    \n",
       "    }\n",
       "    .spark-nlp-display-entity-type{\n",
       "        font-size: 14px;\n",
       "        line-height: 24px;\n",
       "        color: #ffffff;\n",
       "        font-family: 'Montserrat', sans-serif !important;\n",
       "        \n",
       "        text-transform: uppercase;\n",
       "        \n",
       "        font-weight: 500;\n",
       "\n",
       "        display: block;\n",
       "        padding: 3px 5px;\n",
       "    }\n",
       "    \n",
       "    .spark-nlp-display-entity-resolution{\n",
       "        font-size: 14px;\n",
       "        line-height: 24px;\n",
       "        color: #ffffff;\n",
       "        font-family: 'Vistol Regular', sans-serif !important;\n",
       "        \n",
       "        text-transform: uppercase;\n",
       "        \n",
       "        font-weight: 500;\n",
       "\n",
       "        display: block;\n",
       "        padding: 3px 5px;\n",
       "    }\n",
       "    \n",
       "    .spark-nlp-display-others{\n",
       "        font-size: 14px;\n",
       "        line-height: 24px;\n",
       "        font-family: 'Montserrat', sans-serif !important;\n",
       "        \n",
       "        font-weight: 400;\n",
       "    }\n",
       "\n",
       "</style>\n",
       " <span class=\"spark-nlp-display-others\" style=\"background-color: white\">The </span><span class=\"spark-nlp-display-entity-wrapper\" style=\"background-color: #800080\"><span class=\"spark-nlp-display-entity-name\">Mona Lisa </span><span class=\"spark-nlp-display-entity-type\">PER</span></span><span class=\"spark-nlp-display-others\" style=\"background-color: white\"> is a 16th century oil painting created by </span><span class=\"spark-nlp-display-entity-wrapper\" style=\"background-color: #800080\"><span class=\"spark-nlp-display-entity-name\">Leonardo </span><span class=\"spark-nlp-display-entity-type\">PER</span></span><span class=\"spark-nlp-display-others\" style=\"background-color: white\">. It's held at the </span><span class=\"spark-nlp-display-others\" style=\"background-color: white\">Louvre</span><span class=\"spark-nlp-display-others\" style=\"background-color: white\"> in </span><span class=\"spark-nlp-display-others\" style=\"background-color: white\">Paris</span><span class=\"spark-nlp-display-others\" style=\"background-color: white\">.</span></div>"
      ],
      "text/plain": [
       "<IPython.core.display.HTML object>"
      ]
     },
     "metadata": {
      "tags": []
     },
     "output_type": "display_data"
    }
   ],
   "source": [
    "from sparknlp_display import NerVisualizer\n",
    "visualiser = NerVisualizer()\n",
    "print ('Standard Output')\n",
    "visualiser.display(ppres, label_col='entities', document_col='document')\n",
    "\n",
    "# Change color of an entity label\n",
    "visualiser.set_label_colors({'LOC':'#008080', 'PER':'#800080'})\n",
    "visualiser.display(ppres, label_col='entities')\n",
    "\n",
    "# Set label filter\n",
    "visualiser.display(ppres, label_col='entities', document_col='document',\n",
    "                   labels=['PER'])"
   ]
  },
  {
   "cell_type": "markdown",
   "metadata": {
    "id": "9uD5lGDx012t"
   },
   "source": [
    "#### **Display using Full Pipeline results**"
   ]
  },
  {
   "cell_type": "code",
   "execution_count": 14,
   "metadata": {
    "id": "k41B3NEw1G-j"
   },
   "outputs": [],
   "source": [
    "cpres_f = pipelineModel.transform(spark.createDataFrame(pd.DataFrame({'text':example})))\n",
    "cpres_f = cpres_f.collect()[0]\n",
    "#cpres_f.keys()"
   ]
  },
  {
   "cell_type": "code",
   "execution_count": 15,
   "metadata": {
    "colab": {
     "base_uri": "https://localhost:8080/",
     "height": 88
    },
    "id": "W5flm9TV5HPI",
    "outputId": "7f99eab1-f151-45e7-bed6-0dbe38b4ae22"
   },
   "outputs": [
    {
     "data": {
      "text/html": [
       "\n",
       "<style>\n",
       "    @import url('https://fonts.googleapis.com/css2?family=Montserrat:wght@300;400;500;600;700&display=swap');\n",
       "    @import url('https://fonts.googleapis.com/css2?family=Vistol Regular:wght@300;400;500;600;700&display=swap');\n",
       "    \n",
       "    .spark-nlp-display-scroll-entities {\n",
       "        border: 1px solid #E7EDF0;\n",
       "        border-radius: 3px;\n",
       "        text-align: justify;\n",
       "        \n",
       "    }\n",
       "    .spark-nlp-display-scroll-entities span {  \n",
       "        font-size: 14px;\n",
       "        line-height: 24px;\n",
       "        color: #536B76;\n",
       "        font-family: 'Montserrat', sans-serif !important;\n",
       "    }\n",
       "    \n",
       "    .spark-nlp-display-entity-wrapper{\n",
       "    \n",
       "        display: inline-grid;\n",
       "        text-align: center;\n",
       "        border-radius: 4px;\n",
       "        margin: 0 2px 5px 2px;\n",
       "        padding: 1px\n",
       "    }\n",
       "    .spark-nlp-display-entity-name{\n",
       "        font-size: 14px;\n",
       "        line-height: 24px;\n",
       "        font-family: 'Montserrat', sans-serif !important;\n",
       "        \n",
       "        background: #f1f2f3;\n",
       "        border-width: medium;\n",
       "        text-align: center;\n",
       "        \n",
       "        font-weight: 400;\n",
       "        \n",
       "        border-radius: 5px;\n",
       "        padding: 2px 5px;\n",
       "        display: block;\n",
       "        margin: 3px 2px;\n",
       "    \n",
       "    }\n",
       "    .spark-nlp-display-entity-type{\n",
       "        font-size: 14px;\n",
       "        line-height: 24px;\n",
       "        color: #ffffff;\n",
       "        font-family: 'Montserrat', sans-serif !important;\n",
       "        \n",
       "        text-transform: uppercase;\n",
       "        \n",
       "        font-weight: 500;\n",
       "\n",
       "        display: block;\n",
       "        padding: 3px 5px;\n",
       "    }\n",
       "    \n",
       "    .spark-nlp-display-entity-resolution{\n",
       "        font-size: 14px;\n",
       "        line-height: 24px;\n",
       "        color: #ffffff;\n",
       "        font-family: 'Vistol Regular', sans-serif !important;\n",
       "        \n",
       "        text-transform: uppercase;\n",
       "        \n",
       "        font-weight: 500;\n",
       "\n",
       "        display: block;\n",
       "        padding: 3px 5px;\n",
       "    }\n",
       "    \n",
       "    .spark-nlp-display-others{\n",
       "        font-size: 14px;\n",
       "        line-height: 24px;\n",
       "        font-family: 'Montserrat', sans-serif !important;\n",
       "        \n",
       "        font-weight: 400;\n",
       "    }\n",
       "\n",
       "</style>\n",
       " <span class=\"spark-nlp-display-others\" style=\"background-color: white\">The </span><span class=\"spark-nlp-display-entity-wrapper\" style=\"background-color: #800080\"><span class=\"spark-nlp-display-entity-name\">Mona Lisa </span><span class=\"spark-nlp-display-entity-type\">PER</span></span><span class=\"spark-nlp-display-others\" style=\"background-color: white\"> is a 16th century oil painting created by </span><span class=\"spark-nlp-display-entity-wrapper\" style=\"background-color: #800080\"><span class=\"spark-nlp-display-entity-name\">Leonardo </span><span class=\"spark-nlp-display-entity-type\">PER</span></span><span class=\"spark-nlp-display-others\" style=\"background-color: white\">. </span><span class=\"spark-nlp-display-entity-wrapper\" style=\"background-color: #800080\"><span class=\"spark-nlp-display-entity-name\">It's </span><span class=\"spark-nlp-display-entity-type\">PER</span></span><span class=\"spark-nlp-display-others\" style=\"background-color: white\"> held at the </span><span class=\"spark-nlp-display-entity-wrapper\" style=\"background-color: #008080\"><span class=\"spark-nlp-display-entity-name\">Louvre </span><span class=\"spark-nlp-display-entity-type\">LOC</span></span><span class=\"spark-nlp-display-others\" style=\"background-color: white\"> in </span><span class=\"spark-nlp-display-entity-wrapper\" style=\"background-color: #008080\"><span class=\"spark-nlp-display-entity-name\">Paris </span><span class=\"spark-nlp-display-entity-type\">LOC</span></span><span class=\"spark-nlp-display-others\" style=\"background-color: white\">.</span></div>"
      ],
      "text/plain": [
       "<IPython.core.display.HTML object>"
      ]
     },
     "metadata": {
      "tags": []
     },
     "output_type": "display_data"
    }
   ],
   "source": [
    "visualiser.display(cpres_f, label_col='entities', document_col='document')"
   ]
  },
  {
   "cell_type": "markdown",
   "metadata": {
    "id": "C9fx_gGjHtrr"
   },
   "source": [
    "# **Licensed Models' Visualisations**"
   ]
  },
  {
   "cell_type": "markdown",
   "metadata": {
    "id": "-ULLif4vH-K3"
   },
   "source": [
    "#### Restart Session and install Spark NLP JSL"
   ]
  },
  {
   "cell_type": "code",
   "execution_count": null,
   "metadata": {
    "id": "OASqP-PCIMuh"
   },
   "outputs": [],
   "source": [
    "import os\n",
    "\n",
    "def restart_runtime():\n",
    "  os.kill(os.getpid(), 9)\n",
    "restart_runtime()"
   ]
  },
  {
   "cell_type": "code",
   "execution_count": 1,
   "metadata": {
    "colab": {
     "base_uri": "https://localhost:8080/"
    },
    "id": "qDqIXsRsH9VR",
    "outputId": "da3ff825-7f9a-43cc-c410-c8df74af007b"
   },
   "outputs": [
    {
     "name": "stdout",
     "output_type": "stream",
     "text": [
      "SparkNLP Version: 2.6.3\n",
      "SparkNLP-JSL Version: 2.7.0\n"
     ]
    }
   ],
   "source": [
    "import os\n",
    "import json\n",
    "\n",
    "with open('/content/spark_nlp_for_healthcare.json', 'r') as f:\n",
    "    license_keys = json.load(f)\n",
    "\n",
    "license_keys.keys()\n",
    "\n",
    "secret = license_keys['SECRET']\n",
    "os.environ['SPARK_NLP_LICENSE'] = license_keys['SPARK_NLP_LICENSE']\n",
    "os.environ['AWS_ACCESS_KEY_ID'] = license_keys['AWS_ACCESS_KEY_ID']\n",
    "os.environ['AWS_SECRET_ACCESS_KEY'] = license_keys['AWS_SECRET_ACCESS_KEY']\n",
    "sparknlp_version = license_keys[\"PUBLIC_VERSION\"]\n",
    "jsl_version = license_keys[\"JSL_VERSION\"]\n",
    "\n",
    "print ('SparkNLP Version:', sparknlp_version)\n",
    "print ('SparkNLP-JSL Version:', jsl_version)\n"
   ]
  },
  {
   "cell_type": "code",
   "execution_count": 2,
   "metadata": {
    "colab": {
     "base_uri": "https://localhost:8080/"
    },
    "id": "KZmofa2aIVZb",
    "outputId": "db61f4a1-6e34-4422-8451-b5f06db87bb6"
   },
   "outputs": [
    {
     "name": "stdout",
     "output_type": "stream",
     "text": [
      "Looking in indexes: https://pypi.org/simple, https://pypi.johnsnowlabs.com/2.7.0-e49fd2919a73690cd04ed3b6e223e21330c5214b\n",
      "Collecting spark-nlp-jsl==2.7.0\n",
      "\u001b[?25l  Downloading https://pypi.johnsnowlabs.com/2.7.0-e49fd2919a73690cd04ed3b6e223e21330c5214b/spark-nlp-jsl/spark_nlp_jsl-2.7.0-py3-none-any.whl (44kB)\n",
      "\u001b[K     |████████████████████████████████| 51kB 383kB/s \n",
      "\u001b[?25hRequirement already satisfied, skipping upgrade: spark-nlp==2.6.3 in /usr/local/lib/python3.6/dist-packages (from spark-nlp-jsl==2.7.0) (2.6.3)\n",
      "Installing collected packages: spark-nlp-jsl\n",
      "Successfully installed spark-nlp-jsl-2.7.0\n"
     ]
    }
   ],
   "source": [
    "# install sparknlp-jsl\n",
    "!python -m pip install --upgrade spark-nlp-jsl==$jsl_version --extra-index-url https://pypi.johnsnowlabs.com/$secret\n"
   ]
  },
  {
   "cell_type": "code",
   "execution_count": 3,
   "metadata": {
    "id": "iPmd8DrOIOqx"
   },
   "outputs": [],
   "source": [
    "import pandas as pd\n",
    "import numpy as np\n",
    "import os\n",
    "os.environ[\"JAVA_HOME\"] = \"/usr/lib/jvm/java-8-openjdk-amd64\"\n",
    "import json\n",
    "from pyspark.ml import Pipeline\n",
    "from pyspark.sql import SparkSession\n",
    "import pyspark.sql.functions as F\n",
    "from sparknlp.annotator import *\n",
    "from sparknlp.base import *\n",
    "import sparknlp\n",
    "from sparknlp.pretrained import PretrainedPipeline\n",
    "from sparknlp.annotator import *\n",
    "from sparknlp.base import *\n",
    "import sparknlp_jsl\n",
    "from sparknlp_jsl.annotator import *\n",
    "spark = sparknlp_jsl.start(secret)"
   ]
  },
  {
   "cell_type": "markdown",
   "metadata": {
    "id": "3CwVx_r00-OA"
   },
   "source": [
    "## **Relation Extraction Visualisation**"
   ]
  },
  {
   "cell_type": "code",
   "execution_count": 4,
   "metadata": {
    "colab": {
     "base_uri": "https://localhost:8080/"
    },
    "id": "hUVa2TXn1PaY",
    "outputId": "6b46d79f-b04f-4b25-8b43-89544d7c3c4f"
   },
   "outputs": [
    {
     "name": "stdout",
     "output_type": "stream",
     "text": [
      "pos_clinical download started this may take some time.\n",
      "Approximate size to download 1.7 MB\n",
      "[OK!]\n",
      "dependency_conllu download started this may take some time.\n",
      "Approximate size to download 16.6 MB\n",
      "[OK!]\n",
      "embeddings_clinical download started this may take some time.\n",
      "Approximate size to download 1.6 GB\n",
      "[OK!]\n",
      "ner_clinical download started this may take some time.\n",
      "Approximate size to download 13.8 MB\n",
      "[OK!]\n",
      "re_clinical download started this may take some time.\n",
      "Approximate size to download 6 MB\n",
      "[OK!]\n"
     ]
    }
   ],
   "source": [
    "document_assembler = DocumentAssembler() \\\n",
    "    .setInputCol('text')\\\n",
    "    .setOutputCol('document')\n",
    "\n",
    "sentence_detector = SentenceDetector() \\\n",
    "    .setInputCols(['document'])\\\n",
    "    .setOutputCol('sentences')\n",
    "\n",
    "tokenizer = Tokenizer()\\\n",
    "    .setInputCols(['sentences']) \\\n",
    "    .setOutputCol('tokens')\n",
    "\n",
    "pos_tagger = PerceptronModel()\\\n",
    "    .pretrained(\"pos_clinical\", \"en\", \"clinical/models\") \\\n",
    "    .setInputCols([\"sentences\", \"tokens\"])\\\n",
    "    .setOutputCol(\"pos_tags\")\n",
    "\n",
    "dependency_parser = DependencyParserModel()\\\n",
    "    .pretrained(\"dependency_conllu\", \"en\")\\\n",
    "    .setInputCols([\"sentences\", \"pos_tags\", \"tokens\"])\\\n",
    "    .setOutputCol(\"dependencies\")\n",
    "\n",
    "embeddings = WordEmbeddingsModel.pretrained('embeddings_clinical', 'en', 'clinical/models')\\\n",
    "    .setInputCols([\"sentences\", \"tokens\"])\\\n",
    "    .setOutputCol(\"embeddings\")\n",
    "\n",
    "posology_ner_model = NerDLModel().pretrained('ner_clinical', 'en', 'clinical/models')\\\n",
    "    .setInputCols(\"sentences\", \"tokens\", \"embeddings\")\\\n",
    "    .setOutputCol(\"ner_tags\")   \n",
    "\n",
    "ner_chunker = NerConverter()\\\n",
    "    .setInputCols([\"sentences\", \"tokens\", \"ner_tags\"])\\\n",
    "    .setOutputCol(\"ner_chunk\")\n",
    "\n",
    "posology_re_Model = RelationExtractionModel()\\\n",
    "    .pretrained(\"re_clinical\", \"en\", \"clinical/models\")\\\n",
    "    .setInputCols([\"embeddings\", \"pos_tags\", \"ner_chunk\", \"dependencies\"])\\\n",
    "    .setOutputCol(\"relations\")\\\n",
    "    .setMaxSyntacticDistance(7)\n",
    "    \n",
    "pipeline = Pipeline(stages=[\n",
    "    document_assembler, \n",
    "    sentence_detector,\n",
    "    tokenizer,\n",
    "    pos_tagger,\n",
    "    dependency_parser,\n",
    "    embeddings,\n",
    "    posology_ner_model,\n",
    "    ner_chunker,\n",
    "    posology_re_Model])\n",
    "\n",
    "empty_df = spark.createDataFrame([['']]).toDF(\"text\")\n",
    "pipelineModel = pipeline.fit(empty_df)\n",
    "\n",
    "lmodel = sparknlp.base.LightPipeline(pipelineModel)"
   ]
  },
  {
   "cell_type": "code",
   "execution_count": 5,
   "metadata": {
    "colab": {
     "base_uri": "https://localhost:8080/",
     "height": 1000
    },
    "id": "hvWWUS5l1Tky",
    "outputId": "ac717bf5-f9cb-4d5c-85dd-ccfa84e64de4"
   },
   "outputs": [
    {
     "data": {
      "text/html": [
       "<svg baseProfile=\"full\" height=\"2075\" version=\"1.1\" width=\"920\" xmlns=\"http://www.w3.org/2000/svg\" xmlns:ev=\"http://www.w3.org/2001/xml-events\" xmlns:xlink=\"http://www.w3.org/1999/xlink\"><defs><style type=\"text/css\"><![CDATA[@font-face{ \n",
       "    font-family: \"Lucida\"; \n",
       "    src: url(\"data:application/x-font-ttf;charset=utf-8;base64,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\"); \n",
       "}\n",
       "]]></style></defs><rect fill=\"#e6ccff\" fill-opacity=\"0.2\" height=\"25\" rx=\"2\" ry=\"2\" stroke=\"#e6ccff\" stroke-width=\"1\" width=\"286.0\" x=\"250.09999999999997\" y=\"157\" /><rect fill=\"#cceeff\" fill-opacity=\"0.2\" height=\"25\" rx=\"2\" ry=\"2\" stroke=\"#cceeff\" stroke-width=\"1\" width=\"169.6\" x=\"7\" y=\"257\" /><rect fill=\"#e6ccff\" fill-opacity=\"0.2\" height=\"25\" rx=\"2\" ry=\"2\" stroke=\"#e6ccff\" stroke-width=\"1\" width=\"353.9\" x=\"376.8\" y=\"257\" /><rect fill=\"#cceeff\" fill-opacity=\"0.2\" height=\"25\" rx=\"2\" ry=\"2\" stroke=\"#cceeff\" stroke-width=\"1\" width=\"363.59999999999997\" x=\"21.7\" y=\"357\" /><rect fill=\"#e6ccff\" fill-opacity=\"0.2\" height=\"25\" rx=\"2\" ry=\"2\" stroke=\"#e6ccff\" stroke-width=\"1\" width=\"189.0\" x=\"697.1999999999999\" y=\"357\" /><rect fill=\"#ffffcc\" fill-opacity=\"0.2\" height=\"25\" rx=\"2\" ry=\"2\" stroke=\"#ffffcc\" stroke-width=\"1\" width=\"276.29999999999995\" x=\"425.2999999999999\" y=\"457\" /><rect fill=\"#ffffcc\" fill-opacity=\"0.2\" height=\"25\" rx=\"2\" ry=\"2\" stroke=\"#ffffcc\" stroke-width=\"1\" width=\"392.7\" x=\"7\" y=\"557\" /><rect fill=\"#cceeff\" fill-opacity=\"0.2\" height=\"25\" rx=\"2\" ry=\"2\" stroke=\"#cceeff\" stroke-width=\"1\" width=\"82.3\" x=\"755.6999999999999\" y=\"657\" /><rect fill=\"#cceeff\" fill-opacity=\"0.2\" height=\"25\" rx=\"2\" ry=\"2\" stroke=\"#cceeff\" stroke-width=\"1\" width=\"92.0\" x=\"21.7\" y=\"757\" /><rect fill=\"#cceeff\" fill-opacity=\"0.2\" height=\"25\" rx=\"2\" ry=\"2\" stroke=\"#cceeff\" stroke-width=\"1\" width=\"82.3\" x=\"172.79999999999998\" y=\"757\" /><rect fill=\"#cceeff\" fill-opacity=\"0.2\" height=\"25\" rx=\"2\" ry=\"2\" stroke=\"#cceeff\" stroke-width=\"1\" width=\"198.7\" x=\"401.7999999999999\" y=\"757\" /><rect fill=\"#ffffcc\" fill-opacity=\"0.2\" height=\"25\" rx=\"2\" ry=\"2\" stroke=\"#ffffcc\" stroke-width=\"1\" width=\"101.69999999999999\" x=\"751.0\" y=\"857\" /><rect fill=\"#cceeff\" fill-opacity=\"0.2\" height=\"25\" rx=\"2\" ry=\"2\" stroke=\"#cceeff\" stroke-width=\"1\" width=\"315.09999999999997\" x=\"561.4000000000001\" y=\"957\" /><rect fill=\"#cceeff\" fill-opacity=\"0.2\" height=\"25\" rx=\"2\" ry=\"2\" stroke=\"#cceeff\" stroke-width=\"1\" width=\"82.3\" x=\"566.4000000000001\" y=\"1057\" /><rect fill=\"#cceeff\" fill-opacity=\"0.2\" height=\"25\" rx=\"2\" ry=\"2\" stroke=\"#cceeff\" stroke-width=\"1\" width=\"315.09999999999997\" x=\"7\" y=\"1157\" /><rect fill=\"#cceeff\" fill-opacity=\"0.2\" height=\"25\" rx=\"2\" ry=\"2\" stroke=\"#cceeff\" stroke-width=\"1\" width=\"392.7\" x=\"493.2\" y=\"1157\" /><rect fill=\"#cceeff\" fill-opacity=\"0.2\" height=\"25\" rx=\"2\" ry=\"2\" stroke=\"#cceeff\" stroke-width=\"1\" width=\"130.79999999999998\" x=\"337.69999999999993\" y=\"1357\" /><rect fill=\"#ffffcc\" fill-opacity=\"0.2\" height=\"25\" rx=\"2\" ry=\"2\" stroke=\"#ffffcc\" stroke-width=\"1\" width=\"256.9\" x=\"7\" y=\"1457\" /><rect fill=\"#ffffcc\" fill-opacity=\"0.2\" height=\"25\" rx=\"2\" ry=\"2\" stroke=\"#ffffcc\" stroke-width=\"1\" width=\"256.9\" x=\"128.7\" y=\"1557\" /><rect fill=\"#ffffcc\" fill-opacity=\"0.2\" height=\"25\" rx=\"2\" ry=\"2\" stroke=\"#ffffcc\" stroke-width=\"1\" width=\"92.0\" x=\"507.8999999999999\" y=\"1557\" /><rect fill=\"#cceeff\" fill-opacity=\"0.2\" height=\"25\" rx=\"2\" ry=\"2\" stroke=\"#cceeff\" stroke-width=\"1\" width=\"392.7\" x=\"396.2\" y=\"1757\" /><rect fill=\"#cceeff\" fill-opacity=\"0.2\" height=\"25\" rx=\"2\" ry=\"2\" stroke=\"#cceeff\" stroke-width=\"1\" width=\"208.39999999999998\" x=\"7\" y=\"1857\" /><text fill=\"#546c74\" font-family=\"Lucida\" font-size=\"16\" style=\"font-weight:100\" x=\"10\" y=\"75\">This</text><text fill=\"#546c74\" font-family=\"Lucida\" font-size=\"16\" style=\"font-weight:100\" x=\"63.5\" y=\"75\">is</text><text fill=\"#546c74\" font-family=\"Lucida\" font-size=\"16\" style=\"font-weight:100\" x=\"97.6\" y=\"75\">the</text><text fill=\"#546c74\" font-family=\"Lucida\" font-size=\"16\" style=\"font-weight:100\" x=\"141.39999999999998\" y=\"75\">case</text><text fill=\"#546c74\" font-family=\"Lucida\" font-size=\"16\" style=\"font-weight:100\" x=\"194.89999999999998\" y=\"75\">of</text><text fill=\"#546c74\" font-family=\"Lucida\" font-size=\"16\" style=\"font-weight:100\" x=\"228.99999999999997\" y=\"75\">a</text><text fill=\"#546c74\" font-family=\"Lucida\" font-size=\"16\" style=\"font-weight:100\" x=\"253.39999999999998\" y=\"75\">very</text><text fill=\"#546c74\" font-family=\"Lucida\" font-size=\"16\" style=\"font-weight:100\" x=\"306.9\" y=\"75\">pleasant</text><text fill=\"#546c74\" font-family=\"Lucida\" font-size=\"16\" style=\"font-weight:100\" x=\"399.2\" y=\"75\">46-year-old</text><text fill=\"#546c74\" font-family=\"Lucida\" font-size=\"16\" style=\"font-weight:100\" x=\"520.6\" y=\"75\">Caucasian</text><text fill=\"#546c74\" font-family=\"Lucida\" font-size=\"16\" style=\"font-weight:100\" x=\"622.6\" y=\"75\">female,</text><text fill=\"#546c74\" font-family=\"Lucida\" font-size=\"16\" style=\"font-weight:100\" x=\"705.2\" y=\"75\">seen</text><text fill=\"#546c74\" font-family=\"Lucida\" font-size=\"16\" style=\"font-weight:100\" x=\"758.7\" y=\"75\">in</text><text fill=\"#546c74\" font-family=\"Lucida\" font-size=\"16\" style=\"font-weight:100\" x=\"792.8000000000001\" y=\"75\">clinic</text><text fill=\"#546c74\" font-family=\"Lucida\" font-size=\"16\" style=\"font-weight:100\" x=\"865.7\" y=\"75\">on</text><text fill=\"#546c74\" font-family=\"Lucida\" font-size=\"16\" style=\"font-weight:100\" x=\"10\" y=\"175\">12/11/07</text><text fill=\"#546c74\" font-family=\"Lucida\" font-size=\"16\" style=\"font-weight:100\" x=\"102.3\" y=\"175\">during</text><text fill=\"#546c74\" font-family=\"Lucida\" font-size=\"16\" style=\"font-weight:100\" x=\"175.2\" y=\"175\">which</text><text fill=\"#546c74\" font-family=\"Lucida\" font-size=\"16\" style=\"font-weight:100\" x=\"238.39999999999998\" y=\"175\" /><text fill=\"#546c74\" font-family=\"Lucida\" font-size=\"16\" style=\"font-weight:100\" x=\"253.09999999999997\" y=\"175\">time MRI of the left shoulder</text><text fill=\"#1f77b7\" font-family=\"Lucida\" font-size=\"12\" style=\"font-weight:lighter\" x=\"380.28181818181815\" y=\"195\">TEST</text><text fill=\"#546c74\" font-family=\"Lucida\" font-size=\"16\" style=\"font-weight:100\" x=\"559.0999999999999\" y=\"175\" /><text fill=\"#546c74\" font-family=\"Lucida\" font-size=\"16\" style=\"font-weight:100\" x=\"573.8\" y=\"175\">showed</text><text fill=\"#546c74\" font-family=\"Lucida\" font-size=\"16\" style=\"font-weight:100\" x=\"646.6999999999999\" y=\"175\">no</text><text fill=\"#546c74\" font-family=\"Lucida\" font-size=\"16\" style=\"font-weight:100\" x=\"680.8\" y=\"175\">evidence</text><text fill=\"#546c74\" font-family=\"Lucida\" font-size=\"16\" style=\"font-weight:100\" x=\"773.0999999999999\" y=\"175\">of</text><text fill=\"#546c74\" font-family=\"Lucida\" font-size=\"16\" style=\"font-weight:100\" x=\"807.1999999999999\" y=\"175\" /><text fill=\"#546c74\" font-family=\"Lucida\" font-size=\"16\" style=\"font-weight:100\" x=\"10\" y=\"275\">rotator cuff tear</text><text fill=\"#1f77b7\" font-family=\"Lucida\" font-size=\"12\" style=\"font-weight:lighter\" x=\"68.4\" y=\"295\">PROBLEM</text><text fill=\"#546c74\" font-family=\"Lucida\" font-size=\"16\" style=\"font-weight:100\" x=\"199.6\" y=\"275\">.</text><text fill=\"#546c74\" font-family=\"Lucida\" font-size=\"16\" style=\"font-weight:100\" x=\"224.0\" y=\"275\">She</text><text fill=\"#546c74\" font-family=\"Lucida\" font-size=\"16\" style=\"font-weight:100\" x=\"267.8\" y=\"275\">did</text><text fill=\"#546c74\" font-family=\"Lucida\" font-size=\"16\" style=\"font-weight:100\" x=\"311.6\" y=\"275\">have</text><text fill=\"#546c74\" font-family=\"Lucida\" font-size=\"16\" style=\"font-weight:100\" x=\"365.1\" y=\"275\" /><text fill=\"#546c74\" font-family=\"Lucida\" font-size=\"16\" style=\"font-weight:100\" x=\"379.8\" y=\"275\">a previous MRI of the cervical spine</text><text fill=\"#1f77b7\" font-family=\"Lucida\" font-size=\"12\" style=\"font-weight:lighter\" x=\"540.9318181818181\" y=\"295\">TEST</text><text fill=\"#546c74\" font-family=\"Lucida\" font-size=\"16\" style=\"font-weight:100\" x=\"753.7\" y=\"275\" /><text fill=\"#546c74\" font-family=\"Lucida\" font-size=\"16\" style=\"font-weight:100\" x=\"768.4000000000001\" y=\"275\">that</text><text fill=\"#546c74\" font-family=\"Lucida\" font-size=\"16\" style=\"font-weight:100\" x=\"821.9000000000001\" y=\"275\">did</text><text fill=\"#546c74\" font-family=\"Lucida\" font-size=\"16\" style=\"font-weight:100\" x=\"865.7\" y=\"275\">show</text><text fill=\"#546c74\" font-family=\"Lucida\" font-size=\"16\" style=\"font-weight:100\" x=\"10\" y=\"375\" /><text fill=\"#546c74\" font-family=\"Lucida\" font-size=\"16\" style=\"font-weight:100\" x=\"24.7\" y=\"375\">an osteophyte on the left C6-C7 level</text><text fill=\"#1f77b7\" font-family=\"Lucida\" font-size=\"12\" style=\"font-weight:lighter\" x=\"180.09999999999997\" y=\"395\">PROBLEM</text><text fill=\"#546c74\" font-family=\"Lucida\" font-size=\"16\" style=\"font-weight:100\" x=\"408.29999999999995\" y=\"375\">.</text><text fill=\"#546c74\" font-family=\"Lucida\" font-size=\"16\" style=\"font-weight:100\" x=\"432.69999999999993\" y=\"375\">Based</text><text fill=\"#546c74\" font-family=\"Lucida\" font-size=\"16\" style=\"font-weight:100\" x=\"495.8999999999999\" y=\"375\">on</text><text fill=\"#546c74\" font-family=\"Lucida\" font-size=\"16\" style=\"font-weight:100\" x=\"529.9999999999999\" y=\"375\">this,</text><text fill=\"#546c74\" font-family=\"Lucida\" font-size=\"16\" style=\"font-weight:100\" x=\"593.1999999999999\" y=\"375\">negative</text><text fill=\"#546c74\" font-family=\"Lucida\" font-size=\"16\" style=\"font-weight:100\" x=\"685.4999999999999\" y=\"375\" /><text fill=\"#546c74\" font-family=\"Lucida\" font-size=\"16\" style=\"font-weight:100\" x=\"700.1999999999999\" y=\"375\">MRI of the shoulder</text><text fill=\"#1f77b7\" font-family=\"Lucida\" font-size=\"12\" style=\"font-weight:lighter\" x=\"778.8818181818181\" y=\"395\">TEST</text><text fill=\"#546c74\" font-family=\"Lucida\" font-size=\"16\" style=\"font-weight:100\" x=\"10\" y=\"475\">,</text><text fill=\"#546c74\" font-family=\"Lucida\" font-size=\"16\" style=\"font-weight:100\" x=\"34.4\" y=\"475\">the</text><text fill=\"#546c74\" font-family=\"Lucida\" font-size=\"16\" style=\"font-weight:100\" x=\"78.19999999999999\" y=\"475\">patient</text><text fill=\"#546c74\" font-family=\"Lucida\" font-size=\"16\" style=\"font-weight:100\" x=\"160.79999999999998\" y=\"475\">was</text><text fill=\"#546c74\" font-family=\"Lucida\" font-size=\"16\" style=\"font-weight:100\" x=\"204.59999999999997\" y=\"475\">recommended</text><text fill=\"#546c74\" font-family=\"Lucida\" font-size=\"16\" style=\"font-weight:100\" x=\"325.99999999999994\" y=\"475\">to</text><text fill=\"#546c74\" font-family=\"Lucida\" font-size=\"16\" style=\"font-weight:100\" x=\"360.0999999999999\" y=\"475\">have</text><text fill=\"#546c74\" font-family=\"Lucida\" font-size=\"16\" style=\"font-weight:100\" x=\"413.5999999999999\" y=\"475\" /><text fill=\"#546c74\" font-family=\"Lucida\" font-size=\"16\" style=\"font-weight:100\" x=\"428.2999999999999\" y=\"475\">anterior cervical discectomy</text><text fill=\"#1f77b7\" font-family=\"Lucida\" font-size=\"12\" style=\"font-weight:lighter\" x=\"532.9954545454543\" y=\"495\">TREATMENT</text><text fill=\"#546c74\" font-family=\"Lucida\" font-size=\"16\" style=\"font-weight:100\" x=\"724.5999999999999\" y=\"475\" /><text fill=\"#546c74\" font-family=\"Lucida\" font-size=\"16\" style=\"font-weight:100\" x=\"739.3\" y=\"475\">with</text><text fill=\"#546c74\" font-family=\"Lucida\" font-size=\"16\" style=\"font-weight:100\" x=\"792.8\" y=\"475\" /><text fill=\"#546c74\" font-family=\"Lucida\" font-size=\"16\" style=\"font-weight:100\" x=\"10\" y=\"575\">anterior interbody fusion at C6-C7 level</text><text fill=\"#1f77b7\" font-family=\"Lucida\" font-size=\"12\" style=\"font-weight:lighter\" x=\"172.89545454545453\" y=\"595\">TREATMENT</text><text fill=\"#546c74\" font-family=\"Lucida\" font-size=\"16\" style=\"font-weight:100\" x=\"422.7\" y=\"575\">.</text><text fill=\"#546c74\" font-family=\"Lucida\" font-size=\"16\" style=\"font-weight:100\" x=\"447.09999999999997\" y=\"575\">Operation,</text><text fill=\"#546c74\" font-family=\"Lucida\" font-size=\"16\" style=\"font-weight:100\" x=\"558.8\" y=\"575\">expected</text><text fill=\"#546c74\" font-family=\"Lucida\" font-size=\"16\" style=\"font-weight:100\" x=\"651.0999999999999\" y=\"575\">outcome,</text><text fill=\"#546c74\" font-family=\"Lucida\" font-size=\"16\" style=\"font-weight:100\" x=\"743.3999999999999\" y=\"575\">risks,</text><text fill=\"#546c74\" font-family=\"Lucida\" font-size=\"16\" style=\"font-weight:100\" x=\"816.2999999999998\" y=\"575\">and</text><text fill=\"#546c74\" font-family=\"Lucida\" font-size=\"16\" style=\"font-weight:100\" x=\"10\" y=\"675\">benefits</text><text fill=\"#546c74\" font-family=\"Lucida\" font-size=\"16\" style=\"font-weight:100\" x=\"102.3\" y=\"675\">were</text><text fill=\"#546c74\" font-family=\"Lucida\" font-size=\"16\" style=\"font-weight:100\" x=\"155.8\" y=\"675\">discussed</text><text fill=\"#546c74\" font-family=\"Lucida\" font-size=\"16\" style=\"font-weight:100\" x=\"257.8\" y=\"675\">with</text><text fill=\"#546c74\" font-family=\"Lucida\" font-size=\"16\" style=\"font-weight:100\" x=\"311.3\" y=\"675\">her.</text><text fill=\"#546c74\" font-family=\"Lucida\" font-size=\"16\" style=\"font-weight:100\" x=\"364.8\" y=\"675\">Risks</text><text fill=\"#546c74\" font-family=\"Lucida\" font-size=\"16\" style=\"font-weight:100\" x=\"428.0\" y=\"675\">include,</text><text fill=\"#546c74\" font-family=\"Lucida\" font-size=\"16\" style=\"font-weight:100\" x=\"520.3\" y=\"675\">but</text><text fill=\"#546c74\" font-family=\"Lucida\" font-size=\"16\" style=\"font-weight:100\" x=\"564.0999999999999\" y=\"675\">not</text><text fill=\"#546c74\" font-family=\"Lucida\" font-size=\"16\" style=\"font-weight:100\" x=\"607.8999999999999\" y=\"675\">exclusive</text><text fill=\"#546c74\" font-family=\"Lucida\" font-size=\"16\" style=\"font-weight:100\" x=\"709.8999999999999\" y=\"675\">of</text><text fill=\"#546c74\" font-family=\"Lucida\" font-size=\"16\" style=\"font-weight:100\" x=\"743.9999999999999\" y=\"675\" /><text fill=\"#546c74\" font-family=\"Lucida\" font-size=\"16\" style=\"font-weight:100\" x=\"758.6999999999999\" y=\"675\">bleeding</text><text fill=\"#1f77b7\" font-family=\"Lucida\" font-size=\"12\" style=\"font-weight:lighter\" x=\"773.4499999999999\" y=\"695\">PROBLEM</text><text fill=\"#546c74\" font-family=\"Lucida\" font-size=\"16\" style=\"font-weight:100\" x=\"860.9999999999999\" y=\"675\" /><text fill=\"#546c74\" font-family=\"Lucida\" font-size=\"16\" style=\"font-weight:100\" x=\"875.6999999999999\" y=\"675\">and</text><text fill=\"#546c74\" font-family=\"Lucida\" font-size=\"16\" style=\"font-weight:100\" x=\"10\" y=\"775\" /><text fill=\"#546c74\" font-family=\"Lucida\" font-size=\"16\" style=\"font-weight:100\" x=\"24.7\" y=\"775\">infection</text><text fill=\"#1f77b7\" font-family=\"Lucida\" font-size=\"12\" style=\"font-weight:lighter\" x=\"44.300000000000004\" y=\"795\">PROBLEM</text><text fill=\"#546c74\" font-family=\"Lucida\" font-size=\"16\" style=\"font-weight:100\" x=\"136.7\" y=\"775\">,</text><text fill=\"#546c74\" font-family=\"Lucida\" font-size=\"16\" style=\"font-weight:100\" x=\"161.1\" y=\"775\" /><text fill=\"#546c74\" font-family=\"Lucida\" font-size=\"16\" style=\"font-weight:100\" x=\"175.79999999999998\" y=\"775\">bleeding</text><text fill=\"#1f77b7\" font-family=\"Lucida\" font-size=\"12\" style=\"font-weight:lighter\" x=\"190.54999999999998\" y=\"795\">PROBLEM</text><text fill=\"#546c74\" font-family=\"Lucida\" font-size=\"16\" style=\"font-weight:100\" x=\"278.09999999999997\" y=\"775\" /><text fill=\"#546c74\" font-family=\"Lucida\" font-size=\"16\" style=\"font-weight:100\" x=\"292.79999999999995\" y=\"775\">could</text><text fill=\"#546c74\" font-family=\"Lucida\" font-size=\"16\" style=\"font-weight:100\" x=\"355.99999999999994\" y=\"775\">be</text><text fill=\"#546c74\" font-family=\"Lucida\" font-size=\"16\" style=\"font-weight:100\" x=\"390.0999999999999\" y=\"775\" /><text fill=\"#546c74\" font-family=\"Lucida\" font-size=\"16\" style=\"font-weight:100\" x=\"404.7999999999999\" y=\"775\">soft tissue bleeding</text><text fill=\"#1f77b7\" font-family=\"Lucida\" font-size=\"12\" style=\"font-weight:lighter\" x=\"477.7499999999999\" y=\"795\">PROBLEM</text><text fill=\"#546c74\" font-family=\"Lucida\" font-size=\"16\" style=\"font-weight:100\" x=\"623.4999999999999\" y=\"775\">,</text><text fill=\"#546c74\" font-family=\"Lucida\" font-size=\"16\" style=\"font-weight:100\" x=\"647.8999999999999\" y=\"775\">which</text><text fill=\"#546c74\" font-family=\"Lucida\" font-size=\"16\" style=\"font-weight:100\" x=\"711.0999999999999\" y=\"775\">may</text><text fill=\"#546c74\" font-family=\"Lucida\" font-size=\"16\" style=\"font-weight:100\" x=\"754.8999999999999\" y=\"775\">compromise</text><text fill=\"#546c74\" font-family=\"Lucida\" font-size=\"16\" style=\"font-weight:100\" x=\"10\" y=\"875\">airway</text><text fill=\"#546c74\" font-family=\"Lucida\" font-size=\"16\" style=\"font-weight:100\" x=\"82.89999999999999\" y=\"875\">and</text><text fill=\"#546c74\" font-family=\"Lucida\" font-size=\"16\" style=\"font-weight:100\" x=\"126.69999999999999\" y=\"875\">may</text><text fill=\"#546c74\" font-family=\"Lucida\" font-size=\"16\" style=\"font-weight:100\" x=\"170.5\" y=\"875\">result</text><text fill=\"#546c74\" font-family=\"Lucida\" font-size=\"16\" style=\"font-weight:100\" x=\"243.39999999999998\" y=\"875\">in</text><text fill=\"#546c74\" font-family=\"Lucida\" font-size=\"16\" style=\"font-weight:100\" x=\"277.5\" y=\"875\">return</text><text fill=\"#546c74\" font-family=\"Lucida\" font-size=\"16\" style=\"font-weight:100\" x=\"350.4\" y=\"875\">to</text><text fill=\"#546c74\" font-family=\"Lucida\" font-size=\"16\" style=\"font-weight:100\" x=\"384.5\" y=\"875\">the</text><text fill=\"#546c74\" font-family=\"Lucida\" font-size=\"16\" style=\"font-weight:100\" x=\"428.3\" y=\"875\">operating</text><text fill=\"#546c74\" font-family=\"Lucida\" font-size=\"16\" style=\"font-weight:100\" x=\"530.3\" y=\"875\">room</text><text fill=\"#546c74\" font-family=\"Lucida\" font-size=\"16\" style=\"font-weight:100\" x=\"583.8\" y=\"875\">emergently</text><text fill=\"#546c74\" font-family=\"Lucida\" font-size=\"16\" style=\"font-weight:100\" x=\"695.5\" y=\"875\">for</text><text fill=\"#546c74\" font-family=\"Lucida\" font-size=\"16\" style=\"font-weight:100\" x=\"739.3\" y=\"875\" /><text fill=\"#546c74\" font-family=\"Lucida\" font-size=\"16\" style=\"font-weight:100\" x=\"754.0\" y=\"875\">evacuation</text><text fill=\"#1f77b7\" font-family=\"Lucida\" font-size=\"12\" style=\"font-weight:lighter\" x=\"771.3954545454545\" y=\"895\">TREATMENT</text><text fill=\"#546c74\" font-family=\"Lucida\" font-size=\"16\" style=\"font-weight:100\" x=\"875.7\" y=\"875\" /><text fill=\"#546c74\" font-family=\"Lucida\" font-size=\"16\" style=\"font-weight:100\" x=\"10\" y=\"975\">of</text><text fill=\"#546c74\" font-family=\"Lucida\" font-size=\"16\" style=\"font-weight:100\" x=\"44.099999999999994\" y=\"975\">said</text><text fill=\"#546c74\" font-family=\"Lucida\" font-size=\"16\" style=\"font-weight:100\" x=\"97.6\" y=\"975\">hematoma.</text><text fill=\"#546c74\" font-family=\"Lucida\" font-size=\"16\" style=\"font-weight:100\" x=\"199.6\" y=\"975\">There</text><text fill=\"#546c74\" font-family=\"Lucida\" font-size=\"16\" style=\"font-weight:100\" x=\"262.8\" y=\"975\">is</text><text fill=\"#546c74\" font-family=\"Lucida\" font-size=\"16\" style=\"font-weight:100\" x=\"296.9\" y=\"975\">also</text><text fill=\"#546c74\" font-family=\"Lucida\" font-size=\"16\" style=\"font-weight:100\" x=\"350.4\" y=\"975\">the</text><text fill=\"#546c74\" font-family=\"Lucida\" font-size=\"16\" style=\"font-weight:100\" x=\"394.2\" y=\"975\">possibility</text><text fill=\"#546c74\" font-family=\"Lucida\" font-size=\"16\" style=\"font-weight:100\" x=\"515.6\" y=\"975\">of</text><text fill=\"#546c74\" font-family=\"Lucida\" font-size=\"16\" style=\"font-weight:100\" x=\"549.7\" y=\"975\" /><text fill=\"#546c74\" font-family=\"Lucida\" font-size=\"16\" style=\"font-weight:100\" x=\"564.4000000000001\" y=\"975\">bleeding into the epidural space</text><text fill=\"#1f77b7\" font-family=\"Lucida\" font-size=\"12\" style=\"font-weight:lighter\" x=\"695.5500000000001\" y=\"995\">PROBLEM</text><text fill=\"#546c74\" font-family=\"Lucida\" font-size=\"16\" style=\"font-weight:100\" x=\"10\" y=\"1075\">,</text><text fill=\"#546c74\" font-family=\"Lucida\" font-size=\"16\" style=\"font-weight:100\" x=\"34.4\" y=\"1075\">which</text><text fill=\"#546c74\" font-family=\"Lucida\" font-size=\"16\" style=\"font-weight:100\" x=\"97.6\" y=\"1075\">can</text><text fill=\"#546c74\" font-family=\"Lucida\" font-size=\"16\" style=\"font-weight:100\" x=\"141.39999999999998\" y=\"1075\">compress</text><text fill=\"#546c74\" font-family=\"Lucida\" font-size=\"16\" style=\"font-weight:100\" x=\"233.7\" y=\"1075\">the</text><text fill=\"#546c74\" font-family=\"Lucida\" font-size=\"16\" style=\"font-weight:100\" x=\"277.5\" y=\"1075\">spinal</text><text fill=\"#546c74\" font-family=\"Lucida\" font-size=\"16\" style=\"font-weight:100\" x=\"350.4\" y=\"1075\">cord</text><text fill=\"#546c74\" font-family=\"Lucida\" font-size=\"16\" style=\"font-weight:100\" x=\"403.9\" y=\"1075\">and</text><text fill=\"#546c74\" font-family=\"Lucida\" font-size=\"16\" style=\"font-weight:100\" x=\"447.7\" y=\"1075\">result</text><text fill=\"#546c74\" font-family=\"Lucida\" font-size=\"16\" style=\"font-weight:100\" x=\"520.6\" y=\"1075\">in</text><text fill=\"#546c74\" font-family=\"Lucida\" font-size=\"16\" style=\"font-weight:100\" x=\"554.7\" y=\"1075\" /><text fill=\"#546c74\" font-family=\"Lucida\" font-size=\"16\" style=\"font-weight:100\" x=\"569.4000000000001\" y=\"1075\">weakness</text><text fill=\"#1f77b7\" font-family=\"Lucida\" font-size=\"12\" style=\"font-weight:lighter\" x=\"584.1500000000001\" y=\"1095\">PROBLEM</text><text fill=\"#546c74\" font-family=\"Lucida\" font-size=\"16\" style=\"font-weight:100\" x=\"671.7\" y=\"1075\" /><text fill=\"#546c74\" font-family=\"Lucida\" font-size=\"16\" style=\"font-weight:100\" x=\"686.4000000000001\" y=\"1075\">and</text><text fill=\"#546c74\" font-family=\"Lucida\" font-size=\"16\" style=\"font-weight:100\" x=\"730.2\" y=\"1075\" /><text fill=\"#546c74\" font-family=\"Lucida\" font-size=\"16\" style=\"font-weight:100\" x=\"10\" y=\"1175\">numbness of all four extremities</text><text fill=\"#1f77b7\" font-family=\"Lucida\" font-size=\"12\" style=\"font-weight:lighter\" x=\"141.14999999999998\" y=\"1195\">PROBLEM</text><text fill=\"#546c74\" font-family=\"Lucida\" font-size=\"16\" style=\"font-weight:100\" x=\"345.09999999999997\" y=\"1175\" /><text fill=\"#546c74\" font-family=\"Lucida\" font-size=\"16\" style=\"font-weight:100\" x=\"359.79999999999995\" y=\"1175\">as</text><text fill=\"#546c74\" font-family=\"Lucida\" font-size=\"16\" style=\"font-weight:100\" x=\"393.9\" y=\"1175\">well</text><text fill=\"#546c74\" font-family=\"Lucida\" font-size=\"16\" style=\"font-weight:100\" x=\"447.4\" y=\"1175\">as</text><text fill=\"#546c74\" font-family=\"Lucida\" font-size=\"16\" style=\"font-weight:100\" x=\"481.5\" y=\"1175\" /><text fill=\"#546c74\" font-family=\"Lucida\" font-size=\"16\" style=\"font-weight:100\" x=\"496.2\" y=\"1175\">impairment of bowel and bladder function</text><text fill=\"#1f77b7\" font-family=\"Lucida\" font-size=\"12\" style=\"font-weight:lighter\" x=\"666.15\" y=\"1195\">PROBLEM</text><text fill=\"#546c74\" font-family=\"Lucida\" font-size=\"16\" style=\"font-weight:100\" x=\"10\" y=\"1275\">.</text><text fill=\"#546c74\" font-family=\"Lucida\" font-size=\"16\" style=\"font-weight:100\" x=\"34.4\" y=\"1275\">However,</text><text fill=\"#546c74\" font-family=\"Lucida\" font-size=\"16\" style=\"font-weight:100\" x=\"126.69999999999999\" y=\"1275\">the</text><text fill=\"#546c74\" font-family=\"Lucida\" font-size=\"16\" style=\"font-weight:100\" x=\"170.5\" y=\"1275\">patient</text><text fill=\"#546c74\" font-family=\"Lucida\" font-size=\"16\" style=\"font-weight:100\" x=\"253.1\" y=\"1275\">may</text><text fill=\"#546c74\" font-family=\"Lucida\" font-size=\"16\" style=\"font-weight:100\" x=\"296.9\" y=\"1275\">develop</text><text fill=\"#546c74\" font-family=\"Lucida\" font-size=\"16\" style=\"font-weight:100\" x=\"379.5\" y=\"1275\">deeper-seated</text><text fill=\"#546c74\" font-family=\"Lucida\" font-size=\"16\" style=\"font-weight:100\" x=\"520.3\" y=\"1275\">infection,</text><text fill=\"#546c74\" font-family=\"Lucida\" font-size=\"16\" style=\"font-weight:100\" x=\"632.0\" y=\"1275\">which</text><text fill=\"#546c74\" font-family=\"Lucida\" font-size=\"16\" style=\"font-weight:100\" x=\"695.2\" y=\"1275\">may</text><text fill=\"#546c74\" font-family=\"Lucida\" font-size=\"16\" style=\"font-weight:100\" x=\"739.0\" y=\"1275\">require</text><text fill=\"#546c74\" font-family=\"Lucida\" font-size=\"16\" style=\"font-weight:100\" x=\"821.6\" y=\"1275\">return</text><text fill=\"#546c74\" font-family=\"Lucida\" font-size=\"16\" style=\"font-weight:100\" x=\"10\" y=\"1375\">to</text><text fill=\"#546c74\" font-family=\"Lucida\" font-size=\"16\" style=\"font-weight:100\" x=\"44.099999999999994\" y=\"1375\">the</text><text fill=\"#546c74\" font-family=\"Lucida\" font-size=\"16\" style=\"font-weight:100\" x=\"87.89999999999999\" y=\"1375\">operating</text><text fill=\"#546c74\" font-family=\"Lucida\" font-size=\"16\" style=\"font-weight:100\" x=\"189.89999999999998\" y=\"1375\">room.</text><text fill=\"#546c74\" font-family=\"Lucida\" font-size=\"16\" style=\"font-weight:100\" x=\"253.09999999999997\" y=\"1375\">Should</text><text fill=\"#546c74\" font-family=\"Lucida\" font-size=\"16\" style=\"font-weight:100\" x=\"325.99999999999994\" y=\"1375\" /><text fill=\"#546c74\" font-family=\"Lucida\" font-size=\"16\" style=\"font-weight:100\" x=\"340.69999999999993\" y=\"1375\">the infection</text><text fill=\"#1f77b7\" font-family=\"Lucida\" font-size=\"12\" style=\"font-weight:lighter\" x=\"379.69999999999993\" y=\"1395\">PROBLEM</text><text fill=\"#546c74\" font-family=\"Lucida\" font-size=\"16\" style=\"font-weight:100\" x=\"491.4999999999999\" y=\"1375\" /><text fill=\"#546c74\" font-family=\"Lucida\" font-size=\"16\" style=\"font-weight:100\" x=\"506.1999999999999\" y=\"1375\">be</text><text fill=\"#546c74\" font-family=\"Lucida\" font-size=\"16\" style=\"font-weight:100\" x=\"540.2999999999998\" y=\"1375\">in</text><text fill=\"#546c74\" font-family=\"Lucida\" font-size=\"16\" style=\"font-weight:100\" x=\"574.3999999999999\" y=\"1375\">the</text><text fill=\"#546c74\" font-family=\"Lucida\" font-size=\"16\" style=\"font-weight:100\" x=\"618.1999999999998\" y=\"1375\">area</text><text fill=\"#546c74\" font-family=\"Lucida\" font-size=\"16\" style=\"font-weight:100\" x=\"671.6999999999998\" y=\"1375\">of</text><text fill=\"#546c74\" font-family=\"Lucida\" font-size=\"16\" style=\"font-weight:100\" x=\"705.7999999999998\" y=\"1375\" /><text fill=\"#546c74\" font-family=\"Lucida\" font-size=\"16\" style=\"font-weight:100\" x=\"10\" y=\"1475\">the spinal instrumentation</text><text fill=\"#1f77b7\" font-family=\"Lucida\" font-size=\"12\" style=\"font-weight:lighter\" x=\"104.99545454545454\" y=\"1495\">TREATMENT</text><text fill=\"#546c74\" font-family=\"Lucida\" font-size=\"16\" style=\"font-weight:100\" x=\"286.9\" y=\"1475\">,</text><text fill=\"#546c74\" font-family=\"Lucida\" font-size=\"16\" style=\"font-weight:100\" x=\"311.29999999999995\" y=\"1475\">this</text><text fill=\"#546c74\" font-family=\"Lucida\" font-size=\"16\" style=\"font-weight:100\" x=\"364.79999999999995\" y=\"1475\">will</text><text fill=\"#546c74\" font-family=\"Lucida\" font-size=\"16\" style=\"font-weight:100\" x=\"418.29999999999995\" y=\"1475\">cause</text><text fill=\"#546c74\" font-family=\"Lucida\" font-size=\"16\" style=\"font-weight:100\" x=\"481.49999999999994\" y=\"1475\">a</text><text fill=\"#546c74\" font-family=\"Lucida\" font-size=\"16\" style=\"font-weight:100\" x=\"505.8999999999999\" y=\"1475\">dilemma</text><text fill=\"#546c74\" font-family=\"Lucida\" font-size=\"16\" style=\"font-weight:100\" x=\"588.4999999999999\" y=\"1475\">since</text><text fill=\"#546c74\" font-family=\"Lucida\" font-size=\"16\" style=\"font-weight:100\" x=\"651.6999999999999\" y=\"1475\">there</text><text fill=\"#546c74\" font-family=\"Lucida\" font-size=\"16\" style=\"font-weight:100\" x=\"714.9\" y=\"1475\">might</text><text fill=\"#546c74\" font-family=\"Lucida\" font-size=\"16\" style=\"font-weight:100\" x=\"778.1\" y=\"1475\">be</text><text fill=\"#546c74\" font-family=\"Lucida\" font-size=\"16\" style=\"font-weight:100\" x=\"812.2\" y=\"1475\">a</text><text fill=\"#546c74\" font-family=\"Lucida\" font-size=\"16\" style=\"font-weight:100\" x=\"836.6\" y=\"1475\">need</text><text fill=\"#546c74\" font-family=\"Lucida\" font-size=\"16\" style=\"font-weight:100\" x=\"10\" y=\"1575\">to</text><text fill=\"#546c74\" font-family=\"Lucida\" font-size=\"16\" style=\"font-weight:100\" x=\"44.099999999999994\" y=\"1575\">remove</text><text fill=\"#546c74\" font-family=\"Lucida\" font-size=\"16\" style=\"font-weight:100\" x=\"116.99999999999999\" y=\"1575\" /><text fill=\"#546c74\" font-family=\"Lucida\" font-size=\"16\" style=\"font-weight:100\" x=\"131.7\" y=\"1575\">the spinal instrumentation</text><text fill=\"#1f77b7\" font-family=\"Lucida\" font-size=\"12\" style=\"font-weight:lighter\" x=\"226.69545454545454\" y=\"1595\">TREATMENT</text><text fill=\"#546c74\" font-family=\"Lucida\" font-size=\"16\" style=\"font-weight:100\" x=\"408.59999999999997\" y=\"1575\" /><text fill=\"#546c74\" font-family=\"Lucida\" font-size=\"16\" style=\"font-weight:100\" x=\"423.29999999999995\" y=\"1575\">and/or</text><text fill=\"#546c74\" font-family=\"Lucida\" font-size=\"16\" style=\"font-weight:100\" x=\"496.19999999999993\" y=\"1575\" /><text fill=\"#546c74\" font-family=\"Lucida\" font-size=\"16\" style=\"font-weight:100\" x=\"510.8999999999999\" y=\"1575\">allograft</text><text fill=\"#1f77b7\" font-family=\"Lucida\" font-size=\"12\" style=\"font-weight:lighter\" x=\"523.4454545454544\" y=\"1595\">TREATMENT</text><text fill=\"#546c74\" font-family=\"Lucida\" font-size=\"16\" style=\"font-weight:100\" x=\"622.8999999999999\" y=\"1575\">.</text><text fill=\"#546c74\" font-family=\"Lucida\" font-size=\"16\" style=\"font-weight:100\" x=\"647.2999999999998\" y=\"1575\">There</text><text fill=\"#546c74\" font-family=\"Lucida\" font-size=\"16\" style=\"font-weight:100\" x=\"710.4999999999999\" y=\"1575\">is</text><text fill=\"#546c74\" font-family=\"Lucida\" font-size=\"16\" style=\"font-weight:100\" x=\"744.5999999999999\" y=\"1575\">also</text><text fill=\"#546c74\" font-family=\"Lucida\" font-size=\"16\" style=\"font-weight:100\" x=\"798.0999999999999\" y=\"1575\">the</text><text fill=\"#546c74\" font-family=\"Lucida\" font-size=\"16\" style=\"font-weight:100\" x=\"10\" y=\"1675\">possibility</text><text fill=\"#546c74\" font-family=\"Lucida\" font-size=\"16\" style=\"font-weight:100\" x=\"131.39999999999998\" y=\"1675\">of</text><text fill=\"#546c74\" font-family=\"Lucida\" font-size=\"16\" style=\"font-weight:100\" x=\"165.49999999999997\" y=\"1675\">potential</text><text fill=\"#546c74\" font-family=\"Lucida\" font-size=\"16\" style=\"font-weight:100\" x=\"267.5\" y=\"1675\">injury</text><text fill=\"#546c74\" font-family=\"Lucida\" font-size=\"16\" style=\"font-weight:100\" x=\"340.4\" y=\"1675\">to</text><text fill=\"#546c74\" font-family=\"Lucida\" font-size=\"16\" style=\"font-weight:100\" x=\"374.5\" y=\"1675\">the</text><text fill=\"#546c74\" font-family=\"Lucida\" font-size=\"16\" style=\"font-weight:100\" x=\"418.3\" y=\"1675\">esophageus,</text><text fill=\"#546c74\" font-family=\"Lucida\" font-size=\"16\" style=\"font-weight:100\" x=\"539.7\" y=\"1675\">the</text><text fill=\"#546c74\" font-family=\"Lucida\" font-size=\"16\" style=\"font-weight:100\" x=\"583.5\" y=\"1675\">trachea,</text><text fill=\"#546c74\" font-family=\"Lucida\" font-size=\"16\" style=\"font-weight:100\" x=\"675.8\" y=\"1675\">and</text><text fill=\"#546c74\" font-family=\"Lucida\" font-size=\"16\" style=\"font-weight:100\" x=\"719.5999999999999\" y=\"1675\">the</text><text fill=\"#546c74\" font-family=\"Lucida\" font-size=\"16\" style=\"font-weight:100\" x=\"763.3999999999999\" y=\"1675\">carotid</text><text fill=\"#546c74\" font-family=\"Lucida\" font-size=\"16\" style=\"font-weight:100\" x=\"10\" y=\"1775\">artery.</text><text fill=\"#546c74\" font-family=\"Lucida\" font-size=\"16\" style=\"font-weight:100\" x=\"92.6\" y=\"1775\">There</text><text fill=\"#546c74\" font-family=\"Lucida\" font-size=\"16\" style=\"font-weight:100\" x=\"155.79999999999998\" y=\"1775\">is</text><text fill=\"#546c74\" font-family=\"Lucida\" font-size=\"16\" style=\"font-weight:100\" x=\"189.89999999999998\" y=\"1775\">also</text><text fill=\"#546c74\" font-family=\"Lucida\" font-size=\"16\" style=\"font-weight:100\" x=\"243.39999999999998\" y=\"1775\">the</text><text fill=\"#546c74\" font-family=\"Lucida\" font-size=\"16\" style=\"font-weight:100\" x=\"287.2\" y=\"1775\">risks</text><text fill=\"#546c74\" font-family=\"Lucida\" font-size=\"16\" style=\"font-weight:100\" x=\"350.4\" y=\"1775\">of</text><text fill=\"#546c74\" font-family=\"Lucida\" font-size=\"16\" style=\"font-weight:100\" x=\"384.5\" y=\"1775\" /><text fill=\"#546c74\" font-family=\"Lucida\" font-size=\"16\" style=\"font-weight:100\" x=\"399.2\" y=\"1775\">stroke on the right cerebral circulation</text><text fill=\"#1f77b7\" font-family=\"Lucida\" font-size=\"12\" style=\"font-weight:lighter\" x=\"569.15\" y=\"1795\">PROBLEM</text><text fill=\"#546c74\" font-family=\"Lucida\" font-size=\"16\" style=\"font-weight:100\" x=\"811.9\" y=\"1775\" /><text fill=\"#546c74\" font-family=\"Lucida\" font-size=\"16\" style=\"font-weight:100\" x=\"826.6\" y=\"1775\">should</text><text fill=\"#546c74\" font-family=\"Lucida\" font-size=\"16\" style=\"font-weight:100\" x=\"899.5\" y=\"1775\" /><text fill=\"#546c74\" font-family=\"Lucida\" font-size=\"16\" style=\"font-weight:100\" x=\"10\" y=\"1875\">an undiagnosed plaque</text><text fill=\"#1f77b7\" font-family=\"Lucida\" font-size=\"12\" style=\"font-weight:lighter\" x=\"87.79999999999998\" y=\"1895\">PROBLEM</text><text fill=\"#546c77\" font-family=\"Lucida\" font-size=\"16\" style=\"font-weight:100\" x=\"238.39999999999998\" y=\"1875\" /><text fill=\"#546c77\" font-family=\"Lucida\" font-size=\"16\" style=\"font-weight:100\" x=\"253.09999999999997\" y=\"1875\">be</text><text fill=\"#546c77\" font-family=\"Lucida\" font-size=\"16\" style=\"font-weight:100\" x=\"287.19999999999993\" y=\"1875\">propelled</text><text fill=\"#546c77\" font-family=\"Lucida\" font-size=\"16\" style=\"font-weight:100\" x=\"389.19999999999993\" y=\"1875\">from</text><text fill=\"#546c77\" font-family=\"Lucida\" font-size=\"16\" style=\"font-weight:100\" x=\"442.69999999999993\" y=\"1875\">the</text><text fill=\"#546c77\" font-family=\"Lucida\" font-size=\"16\" style=\"font-weight:100\" x=\"486.49999999999994\" y=\"1875\">right</text><text fill=\"#546c77\" font-family=\"Lucida\" font-size=\"16\" style=\"font-weight:100\" x=\"549.6999999999999\" y=\"1875\">carotid.</text><text fill=\"#546c77\" font-family=\"Lucida\" font-size=\"16\" style=\"font-weight:100\" x=\"641.9999999999999\" y=\"1875\">She</text><text fill=\"#546c77\" font-family=\"Lucida\" font-size=\"16\" style=\"font-weight:100\" x=\"685.7999999999998\" y=\"1875\">understood</text><text fill=\"#546c77\" font-family=\"Lucida\" font-size=\"16\" style=\"font-weight:100\" x=\"797.4999999999998\" y=\"1875\">all</text><text fill=\"#546c77\" font-family=\"Lucida\" font-size=\"16\" style=\"font-weight:100\" x=\"841.2999999999997\" y=\"1875\">of</text><text fill=\"#546c77\" font-family=\"Lucida\" font-size=\"16\" style=\"font-weight:100\" x=\"10\" y=\"1975\">these</text><text fill=\"#546c77\" font-family=\"Lucida\" font-size=\"16\" style=\"font-weight:100\" x=\"73.19999999999999\" y=\"1975\">risks</text><text fill=\"#546c77\" font-family=\"Lucida\" font-size=\"16\" style=\"font-weight:100\" x=\"136.39999999999998\" y=\"1975\">and</text><text fill=\"#546c77\" font-family=\"Lucida\" font-size=\"16\" style=\"font-weight:100\" x=\"180.2\" y=\"1975\">agreed</text><text fill=\"#546c77\" font-family=\"Lucida\" font-size=\"16\" style=\"font-weight:100\" x=\"253.09999999999997\" y=\"1975\">to</text><text fill=\"#546c77\" font-family=\"Lucida\" font-size=\"16\" style=\"font-weight:100\" x=\"287.19999999999993\" y=\"1975\">have</text><text fill=\"#546c77\" font-family=\"Lucida\" font-size=\"16\" style=\"font-weight:100\" x=\"340.69999999999993\" y=\"1975\">the</text><text fill=\"#546c77\" font-family=\"Lucida\" font-size=\"16\" style=\"font-weight:100\" x=\"384.49999999999994\" y=\"1975\">procedure</text><text fill=\"#546c77\" font-family=\"Lucida\" font-size=\"16\" style=\"font-weight:100\" x=\"486.49999999999994\" y=\"1975\">performed.</text><polyline fill=\"none\" points=\"206.0,755.0 204.71428571428572,753.7960798646823 203.4285714285714,752.593128713376 202.14285714285714,751.3921155300937 200.85714285714283,750.1940092988466 199.57142857142856,748.9997790036464 198.28571428571428,747.810393628505 197.00000000000003,746.6268221574346 195.71428571428575,745.4500335744461 194.42857142857144,744.2809968635519 193.1428571428571,743.1206810087633 191.85714285714283,741.9700549940925 190.57142857142853,740.8300878035511 189.28571428571428,739.701748421151 188.00000000000003,738.5860058309039 186.71428571428575,737.4838290168213 185.42857142857142,736.3961869629153 184.14285714285717,735.3240486531973 182.85714285714286,734.2683830716794 181.57142857142856,733.2301592023732 180.28571428571425,732.2103460292905 178.99999999999997,731.2099125364431 177.71428571428572,730.2298277078429 176.42857142857144,729.2710605275013 175.14285714285714,728.3345799794304 173.85714285714286,727.4213550476417 172.57142857142856,726.5323547161472 171.28571428571428,725.6685479689586 170.0,724.8309037900875 168.71428571428572,724.0203911635458 167.42857142857144,723.2379790733453 166.14285714285717,722.4846365034978 164.85714285714283,721.7613324380147 163.57142857142856,721.0690358609083 162.2857142857143,720.4087157561901 161.0,719.7813411078719 159.71428571428572,719.1878808999652 158.42857142857144,718.6293041164821 157.14285714285717,718.1065797414343 155.8571428571429,717.6206767588335 154.57142857142858,717.1725641526916 153.28571428571428,716.76321090702 152.0,716.3935860058309 150.7142857142857,716.0646584331358 149.42857142857144,715.7773971729466 148.14285714285717,715.5327712092751 146.85714285714286,715.3317495261329 145.57142857142858,715.1753011075318 144.28571428571428,715.0643949374835 143.0,715.0 143.0,715.0 141.71428571428567,714.9827622844223 140.4285714285714,715.0120358014092 139.14285714285717,715.0868515669491 137.85714285714286,715.2062405970302 136.57142857142856,715.3692339076405 135.28571428571428,715.5748625147684 134.00000000000006,715.8221574344026 132.71428571428572,716.1101496825303 131.42857142857144,716.4378702751405 130.1428571428571,716.804350228221 128.85714285714286,717.2086205577607 127.57142857142856,717.6497122797472 126.28571428571428,718.1266564101691 125.0,718.6384839650145 123.71428571428574,719.1842259602718 122.42857142857144,719.7629134119287 121.14285714285715,720.3735773359739 119.85714285714286,721.0152487483956 118.57142857142857,721.6869586651819 117.28571428571426,722.3877381023211 115.99999999999999,723.1166180758016 114.71428571428572,723.8726296016115 113.42857142857142,724.6548036957389 112.14285714285715,725.4621713741723 110.85714285714286,726.2937636528998 109.57142857142857,727.1486115479095 108.28571428571429,728.0257460751898 107.0,728.9241982507289 105.71428571428572,729.842999090515 104.42857142857143,730.7811796105365 103.14285714285715,731.7377708267813 101.85714285714286,732.711803755238 100.57142857142856,733.7023094118946 99.28571428571428,734.7083188127395 98.0,735.7288629737609 96.71428571428572,736.7629729109469 95.42857142857144,737.8096796402858 94.14285714285715,738.8680141777661 92.85714285714286,739.9370075393756 91.57142857142858,741.0156907411027 90.28571428571429,742.1030947989358 89.0,743.1982507288631 87.71428571428572,744.3001895468724 86.42857142857144,745.4079422689525 85.14285714285715,746.5205399110915 83.85714285714286,747.6370134892775 82.57142857142857,748.7563940194987 81.28571428571428,749.8777125177435 80.0,751.0\" stroke=\"#39bf7f\" stroke-width=\"1\" /><polyline fill=\"none\" points=\"86.98660533216089,752.0896540426306 80,751 81.08965404263058,744.0133946678391 80,751\" stroke=\"#39bf7f\" stroke-width=\"1\" /><rect fill=\"white\" height=\"13\" rx=\"2\" ry=\"2\" stroke=\"#39bf7f\" stroke-width=\"1\" transform=\"rotate(1.8183029644518331 141.5 716.5)\" width=\"35.22222222222222\" x=\"123.88888888888889\" y=\"710\" /><text fill=\"#39bf7f\" font-family=\"courier\" font-size=\"12\" transform=\"rotate(1.8183029644518331 141.5 716.5)\" x=\"126.88888888888889\" y=\"720\">TrCP</text><polyline fill=\"none\" points=\"682.0,1155.0 681.6326530612245,1154.3367346938771 681.2653061224488,1153.673469387755 680.8979591836735,1153.0102040816328 680.530612244898,1152.3469387755101 680.1632653061223,1151.6836734693877 679.7959183673469,1151.020408163265 679.4285714285716,1150.357142857143 679.0612244897959,1149.6938775510205 678.6938775510204,1149.030612244898 678.3265306122448,1148.3673469387752 677.9591836734693,1147.704081632653 677.5918367346937,1147.0408163265306 677.2244897959183,1146.377551020408 676.8571428571429,1145.7142857142858 676.4897959183675,1145.0510204081636 676.1224489795919,1144.387755102041 675.7551020408164,1143.7244897959185 675.3877551020407,1143.0612244897961 675.0204081632653,1142.3979591836735 674.6530612244898,1141.7346938775509 674.2857142857142,1141.0714285714284 673.9183673469388,1140.4081632653063 673.5510204081633,1139.7448979591836 673.1836734693877,1139.0816326530612 672.8163265306122,1138.4183673469388 672.4489795918366,1137.7551020408164 672.0816326530612,1137.091836734694 671.7142857142858,1136.4285714285716 671.3469387755101,1135.7653061224491 670.9795918367347,1135.1020408163267 670.6122448979593,1134.4387755102043 670.2448979591836,1133.7755102040817 669.8775510204082,1133.1122448979593 669.5102040816327,1132.4489795918369 669.1428571428572,1131.7857142857144 668.7755102040817,1131.122448979592 668.408163265306,1130.4591836734694 668.0408163265306,1129.795918367347 667.6734693877552,1129.1326530612246 667.3061224489795,1128.4693877551022 666.9387755102041,1127.8061224489797 666.5714285714287,1127.1428571428573 666.204081632653,1126.4795918367347 665.8367346938776,1125.8163265306123 665.469387755102,1125.1530612244899 665.1020408163265,1124.4897959183675 664.7346938775511,1123.826530612245 664.3673469387754,1123.1632653061224 664.0,1122.5 664.0,1122.5 663.6326530612245,1121.8367346938776 663.2653061224489,1121.1734693877552 662.8979591836736,1120.5102040816328 662.530612244898,1119.8469387755101 662.1632653061225,1119.1836734693875 661.7959183673469,1118.520408163265 661.4285714285717,1117.8571428571431 661.0612244897959,1117.1938775510205 660.6938775510205,1116.530612244898 660.3265306122448,1115.8673469387754 659.9591836734694,1115.204081632653 659.5918367346937,1114.5408163265301 659.2244897959184,1113.8775510204077 658.8571428571428,1113.2142857142858 658.4897959183675,1112.5510204081634 658.1224489795918,1111.8877551020407 657.7551020408164,1111.2244897959185 657.3877551020407,1110.5612244897957 657.0204081632653,1109.8979591836735 656.6530612244898,1109.2346938775509 656.2857142857142,1108.5714285714282 655.9183673469388,1107.908163265306 655.5510204081633,1107.2448979591836 655.1836734693878,1106.5816326530612 654.8163265306123,1105.9183673469388 654.4489795918366,1105.2551020408162 654.0816326530613,1104.591836734694 653.7142857142858,1103.9285714285716 653.3469387755102,1103.265306122449 652.9795918367347,1102.6020408163265 652.6122448979593,1101.938775510204 652.2448979591836,1101.2755102040815 651.8775510204082,1100.612244897959 651.5102040816327,1099.9489795918366 651.1428571428572,1099.2857142857142 650.7755102040817,1098.6224489795918 650.4081632653063,1097.9591836734694 650.0408163265306,1097.295918367347 649.6734693877552,1096.6326530612246 649.3061224489796,1095.9693877551022 648.9387755102041,1095.3061224489795 648.5714285714286,1094.642857142857 648.204081632653,1093.9795918367345 647.8367346938776,1093.316326530612 647.469387755102,1092.6530612244899 647.1020408163265,1091.9897959183675 646.7346938775511,1091.3265306122448 646.3673469387755,1090.6632653061224 646.0,1090.0\" stroke=\"#0398da\" stroke-width=\"1\" /><polyline fill=\"none\" points=\"644.0485423595018,1096.796455920356 646,1090 652.7964559203559,1091.9514576404981 646,1090\" stroke=\"#0398da\" stroke-width=\"1\" /><rect fill=\"white\" height=\"13\" rx=\"2\" ry=\"2\" stroke=\"#0398da\" stroke-width=\"1\" transform=\"rotate(61.020292302071226 662.5 1119.0)\" width=\"35.22222222222222\" x=\"644.8888888888889\" y=\"1112.5\" /><text fill=\"#0398da\" font-family=\"courier\" font-size=\"12\" transform=\"rotate(61.020292302071226 662.5 1119.0)\" x=\"647.8888888888889\" y=\"1122.5\">TrWP</text><polyline fill=\"none\" points=\"494.0,755.0 491.2653061224489,753.7960798646823 488.5306122448979,752.593128713376 485.795918367347,751.3921155300937 483.0612244897959,750.1940092988466 480.32653061224494,748.9997790036464 477.5918367346939,747.810393628505 474.857142857143,746.6268221574346 472.1224489795919,745.4500335744461 469.3877551020409,744.2809968635519 466.65306122448976,743.1206810087633 463.91836734693874,741.9700549940925 461.18367346938766,740.8300878035511 458.44897959183675,739.701748421151 455.7142857142858,738.5860058309039 452.97959183673476,737.4838290168213 450.24489795918373,736.3961869629153 447.51020408163276,735.3240486531973 444.7755102040816,734.2683830716794 442.0408163265306,733.2301592023732 439.3061224489796,732.2103460292905 436.57142857142856,731.2099125364431 433.83673469387764,730.2298277078429 431.1020408163265,729.2710605275013 428.3673469387756,728.3345799794304 425.6326530612245,727.4213550476417 422.8979591836735,726.5323547161472 420.16326530612247,725.6685479689586 417.4285714285715,724.8309037900875 414.6938775510204,724.0203911635458 411.95918367346945,723.2379790733453 409.22448979591843,722.4846365034978 406.48979591836735,721.7613324380147 403.7551020408163,721.0690358609083 401.0204081632653,720.4087157561901 398.28571428571433,719.7813411078719 395.55102040816325,719.1878808999652 392.8163265306123,718.6293041164821 390.0816326530612,718.1065797414343 387.34693877551024,717.6206767588335 384.6122448979593,717.1725641526916 381.8775510204082,716.76321090702 379.14285714285717,716.3935860058309 376.40816326530614,716.0646584331358 373.6734693877551,715.7773971729466 370.9387755102041,715.5327712092751 368.20408163265313,715.3317495261329 365.46938775510205,715.1753011075318 362.734693877551,715.0643949374835 360.0,715.0 360.0,715.0 357.2653061224489,714.9827622844223 354.5306122448979,715.0120358014092 351.795918367347,715.0868515669491 349.06122448979585,715.2062405970302 346.3265306122449,715.3692339076405 343.59183673469386,715.5748625147684 340.85714285714295,715.8221574344026 338.1224489795919,716.1101496825303 335.38775510204084,716.4378702751405 332.65306122448976,716.804350228221 329.91836734693874,717.2086205577607 327.1836734693877,717.6497122797472 324.44897959183675,718.1266564101691 321.71428571428567,718.6384839650145 318.97959183673476,719.1842259602718 316.2448979591837,719.7629134119287 313.5102040816327,720.3735773359739 310.7755102040816,721.0152487483956 308.0408163265306,721.6869586651819 305.3061224489796,722.3877381023211 302.5714285714285,723.1166180758016 299.83673469387753,723.8726296016115 297.10204081632656,724.6548036957389 294.36734693877554,725.4621713741723 291.63265306122446,726.2937636528998 288.89795918367344,727.1486115479095 286.1632653061224,728.0257460751898 283.42857142857144,728.9241982507289 280.6938775510204,729.842999090515 277.9591836734694,730.7811796105365 275.2244897959184,731.7377708267813 272.48979591836735,732.711803755238 269.7551020408163,733.7023094118946 267.0204081632653,734.7083188127395 264.2857142857143,735.7288629737609 261.55102040816325,736.7629729109469 258.81632653061223,737.8096796402858 256.0816326530612,738.8680141777661 253.34693877551018,739.9370075393756 250.6122448979592,741.0156907411027 247.87755102040813,742.1030947989358 245.14285714285717,743.1982507288631 242.40816326530611,744.3001895468724 239.6734693877551,745.4079422689525 236.9387755102041,746.5205399110915 234.20408163265307,747.6370134892775 231.46938775510205,748.7563940194987 228.73469387755102,749.8777125177435 226.0,751.0\" stroke=\"#8c35cd\" stroke-width=\"1\" /><polyline fill=\"none\" points=\"232.35253673717904,754.1056846270653 226,751 229.1056846270654,744.647463262821 226,751\" stroke=\"#8c35cd\" stroke-width=\"1\" /><rect fill=\"white\" height=\"13\" rx=\"2\" ry=\"2\" stroke=\"#8c35cd\" stroke-width=\"1\" transform=\"rotate(0.8550973962667232 358.5 716.5)\" width=\"35.22222222222222\" x=\"340.8888888888889\" y=\"710\" /><text fill=\"#8c35cd\" font-family=\"courier\" font-size=\"12\" transform=\"rotate(0.8550973962667232 358.5 716.5)\" x=\"343.8888888888889\" y=\"720\">TeRP</text><polyline fill=\"none\" points=\"546.0,1555.0 543.1836734693877,1553.7960798646823 540.3673469387754,1552.593128713376 537.5510204081634,1551.3921155300939 534.7346938775511,1550.1940092988466 531.9183673469388,1548.9997790036466 529.1020408163265,1547.810393628505 526.2857142857144,1546.6268221574346 523.4693877551022,1545.4500335744465 520.6530612244898,1544.280996863552 517.8367346938775,1543.120681008763 515.0204081632653,1541.9700549940926 512.204081632653,1540.8300878035511 509.3877551020408,1539.701748421151 506.57142857142856,1538.5860058309038 503.7551020408164,1537.4838290168213 500.93877551020415,1536.3961869629154 498.12244897959187,1535.3240486531975 495.3061224489795,1534.2683830716792 492.48979591836735,1533.2301592023734 489.67346938775506,1532.2103460292903 486.8571428571428,1531.209912536443 484.0408163265306,1530.229827707843 481.22448979591843,1529.2710605275013 478.4081632653061,1528.3345799794304 475.59183673469386,1527.4213550476416 472.77551020408157,1526.5323547161472 469.9591836734694,1525.6685479689586 467.1428571428571,1524.8309037900876 464.32653061224494,1524.0203911635458 461.51020408163265,1523.2379790733453 458.6938775510205,1522.484636503498 455.87755102040813,1521.7613324380147 453.06122448979596,1521.0690358609083 450.2448979591837,1520.40871575619 447.42857142857144,1519.7813411078719 444.61224489795916,1519.1878808999654 441.795918367347,1518.6293041164822 438.9795918367347,1518.1065797414344 436.1632653061224,1517.6206767588337 433.34693877551024,1517.1725641526916 430.53061224489795,1516.76321090702 427.7142857142858,1516.393586005831 424.8979591836735,1516.0646584331357 422.08163265306126,1515.7773971729466 419.265306122449,1515.5327712092749 416.44897959183675,1515.3317495261329 413.63265306122446,1515.1753011075316 410.81632653061223,1515.0643949374835 408.0,1515.0 408.0,1515.0 405.18367346938766,1514.9827622844223 402.3673469387755,1515.012035801409 399.55102040816325,1515.0868515669492 396.734693877551,1515.2062405970303 393.9183673469388,1515.3692339076404 391.10204081632645,1515.5748625147685 388.2857142857144,1515.822157434403 385.4693877551021,1516.1101496825304 382.6530612244898,1516.4378702751405 379.83673469387753,1516.804350228221 377.02040816326524,1517.2086205577605 374.204081632653,1517.649712279747 371.3877551020408,1518.126656410169 368.5714285714286,1518.6384839650143 365.7551020408164,1519.184225960272 362.9387755102041,1519.7629134119288 360.12244897959187,1520.373577335974 357.3061224489796,1521.0152487483956 354.4897959183674,1521.686958665182 351.67346938775506,1522.387738102321 348.8571428571428,1523.1166180758016 346.0408163265306,1523.8726296016116 343.2244897959183,1524.654803695739 340.40816326530614,1525.4621713741722 337.59183673469386,1526.2937636528998 334.7755102040817,1527.1486115479092 331.9591836734694,1528.0257460751895 329.1428571428572,1528.9241982507288 326.32653061224494,1529.8429990905147 323.51020408163265,1530.7811796105364 320.6938775510204,1531.7377708267813 317.8775510204082,1532.7118037552382 315.0612244897959,1533.7023094118945 312.2448979591837,1534.7083188127394 309.42857142857144,1535.728862973761 306.6122448979592,1536.7629729109467 303.795918367347,1537.809679640286 300.9795918367347,1538.8680141777659 298.16326530612247,1539.9370075393756 295.34693877551024,1541.0156907411028 292.53061224489795,1542.1030947989357 289.7142857142857,1543.198250728863 286.8979591836735,1544.3001895468724 284.0816326530612,1545.4079422689524 281.26530612244903,1546.5205399110914 278.44897959183675,1547.6370134892775 275.6326530612245,1548.7563940194987 272.81632653061223,1549.8777125177435 270.0,1551.0\" stroke=\"#8c35cd\" stroke-width=\"1\" /><polyline fill=\"none\" points=\"276.3245553203368,1554.1622776601685 270,1551 273.16227766016834,1544.675444679663 270,1551\" stroke=\"#8c35cd\" stroke-width=\"1\" /><rect fill=\"white\" height=\"13\" rx=\"2\" ry=\"2\" stroke=\"#8c35cd\" stroke-width=\"1\" transform=\"rotate(0.8303154862580109 406.5 1516.5)\" width=\"35.22222222222222\" x=\"388.8888888888889\" y=\"1510\" /><text fill=\"#8c35cd\" font-family=\"courier\" font-size=\"12\" transform=\"rotate(0.8303154862580109 406.5 1516.5)\" x=\"391.8888888888889\" y=\"1520\">TeRP</text><polyline fill=\"none\" points=\"576.0,455.0 577.969387755102,454.3367346938775 579.938775510204,453.67346938775506 581.9081632653063,453.01020408163265 583.8775510204083,452.3469387755102 585.8469387755101,451.68367346938777 587.8163265306122,451.0204081632653 589.7857142857143,450.35714285714295 591.7551020408165,449.69387755102053 593.7244897959184,449.030612244898 595.6938775510205,448.3673469387755 597.6632653061224,447.7040816326531 599.6326530612245,447.04081632653055 601.6020408163265,446.3775510204082 603.5714285714287,445.7142857142858 605.5408163265307,445.05102040816337 607.5102040816328,444.38775510204084 609.4795918367348,443.72448979591843 611.4489795918367,443.0612244897959 613.4183673469389,442.3979591836735 615.3877551020407,441.7346938775509 617.3571428571429,441.07142857142856 619.3265306122448,440.40816326530614 621.2959183673469,439.7448979591836 623.265306122449,439.08163265306126 625.2346938775511,438.4183673469388 627.204081632653,437.7551020408163 629.1734693877551,437.09183673469397 631.1428571428572,436.4285714285715 633.1122448979593,435.765306122449 635.0816326530612,435.10204081632656 637.0510204081634,434.43877551020415 639.0204081632653,433.7755102040816 640.9897959183675,433.1122448979593 642.9591836734694,432.44897959183675 644.9285714285714,431.78571428571433 646.8979591836735,431.1224489795919 648.8673469387755,430.4591836734694 650.8367346938776,429.795918367347 652.8061224489796,429.13265306122446 654.7755102040817,428.46938775510205 656.7448979591836,427.8061224489796 658.7142857142858,427.1428571428572 660.6836734693877,426.4795918367347 662.6530612244898,425.8163265306123 664.6224489795918,425.1530612244898 666.591836734694,424.48979591836735 668.5612244897959,423.8265306122449 670.530612244898,423.1632653061224 672.5,422.5 672.5,422.5 674.4693877551019,421.83673469387753 676.438775510204,421.173469387755 678.4081632653061,420.51020408163265 680.3775510204082,419.8469387755102 682.34693877551,419.1836734693877 684.3163265306122,418.52040816326524 686.2857142857144,417.857142857143 688.2551020408165,417.1938775510205 690.2244897959184,416.530612244898 692.1938775510204,415.8673469387755 694.1632653061223,415.20408163265296 696.1326530612245,414.54081632653055 698.1020408163264,413.87755102040813 700.0714285714286,413.21428571428567 702.0408163265307,412.55102040816325 704.0102040816327,411.88775510204084 705.9795918367347,411.2244897959184 707.9489795918366,410.5612244897959 709.9183673469387,409.89795918367344 711.8877551020406,409.2346938775509 713.8571428571428,408.5714285714285 715.8265306122448,407.90816326530614 717.7959183673469,407.2448979591836 719.7653061224489,406.5816326530612 721.7346938775511,405.91836734693874 723.7040816326529,405.25510204081627 725.673469387755,404.59183673469386 727.6428571428571,403.92857142857144 729.6122448979593,403.265306122449 731.5816326530612,402.6020408163265 733.5510204081633,401.9387755102041 735.5204081632651,401.2755102040816 737.4897959183673,400.61224489795916 739.4591836734693,399.94897959183675 741.4285714285713,399.2857142857143 743.3979591836735,398.6224489795918 745.3673469387754,397.9591836734694 747.3367346938776,397.295918367347 749.3061224489795,396.63265306122446 751.2755102040817,395.96938775510205 753.2448979591836,395.3061224489796 755.2142857142858,394.6428571428571 757.1836734693877,393.9795918367347 759.1530612244896,393.31632653061223 761.1224489795919,392.6530612244898 763.0918367346939,391.98979591836735 765.0612244897959,391.32653061224494 767.0306122448978,390.66326530612247 769.0,390.0\" stroke=\"#8c35cd\" stroke-width=\"1\" /><polyline fill=\"none\" points=\"762.6656544879128,386.8573789707474 769,390 765.8573789707474,396.3343455120872 769,390\" stroke=\"#8c35cd\" stroke-width=\"1\" /><rect fill=\"white\" height=\"13\" rx=\"2\" ry=\"2\" stroke=\"#8c35cd\" stroke-width=\"1\" transform=\"rotate(-18.612885454332396 671.0 419.0)\" width=\"35.22222222222222\" x=\"653.3888888888889\" y=\"412.5\" /><text fill=\"#8c35cd\" font-family=\"courier\" font-size=\"12\" transform=\"rotate(-18.612885454332396 671.0 419.0)\" x=\"656.3888888888889\" y=\"422.5\">TeRP</text><polyline fill=\"none\" points=\"270.0,1555.0 271.0204081632653,1553.3163265306118 272.04081632653055,1551.6326530612241 273.0612244897959,1549.9489795918366 274.08163265306126,1548.265306122449 275.1020408163265,1546.5816326530612 276.12244897959175,1544.8979591836735 277.1428571428572,1543.2142857142862 278.16326530612247,1541.5306122448983 279.1836734693878,1539.8469387755104 280.204081632653,1538.1632653061222 281.2244897959183,1536.4795918367345 282.2448979591836,1534.7959183673468 283.265306122449,1533.1122448979593 284.28571428571433,1531.428571428571 285.30612244897964,1529.7448979591838 286.32653061224494,1528.0612244897961 287.34693877551024,1526.3775510204082 288.3673469387755,1524.6938775510205 289.38775510204084,1523.0102040816328 290.4081632653061,1521.3265306122448 291.4285714285714,1519.642857142857 292.4489795918368,1517.9591836734696 293.46938775510205,1516.2755102040817 294.4897959183674,1514.591836734694 295.51020408163265,1512.9081632653063 296.53061224489795,1511.2244897959183 297.55102040816325,1509.5408163265308 298.5714285714286,1507.857142857143 299.59183673469386,1506.1734693877552 300.61224489795916,1504.4897959183672 301.6326530612245,1502.8061224489797 302.6530612244898,1501.1224489795918 303.6734693877552,1499.438775510204 304.6938775510204,1497.7551020408164 305.7142857142857,1496.0714285714284 306.734693877551,1494.387755102041 307.7551020408164,1492.704081632653 308.7755102040817,1491.0204081632655 309.795918367347,1489.3367346938776 310.8163265306123,1487.6530612244899 311.8367346938776,1485.9693877551022 312.8571428571429,1484.2857142857142 313.87755102040813,1482.6020408163265 314.8979591836735,1480.9183673469388 315.9183673469388,1479.234693877551 316.9387755102041,1477.5510204081634 317.9591836734694,1475.8673469387754 318.97959183673464,1474.183673469388 320.0,1472.5 320.0,1472.5 321.02040816326524,1470.8163265306123 322.04081632653055,1469.1326530612241 323.0612244897959,1467.4489795918369 324.08163265306126,1465.765306122449 325.1020408163265,1464.0816326530614 326.1224489795918,1462.3979591836733 327.1428571428572,1460.7142857142858 328.16326530612247,1459.030612244898 329.18367346938777,1457.3469387755104 330.204081632653,1455.6632653061222 331.2244897959183,1453.9795918367342 332.2448979591836,1452.295918367347 333.265306122449,1450.612244897959 334.2857142857143,1448.9285714285716 335.30612244897964,1447.244897959184 336.3265306122449,1445.5612244897961 337.34693877551024,1443.8775510204084 338.3673469387755,1442.1938775510205 339.3877551020408,1440.5102040816328 340.40816326530603,1438.8265306122448 341.4285714285714,1437.1428571428569 342.44897959183675,1435.4591836734694 343.469387755102,1433.7755102040817 344.4897959183673,1432.0918367346937 345.51020408163265,1430.4081632653063 346.5306122448979,1428.7244897959183 347.55102040816325,1427.0408163265306 348.5714285714286,1425.357142857143 349.59183673469386,1423.6734693877552 350.61224489795916,1421.9897959183675 351.6326530612245,1420.3061224489795 352.65306122448976,1418.6224489795918 353.67346938775506,1416.938775510204 354.6938775510204,1415.2551020408162 355.71428571428567,1413.5714285714284 356.73469387755097,1411.8877551020407 357.75510204081627,1410.204081632653 358.77551020408157,1408.5204081632653 359.7959183673469,1406.8367346938776 360.8163265306123,1405.1530612244899 361.83673469387753,1403.4693877551022 362.8571428571429,1401.7857142857142 363.87755102040813,1400.1020408163265 364.89795918367344,1398.4183673469388 365.9183673469388,1396.7346938775509 366.9387755102041,1395.0510204081634 367.9591836734694,1393.3673469387757 368.97959183673464,1391.6836734693877 370.0,1390.0\" stroke=\"#8c35cd\" stroke-width=\"1\" /><polyline fill=\"none\" points=\"363.13250226176325,1391.6844805773032 370,1390 371.6844805773033,1396.8674977382368 370,1390\" stroke=\"#8c35cd\" stroke-width=\"1\" /><rect fill=\"white\" height=\"13\" rx=\"2\" ry=\"2\" stroke=\"#8c35cd\" stroke-width=\"1\" transform=\"rotate(-58.781597235653635 318.5 1469.0)\" width=\"35.22222222222222\" x=\"300.8888888888889\" y=\"1462.5\" /><text fill=\"#8c35cd\" font-family=\"courier\" font-size=\"12\" transform=\"rotate(-58.781597235653635 318.5 1469.0)\" x=\"303.8888888888889\" y=\"1472.5\">TeRP</text><polyline fill=\"none\" points=\"148.0,1455.0 150.31632653061223,1454.3367346938774 152.63265306122446,1453.6734693877547 154.94897959183675,1453.0102040816328 157.26530612244898,1452.3469387755104 159.58163265306123,1451.6836734693877 161.8979591836735,1451.0204081632653 164.21428571428575,1450.3571428571433 166.53061224489798,1449.6938775510207 168.84693877551024,1449.0306122448983 171.1632653061224,1448.3673469387754 173.47959183673464,1447.704081632653 175.79591836734693,1447.0408163265304 178.11224489795916,1446.3775510204082 180.42857142857142,1445.7142857142858 182.7448979591837,1445.0510204081634 185.06122448979596,1444.387755102041 187.3775510204082,1443.7244897959185 189.6938775510204,1443.0612244897961 192.01020408163265,1442.3979591836735 194.32653061224488,1441.7346938775509 196.64285714285714,1441.0714285714284 198.95918367346937,1440.4081632653063 201.27551020408163,1439.7448979591836 203.5918367346939,1439.0816326530614 205.90816326530611,1438.4183673469388 208.22448979591834,1437.7551020408164 210.5408163265306,1437.091836734694 212.8571428571429,1436.4285714285718 215.17346938775512,1435.7653061224491 217.48979591836735,1435.1020408163265 219.8061224489796,1434.4387755102043 222.12244897959187,1433.7755102040815 224.4387755102041,1433.1122448979593 226.75510204081633,1432.4489795918366 229.0714285714286,1431.7857142857142 231.3877551020408,1431.1224489795918 233.70408163265307,1430.4591836734694 236.0204081632653,1429.795918367347 238.33673469387756,1429.1326530612246 240.65306122448982,1428.4693877551022 242.96938775510205,1427.8061224489797 245.28571428571428,1427.1428571428573 247.60204081632654,1426.4795918367347 249.91836734693874,1425.816326530612 252.23469387755102,1425.1530612244896 254.55102040816325,1424.4897959183672 256.86734693877554,1423.826530612245 259.18367346938777,1423.1632653061224 261.5,1422.5 261.5,1422.5 263.81632653061223,1421.8367346938776 266.13265306122446,1421.173469387755 268.44897959183675,1420.5102040816328 270.765306122449,1419.8469387755104 273.0816326530612,1419.1836734693877 275.39795918367344,1418.520408163265 277.7142857142858,1417.8571428571431 280.03061224489795,1417.1938775510207 282.34693877551024,1416.530612244898 284.6632653061224,1415.8673469387752 286.9795918367347,1415.2040816326526 289.29591836734687,1414.5408163265304 291.61224489795916,1413.8775510204082 293.92857142857144,1413.2142857142856 296.2448979591837,1412.5510204081634 298.56122448979596,1411.8877551020407 300.87755102040825,1411.2244897959183 303.1938775510204,1410.561224489796 305.5102040816326,1409.8979591836733 307.8265306122448,1409.2346938775509 310.14285714285705,1408.5714285714284 312.45918367346934,1407.9081632653063 314.7755102040816,1407.2448979591834 317.09183673469386,1406.581632653061 319.4081632653061,1405.9183673469388 321.7244897959183,1405.2551020408162 324.04081632653055,1404.591836734694 326.35714285714283,1403.9285714285716 328.67346938775506,1403.265306122449 330.98979591836735,1402.6020408163265 333.3061224489796,1401.938775510204 335.6224489795918,1401.2755102040815 337.93877551020404,1400.612244897959 340.2551020408163,1399.9489795918366 342.57142857142856,1399.2857142857142 344.8877551020408,1398.6224489795918 347.204081632653,1397.9591836734694 349.5204081632653,1397.295918367347 351.83673469387753,1396.6326530612243 354.15306122448976,1395.9693877551022 356.46938775510205,1395.3061224489797 358.7857142857143,1394.6428571428573 361.1020408163265,1393.9795918367347 363.41836734693874,1393.3163265306123 365.734693877551,1392.6530612244896 368.05102040816325,1391.9897959183675 370.36734693877554,1391.326530612245 372.6836734693877,1390.6632653061224 375.0,1390.0\" stroke=\"#d46992\" stroke-width=\"1\" /><polyline fill=\"none\" points=\"368.8167779872857,1386.5695823080146 375,1390 371.5695823080147,1396.1832220127144 375,1390\" stroke=\"#d46992\" stroke-width=\"1\" /><rect fill=\"white\" height=\"13\" rx=\"2\" ry=\"2\" stroke=\"#d46992\" stroke-width=\"1\" transform=\"rotate(-15.978726775297405 260.0 1419.0)\" width=\"42.407407407407405\" x=\"238.7962962962963\" y=\"1412.5\" /><text fill=\"#d46992\" font-family=\"courier\" font-size=\"12\" transform=\"rotate(-15.978726775297405 260.0 1419.0)\" x=\"241.7962962962963\" y=\"1422.5\">TrNAP</text><polyline fill=\"none\" points=\"509.0,755.0 511.59183673469386,754.3367346938776 514.1836734693876,753.6734693877551 516.7755102040816,753.0102040816327 519.3673469387754,752.3469387755102 521.9591836734695,751.6836734693877 524.5510204081631,751.0204081632652 527.1428571428573,750.3571428571431 529.7346938775511,749.6938775510206 532.3265306122449,749.0306122448982 534.9183673469388,748.3673469387755 537.5102040816325,747.7040816326529 540.1020408163265,747.0408163265306 542.6938775510205,746.3775510204082 545.2857142857143,745.7142857142859 547.8775510204083,745.0510204081634 550.4693877551022,744.387755102041 553.061224489796,743.7244897959185 555.6530612244899,743.0612244897959 558.2448979591836,742.3979591836735 560.8367346938775,741.7346938775509 563.4285714285714,741.0714285714286 566.0204081632654,740.4081632653063 568.6122448979592,739.7448979591837 571.2040816326531,739.0816326530612 573.7959183673469,738.4183673469388 576.3877551020408,737.7551020408163 578.9795918367347,737.0918367346939 581.5714285714287,736.4285714285716 584.1632653061224,735.7653061224491 586.7551020408164,735.1020408163265 589.3469387755104,734.4387755102042 591.9387755102041,733.7755102040816 594.5306122448981,733.1122448979593 597.1224489795919,732.4489795918367 599.7142857142858,731.7857142857143 602.3061224489796,731.1224489795918 604.8979591836735,730.4591836734694 607.4897959183673,729.795918367347 610.0816326530612,729.1326530612246 612.6734693877552,728.469387755102 615.265306122449,727.8061224489796 617.8571428571429,727.1428571428571 620.4489795918367,726.4795918367347 623.0408163265306,725.8163265306123 625.6326530612246,725.1530612244899 628.2244897959183,724.4897959183673 630.8163265306123,723.8265306122448 633.4081632653061,723.1632653061224 636.0,722.5 636.0,722.5 638.5918367346939,721.8367346938775 641.1836734693876,721.173469387755 643.7755102040816,720.5102040816327 646.3673469387755,719.8469387755101 648.9591836734693,719.1836734693878 651.5510204081631,718.5204081632652 654.1428571428572,717.8571428571429 656.734693877551,717.1938775510205 659.3265306122449,716.530612244898 661.9183673469387,715.8673469387754 664.5102040816325,715.204081632653 667.1020408163264,714.5408163265305 669.6938775510203,713.8775510204081 672.2857142857143,713.2142857142858 674.8775510204082,712.5510204081634 677.4693877551019,711.8877551020408 680.0612244897959,711.2244897959184 682.6530612244896,710.5612244897959 685.2448979591836,709.8979591836735 687.8367346938774,709.2346938775509 690.4285714285713,708.5714285714283 693.0204081632653,707.908163265306 695.6122448979592,707.2448979591837 698.2040816326531,706.5816326530612 700.7959183673469,705.9183673469387 703.3877551020407,705.2551020408162 705.9795918367347,704.5918367346939 708.5714285714284,703.9285714285716 711.1632653061224,703.265306122449 713.7551020408164,702.6020408163265 716.3469387755102,701.9387755102041 718.9387755102041,701.2755102040816 721.530612244898,700.6122448979592 724.1224489795918,699.9489795918366 726.7142857142857,699.2857142857143 729.3061224489795,698.6224489795918 731.8979591836735,697.9591836734694 734.4897959183673,697.295918367347 737.0816326530612,696.6326530612245 739.6734693877552,695.969387755102 742.2653061224489,695.3061224489795 744.8571428571429,694.6428571428571 747.4489795918367,693.9795918367347 750.0408163265305,693.3163265306122 752.6326530612245,692.6530612244899 755.2244897959184,691.9897959183673 757.8163265306123,691.3265306122448 760.408163265306,690.6632653061224 763.0,690.0\" stroke=\"#0398da\" stroke-width=\"1\" /><polyline fill=\"none\" points=\"756.9165104755389,686.3956754855074 763,690 759.3956754855074,696.0834895244611 763,690\" stroke=\"#0398da\" stroke-width=\"1\" /><rect fill=\"white\" height=\"13\" rx=\"2\" ry=\"2\" stroke=\"#0398da\" stroke-width=\"1\" transform=\"rotate(-14.354255629728266 634.5 719.0)\" width=\"35.22222222222222\" x=\"616.8888888888889\" y=\"712.5\" /><text fill=\"#0398da\" font-family=\"courier\" font-size=\"12\" transform=\"rotate(-14.354255629728266 634.5 719.0)\" x=\"619.8888888888889\" y=\"722.5\">TrWP</text><polyline fill=\"none\" points=\"794.0,855.0 791.408163265306,854.3367346938775 788.8163265306122,853.6734693877551 786.2244897959184,853.0102040816328 783.6326530612245,852.3469387755104 781.0408163265307,851.6836734693877 778.4489795918365,851.0204081632651 775.857142857143,850.357142857143 773.2653061224491,849.6938775510205 770.6734693877553,849.0306122448981 768.0816326530612,848.3673469387753 765.4897959183672,847.704081632653 762.8979591836734,847.0408163265306 760.3061224489796,846.3775510204082 757.7142857142858,845.7142857142857 755.1224489795919,845.0510204081635 752.5306122448981,844.387755102041 749.9387755102042,843.7244897959185 747.3469387755101,843.0612244897959 744.7551020408164,842.3979591836735 742.1632653061223,841.734693877551 739.5714285714284,841.0714285714284 736.9795918367348,840.4081632653061 734.3877551020408,839.7448979591837 731.795918367347,839.0816326530612 729.2040816326531,838.4183673469388 726.6122448979592,837.7551020408163 724.0204081632653,837.091836734694 721.4285714285716,836.4285714285716 718.8367346938776,835.7653061224491 716.2448979591837,835.1020408163266 713.6530612244899,834.4387755102041 711.0612244897959,833.7755102040817 708.469387755102,833.1122448979593 705.8775510204082,832.4489795918366 703.2857142857143,831.7857142857144 700.6938775510204,831.1224489795918 698.1020408163265,830.4591836734694 695.5102040816328,829.795918367347 692.9183673469388,829.1326530612246 690.326530612245,828.4693877551022 687.7346938775511,827.8061224489796 685.1428571428571,827.1428571428571 682.5510204081633,826.4795918367347 679.9591836734694,825.8163265306123 677.3673469387755,825.1530612244899 674.7755102040817,824.4897959183673 672.1836734693878,823.8265306122449 669.5918367346939,823.1632653061224 667.0,822.5 667.0,822.5 664.408163265306,821.8367346938775 661.8163265306123,821.1734693877551 659.2244897959183,820.5102040816327 656.6326530612246,819.8469387755102 654.0408163265306,819.1836734693877 651.4489795918365,818.5204081632653 648.857142857143,817.857142857143 646.265306122449,817.1938775510205 643.6734693877552,816.530612244898 641.0816326530611,815.8673469387753 638.4897959183672,815.2040816326529 635.8979591836734,814.5408163265304 633.3061224489795,813.8775510204081 630.7142857142857,813.2142857142857 628.1224489795919,812.5510204081634 625.530612244898,811.8877551020408 622.9387755102042,811.2244897959183 620.3469387755101,810.5612244897959 617.7551020408164,809.8979591836735 615.1632653061223,809.2346938775509 612.5714285714284,808.5714285714284 609.9795918367346,807.9081632653061 607.3877551020407,807.2448979591836 604.795918367347,806.5816326530613 602.204081632653,805.9183673469387 599.6122448979592,805.2551020408163 597.0204081632653,804.5918367346937 594.4285714285714,803.9285714285714 591.8367346938776,803.2653061224489 589.2448979591836,802.6020408163265 586.6530612244898,801.9387755102041 584.0612244897959,801.2755102040815 581.4693877551019,800.612244897959 578.8775510204081,799.9489795918366 576.2857142857142,799.2857142857142 573.6938775510204,798.6224489795918 571.1020408163265,797.9591836734694 568.5102040816327,797.295918367347 565.9183673469388,796.6326530612245 563.3265306122448,795.969387755102 560.734693877551,795.3061224489795 558.1428571428571,794.6428571428571 555.5510204081631,793.9795918367346 552.9591836734694,793.3163265306122 550.3673469387755,792.6530612244899 547.7755102040817,791.9897959183673 545.1836734693877,791.3265306122448 542.5918367346939,790.6632653061224 540.0,790.0\" stroke=\"#8c35cd\" stroke-width=\"1\" /><polyline fill=\"none\" points=\"543.6043245144926,796.0834895244611 540,790 546.0834895244611,786.3956754855074 540,790\" stroke=\"#8c35cd\" stroke-width=\"1\" /><rect fill=\"white\" height=\"13\" rx=\"2\" ry=\"2\" stroke=\"#8c35cd\" stroke-width=\"1\" transform=\"rotate(14.354255629728266 665.5 819.0)\" width=\"35.22222222222222\" x=\"647.8888888888889\" y=\"812.5\" /><text fill=\"#8c35cd\" font-family=\"courier\" font-size=\"12\" transform=\"rotate(14.354255629728266 665.5 819.0)\" x=\"650.8888888888889\" y=\"822.5\">TeRP</text><polyline fill=\"none\" points=\"104.0,255.0 106.72448979591836,254.33673469387753 109.44897959183672,253.67346938775506 112.17346938775512,253.0102040816327 114.89795918367348,252.3469387755102 117.62244897959184,251.68367346938777 120.34693877551018,251.02040816326527 123.07142857142861,250.35714285714292 125.79591836734696,249.69387755102048 128.52040816326533,249.03061224489795 131.24489795918365,248.36734693877548 133.96938775510202,247.70408163265301 136.6938775510204,247.04081632653057 139.41836734693877,246.37755102040813 142.14285714285714,245.71428571428572 144.86734693877554,245.0510204081633 147.59183673469389,244.38775510204087 150.31632653061226,243.7244897959184 153.0408163265306,243.0612244897959 155.76530612244898,242.3979591836735 158.48979591836732,241.734693877551 161.2142857142857,241.07142857142856 163.93877551020407,240.40816326530614 166.66326530612244,239.74489795918367 169.3877551020408,239.08163265306123 172.11224489795916,238.41836734693877 174.83673469387753,237.75510204081633 177.5612244897959,237.0918367346939 180.2857142857143,236.42857142857144 183.01020408163265,235.76530612244898 185.734693877551,235.10204081632654 188.4591836734694,234.43877551020412 191.18367346938774,233.77551020408163 193.90816326530611,233.11224489795916 196.6326530612245,232.44897959183675 199.35714285714286,231.7857142857143 202.0816326530612,231.12244897959184 204.80612244897958,230.4591836734694 207.53061224489795,229.79591836734696 210.25510204081633,229.13265306122452 212.9795918367347,228.46938775510205 215.70408163265307,227.80612244897958 218.42857142857144,227.14285714285717 221.1530612244898,226.4795918367347 223.87755102040813,225.81632653061223 226.60204081632654,225.15306122448982 229.32653061224488,224.48979591836735 232.05102040816325,223.8265306122449 234.77551020408163,223.16326530612244 237.5,222.5 237.5,222.5 240.22448979591834,221.83673469387753 242.94897959183672,221.17346938775506 245.67346938775512,220.51020408163268 248.39795918367346,219.84693877551018 251.1224489795918,219.18367346938777 253.84693877551018,218.52040816326527 256.5714285714286,217.85714285714292 259.295918367347,217.19387755102045 262.0204081632653,216.53061224489798 264.7448979591836,215.86734693877548 267.469387755102,215.20408163265301 270.19387755102036,214.54081632653055 272.91836734693874,213.87755102040816 275.64285714285717,213.21428571428572 278.36734693877554,212.55102040816328 281.0918367346939,211.8877551020408 283.8163265306123,211.22448979591837 286.5408163265306,210.5612244897959 289.265306122449,209.89795918367346 291.9897959183673,209.23469387755094 294.7142857142857,208.57142857142853 297.4387755102041,207.90816326530611 300.1632653061224,207.24489795918365 302.88775510204084,206.58163265306123 305.61224489795916,205.91836734693874 308.3367346938775,205.25510204081633 311.06122448979596,204.59183673469386 313.78571428571433,203.92857142857144 316.51020408163265,203.26530612244898 319.23469387755097,202.6020408163265 321.9591836734694,201.93877551020407 324.6836734693877,201.27551020408163 327.40816326530614,200.6122448979592 330.13265306122446,199.94897959183672 332.8571428571429,199.2857142857143 335.5816326530612,198.62244897959184 338.30612244897964,197.9591836734694 341.03061224489795,197.29591836734693 343.75510204081627,196.6326530612245 346.4795918367347,195.96938775510205 349.204081632653,195.30612244897958 351.92857142857144,194.64285714285717 354.65306122448976,193.9795918367347 357.37755102040813,193.31632653061223 360.1020408163265,192.65306122448982 362.8265306122449,191.98979591836735 365.55102040816325,191.32653061224488 368.2755102040816,190.66326530612247 371.0,190.0\" stroke=\"#8c35cd\" stroke-width=\"1\" /><polyline fill=\"none\" points=\"364.9592014885241,186.32457439964418 371,190 367.3245743996442,196.04079851147588 371,190\" stroke=\"#8c35cd\" stroke-width=\"1\" /><rect fill=\"white\" height=\"13\" rx=\"2\" ry=\"2\" stroke=\"#8c35cd\" stroke-width=\"1\" transform=\"rotate(-13.682258160256879 236.0 219.0)\" width=\"35.22222222222222\" x=\"218.38888888888889\" y=\"212.5\" /><text fill=\"#8c35cd\" font-family=\"courier\" font-size=\"12\" transform=\"rotate(-13.682258160256879 236.0 219.0)\" x=\"221.38888888888889\" y=\"222.5\">TeRP</text><polyline fill=\"none\" points=\"499.0,755.0 494.67346938775506,753.7960798646823 490.3469387755101,752.593128713376 486.02040816326536,751.3921155300937 481.6938775510204,750.1940092988466 477.36734693877554,748.9997790036464 473.0408163265306,747.810393628505 468.71428571428584,746.6268221574346 464.3877551020409,745.4500335744461 460.06122448979596,744.2809968635519 455.73469387755097,743.1206810087633 451.4081632653061,741.9700549940925 447.0816326530612,740.8300878035511 442.75510204081627,739.701748421151 438.4285714285715,738.5860058309039 434.1020408163266,737.4838290168213 429.77551020408174,736.3961869629153 425.4489795918368,735.3240486531973 421.12244897959187,734.2683830716794 416.7959183673469,733.2301592023732 412.469387755102,732.2103460292905 408.1428571428571,731.2099125364431 403.8163265306123,730.2298277078429 399.48979591836735,729.2710605275013 395.16326530612247,728.3345799794304 390.83673469387753,727.4213550476417 386.51020408163265,726.5323547161472 382.18367346938777,725.6685479689586 377.8571428571429,724.8309037900875 373.530612244898,724.0203911635458 369.20408163265313,723.2379790733453 364.87755102040825,722.4846365034978 360.55102040816325,721.7613324380147 356.22448979591843,721.0690358609083 351.8979591836735,720.4087157561901 347.5714285714286,719.7813411078719 343.24489795918373,719.1878808999652 338.9183673469388,718.6293041164821 334.59183673469386,718.1065797414343 330.26530612244903,717.6206767588335 325.9387755102041,717.1725641526916 321.6122448979592,716.76321090702 317.28571428571433,716.3935860058309 312.9591836734694,716.0646584331358 308.6326530612245,715.7773971729466 304.30612244897964,715.5327712092751 299.9795918367347,715.3317495261329 295.6530612244898,715.1753011075318 291.32653061224494,715.0643949374835 287.0,715.0 287.0,715.0 282.6734693877551,714.9827622844223 278.3469387755101,715.0120358014092 274.0204081632653,715.0868515669491 269.6938775510204,715.2062405970302 265.3673469387755,715.3692339076405 261.04081632653055,715.5748625147684 256.7142857142858,715.8221574344026 252.38775510204084,716.1101496825303 248.06122448979593,716.4378702751405 243.734693877551,716.804350228221 239.4081632653061,717.2086205577607 235.08163265306115,717.6497122797472 230.7551020408163,718.1266564101691 226.42857142857142,718.6384839650145 222.1020408163266,719.1842259602718 217.77551020408166,719.7629134119287 213.44897959183675,720.3735773359739 209.12244897959184,721.0152487483956 204.7959183673469,721.6869586651819 200.469387755102,722.3877381023211 196.1428571428571,723.1166180758016 191.81632653061226,723.8726296016115 187.48979591836735,724.6548036957389 183.16326530612247,725.4621713741723 178.83673469387753,726.2937636528998 174.51020408163265,727.1486115479095 170.18367346938774,728.0257460751898 165.85714285714286,728.9241982507289 161.53061224489795,729.842999090515 157.20408163265307,730.7811796105365 152.8775510204082,731.7377708267813 148.55102040816325,732.711803755238 144.22448979591837,733.7023094118946 139.89795918367346,734.7083188127395 135.57142857142858,735.7288629737609 131.24489795918367,736.7629729109469 126.91836734693878,737.8096796402858 122.59183673469389,738.8680141777661 118.265306122449,739.9370075393756 113.9387755102041,741.0156907411027 109.61224489795919,742.1030947989358 105.28571428571429,743.1982507288631 100.95918367346937,744.3001895468724 96.63265306122452,745.4079422689525 92.30612244897961,746.5205399110915 87.9795918367347,747.6370134892775 83.6530612244898,748.7563940194987 79.32653061224491,749.8777125177435 75.0,751.0\" stroke=\"#0398da\" stroke-width=\"1\" /><polyline fill=\"none\" points=\"80.94653184377044,754.8260631242864 75,751 78.82606312428639,745.0534681562295 75,751\" stroke=\"#0398da\" stroke-width=\"1\" /><rect fill=\"white\" height=\"13\" rx=\"2\" ry=\"2\" stroke=\"#0398da\" stroke-width=\"1\" transform=\"rotate(0.5405101871306665 285.5 716.5)\" width=\"35.22222222222222\" x=\"267.8888888888889\" y=\"710\" /><text fill=\"#0398da\" font-family=\"courier\" font-size=\"12\" transform=\"rotate(0.5405101871306665 285.5 716.5)\" x=\"270.8888888888889\" y=\"720\">TrWP</text><polyline fill=\"none\" points=\"216.0,355.0 219.21428571428567,354.33673469387753 222.4285714285714,353.67346938775506 225.64285714285717,353.01020408163265 228.85714285714283,352.3469387755102 232.07142857142856,351.68367346938777 235.28571428571425,351.02040816326524 238.50000000000006,350.35714285714295 241.71428571428575,349.6938775510205 244.92857142857147,349.030612244898 248.14285714285708,348.3673469387755 251.35714285714283,347.7040816326531 254.57142857142853,347.04081632653055 257.7857142857143,346.37755102040813 261.0,345.7142857142857 264.2142857142857,345.0510204081633 267.42857142857144,344.38775510204084 270.6428571428572,343.72448979591843 273.85714285714283,343.06122448979596 277.0714285714286,342.39795918367355 280.2857142857142,341.734693877551 283.5,341.07142857142856 286.7142857142857,340.40816326530614 289.9285714285714,339.74489795918373 293.14285714285717,339.08163265306126 296.3571428571429,338.4183673469388 299.57142857142856,337.7551020408163 302.7857142857143,337.09183673469386 306.0,336.4285714285715 309.2142857142857,335.76530612244903 312.42857142857144,335.10204081632656 315.64285714285717,334.43877551020415 318.85714285714283,333.7755102040816 322.0714285714286,333.11224489795916 325.2857142857143,332.44897959183675 328.5,331.78571428571433 331.71428571428567,331.1224489795918 334.92857142857144,330.4591836734694 338.1428571428571,329.795918367347 341.3571428571429,329.1326530612245 344.57142857142856,328.46938775510205 347.7857142857143,327.80612244897964 351.0,327.14285714285717 354.21428571428567,326.4795918367347 357.4285714285714,325.81632653061223 360.6428571428571,325.1530612244898 363.85714285714283,324.4897959183674 367.07142857142856,323.82653061224494 370.2857142857143,323.1632653061224 373.5,322.5 373.5,322.5 376.7142857142857,321.8367346938775 379.9285714285714,321.17346938775506 383.1428571428572,320.5102040816327 386.35714285714283,319.84693877551024 389.57142857142856,319.1836734693877 392.7857142857143,318.5204081632653 396.00000000000006,317.85714285714295 399.2142857142857,317.1938775510204 402.4285714285715,316.53061224489795 405.64285714285705,315.8673469387754 408.8571428571428,315.204081632653 412.0714285714285,314.5408163265305 415.2857142857143,313.87755102040813 418.5,313.21428571428567 421.71428571428584,312.55102040816325 424.92857142857144,311.88775510204084 428.14285714285717,311.22448979591843 431.35714285714283,310.5612244897959 434.57142857142856,309.89795918367344 437.7857142857142,309.2346938775509 440.99999999999994,308.57142857142856 444.2142857142857,307.90816326530614 447.42857142857144,307.2448979591837 450.64285714285717,306.5816326530612 453.85714285714283,305.91836734693874 457.07142857142856,305.2551020408163 460.2857142857142,304.59183673469386 463.50000000000006,303.92857142857144 466.71428571428567,303.265306122449 469.9285714285714,302.6020408163265 473.14285714285717,301.9387755102041 476.35714285714283,301.2755102040816 479.57142857142856,300.61224489795916 482.78571428571433,299.94897959183675 486.0,299.28571428571433 489.21428571428567,298.6224489795918 492.4285714285714,297.9591836734694 495.6428571428571,297.295918367347 498.85714285714283,296.63265306122446 502.07142857142856,295.96938775510205 505.2857142857143,295.3061224489796 508.5,294.64285714285717 511.71428571428567,293.9795918367347 514.9285714285713,293.31632653061223 518.1428571428571,292.6530612244898 521.3571428571429,291.98979591836735 524.5714285714286,291.3265306122449 527.7857142857142,290.66326530612247 531.0,290.0\" stroke=\"#8c35cd\" stroke-width=\"1\" /><polyline fill=\"none\" points=\"525.0927091602623,286.11362444754104 531,290 527.113624447541,295.9072908397377 531,290\" stroke=\"#8c35cd\" stroke-width=\"1\" /><rect fill=\"white\" height=\"13\" rx=\"2\" ry=\"2\" stroke=\"#8c35cd\" stroke-width=\"1\" transform=\"rotate(-11.659292653522998 372.0 319.0)\" width=\"35.22222222222222\" x=\"354.3888888888889\" y=\"312.5\" /><text fill=\"#8c35cd\" font-family=\"courier\" font-size=\"12\" transform=\"rotate(-11.659292653522998 372.0 319.0)\" x=\"357.3888888888889\" y=\"322.5\">TeRP</text><polyline fill=\"none\" points=\"216.0,555.0 219.13265306122446,554.3367346938775 222.26530612244895,553.6734693877552 225.39795918367346,553.0102040816328 228.53061224489795,552.3469387755102 231.66326530612244,551.6836734693878 234.79591836734693,551.0204081632653 237.9285714285715,550.3571428571431 241.06122448979593,549.6938775510205 244.19387755102045,549.030612244898 247.32653061224485,548.3673469387754 250.45918367346937,547.704081632653 253.59183673469386,547.0408163265305 256.7244897959183,546.3775510204082 259.8571428571429,545.7142857142858 262.9897959183674,545.0510204081634 266.1224489795918,544.3877551020408 269.2551020408163,543.7244897959184 272.38775510204084,543.061224489796 275.52040816326536,542.3979591836735 278.65306122448976,541.734693877551 281.7857142857143,541.0714285714286 284.9183673469388,540.4081632653061 288.05102040816325,539.7448979591837 291.18367346938777,539.0816326530613 294.31632653061223,538.4183673469388 297.44897959183675,537.7551020408164 300.58163265306126,537.091836734694 303.7142857142858,536.4285714285714 306.84693877551024,535.765306122449 309.9795918367347,535.1020408163266 313.1122448979592,534.4387755102041 316.2448979591837,533.7755102040817 319.3775510204082,533.1122448979593 322.51020408163265,532.4489795918367 325.64285714285717,531.7857142857143 328.7755102040817,531.1224489795918 331.90816326530614,530.4591836734694 335.0408163265306,529.795918367347 338.1734693877551,529.1326530612246 341.30612244897964,528.4693877551022 344.4387755102041,527.8061224489795 347.57142857142856,527.1428571428571 350.704081632653,526.4795918367347 353.83673469387753,525.8163265306123 356.96938775510205,525.1530612244899 360.1020408163265,524.4897959183673 363.234693877551,523.8265306122449 366.3673469387755,523.1632653061224 369.5,522.5 369.5,522.5 372.63265306122446,521.8367346938775 375.7653061224489,521.173469387755 378.89795918367355,520.5102040816328 382.03061224489795,519.8469387755101 385.1632653061224,519.1836734693877 388.2959183673469,518.5204081632653 391.4285714285715,517.857142857143 394.56122448979596,517.1938775510204 397.6938775510204,516.530612244898 400.8265306122448,515.8673469387754 403.95918367346934,515.204081632653 407.0918367346938,514.5408163265305 410.2244897959183,513.8775510204081 413.3571428571428,513.2142857142857 416.48979591836735,512.5510204081633 419.62244897959187,511.88775510204084 422.7551020408164,511.22448979591843 425.8877551020408,510.5612244897959 429.0204081632653,509.89795918367344 432.15306122448965,509.2346938775509 435.28571428571416,508.57142857142844 438.41836734693874,507.90816326530614 441.5510204081632,507.2448979591837 444.6836734693878,506.58163265306126 447.81632653061223,505.91836734693874 450.94897959183663,505.25510204081627 454.0816326530612,504.59183673469386 457.2142857142857,503.92857142857144 460.3469387755102,503.265306122449 463.47959183673464,502.60204081632656 466.61224489795916,501.9387755102041 469.7448979591836,501.27551020408157 472.8775510204082,500.61224489795916 476.01020408163265,499.9489795918367 479.1428571428571,499.2857142857143 482.2755102040816,498.6224489795918 485.40816326530614,497.9591836734694 488.5408163265306,497.2959183673469 491.67346938775506,496.63265306122446 494.80612244897964,495.96938775510205 497.9387755102041,495.3061224489796 501.07142857142856,494.64285714285717 504.204081632653,493.9795918367347 507.3367346938775,493.31632653061223 510.46938775510205,492.6530612244898 513.6020408163265,491.98979591836735 516.734693877551,491.3265306122449 519.8673469387755,490.66326530612247 523.0,490.0\" stroke=\"#8c35cd\" stroke-width=\"1\" /><polyline fill=\"none\" points=\"517.0727648864283,486.14411049063347 523,490 519.1441104906335,495.92723511357167 523,490\" stroke=\"#8c35cd\" stroke-width=\"1\" /><rect fill=\"white\" height=\"13\" rx=\"2\" ry=\"2\" stroke=\"#8c35cd\" stroke-width=\"1\" transform=\"rotate(-11.954482802493075 368.0 519.0)\" width=\"35.22222222222222\" x=\"350.3888888888889\" y=\"512.5\" /><text fill=\"#8c35cd\" font-family=\"courier\" font-size=\"12\" transform=\"rotate(-11.954482802493075 368.0 519.0)\" x=\"353.3888888888889\" y=\"522.5\">TeRP</text><polyline fill=\"none\" points=\"687.0,1155.0 681.7959183673469,1153.796079864682 676.5918367346937,1152.593128713376 671.387755102041,1151.3921155300939 666.1836734693878,1150.1940092988466 660.9795918367346,1148.9997790036464 655.7755102040816,1147.810393628505 650.5714285714287,1146.6268221574346 645.3673469387757,1145.450033574446 640.1632653061224,1144.2809968635518 634.9591836734693,1143.1206810087633 629.7551020408163,1141.9700549940924 624.5510204081631,1140.8300878035511 619.3469387755101,1139.701748421151 614.1428571428572,1138.586005830904 608.9387755102042,1137.4838290168216 603.734693877551,1136.3961869629152 598.5306122448981,1135.3240486531975 593.3265306122449,1134.2683830716794 588.1224489795918,1133.2301592023732 582.9183673469386,1132.2103460292903 577.7142857142857,1131.209912536443 572.5102040816327,1130.2298277078428 567.3061224489796,1129.2710605275013 562.1020408163265,1128.3345799794304 556.8979591836735,1127.4213550476418 551.6938775510205,1126.5323547161472 546.4897959183673,1125.6685479689586 541.2857142857143,1124.8309037900876 536.0816326530612,1124.020391163546 530.8775510204082,1123.2379790733453 525.6734693877552,1122.4846365034978 520.469387755102,1121.761332438015 515.2653061224489,1121.0690358609083 510.06122448979585,1120.40871575619 504.8571428571429,1119.7813411078719 499.6530612244899,1119.1878808999652 494.4489795918368,1118.6293041164822 489.24489795918373,1118.1065797414344 484.0408163265306,1117.6206767588337 478.8367346938776,1117.1725641526916 473.6326530612245,1116.76321090702 468.42857142857144,1116.393586005831 463.2244897959183,1116.0646584331357 458.0204081632653,1115.7773971729466 452.8163265306123,1115.532771209275 447.6122448979593,1115.3317495261329 442.40816326530614,1115.1753011075318 437.204081632653,1115.0643949374835 432.0,1115.0 432.0,1115.0 426.79591836734687,1114.9827622844223 421.59183673469386,1115.0120358014092 416.38775510204084,1115.0868515669492 411.18367346938777,1115.20624059703 405.9795918367347,1115.3692339076404 400.7755102040815,1115.5748625147683 395.57142857142867,1115.8221574344027 390.36734693877554,1116.1101496825302 385.1632653061225,1116.4378702751405 379.95918367346934,1116.8043502282212 374.75510204081627,1117.2086205577607 369.5510204081632,1117.6497122797473 364.34693877551024,1118.1266564101693 359.14285714285717,1118.6384839650145 353.93877551020415,1119.1842259602718 348.734693877551,1119.7629134119288 343.530612244898,1120.3735773359742 338.3265306122449,1121.0152487483956 333.12244897959187,1121.686958665182 327.91836734693874,1122.387738102321 322.71428571428567,1123.1166180758016 317.51020408163265,1123.8726296016116 312.3061224489796,1124.654803695739 307.1020408163265,1125.4621713741724 301.89795918367344,1126.2937636528998 296.6938775510204,1127.1486115479092 291.4897959183674,1128.0257460751898 286.28571428571433,1128.9241982507288 281.08163265306126,1129.842999090515 275.8775510204082,1130.7811796105364 270.6734693877551,1131.7377708267813 265.46938775510205,1132.711803755238 260.265306122449,1133.7023094118947 255.0612244897959,1134.7083188127394 249.8571428571429,1135.728862973761 244.65306122448982,1136.762972910947 239.44897959183675,1137.809679640286 234.24489795918367,1138.8680141777659 229.04081632653066,1139.9370075393756 223.8367346938776,1141.0156907411028 218.63265306122452,1142.1030947989357 213.42857142857144,1143.198250728863 208.22448979591837,1144.3001895468724 203.02040816326533,1145.4079422689524 197.8163265306123,1146.5205399110914 192.61224489795921,1147.6370134892775 187.40816326530614,1148.7563940194987 182.20408163265307,1149.8777125177435 177.0,1151.0\" stroke=\"#8c35cd\" stroke-width=\"1\" /><polyline fill=\"none\" points=\"182.8082138389515,1155.0329458217304 177,1151 181.03294582173035,1145.1917861610484 177,1151\" stroke=\"#8c35cd\" stroke-width=\"1\" /><rect fill=\"white\" height=\"13\" rx=\"2\" ry=\"2\" stroke=\"#8c35cd\" stroke-width=\"1\" transform=\"rotate(0.449369448707963 430.5 1116.5)\" width=\"35.22222222222222\" x=\"412.8888888888889\" y=\"1110\" /><text fill=\"#8c35cd\" font-family=\"courier\" font-size=\"12\" transform=\"rotate(0.449369448707963 430.5 1116.5)\" x=\"415.8888888888889\" y=\"1120\">TeRP</text><polyline fill=\"none\" points=\"124.0,1855.0 128.43877551020407,1854.3367346938774 132.87755102040816,1853.673469387755 137.31632653061226,1853.0102040816328 141.75510204081633,1852.3469387755104 146.1938775510204,1851.683673469388 150.63265306122446,1851.020408163265 155.0714285714286,1850.3571428571433 159.51020408163268,1849.6938775510207 163.94897959183675,1849.030612244898 168.3877551020408,1848.3673469387752 172.82653061224485,1847.7040816326528 177.26530612244898,1847.0408163265304 181.70408163265304,1846.377551020408 186.14285714285714,1845.7142857142858 190.58163265306123,1845.0510204081636 195.0204081632653,1844.3877551020407 199.45918367346943,1843.7244897959185 203.89795918367346,1843.0612244897961 208.33673469387756,1842.3979591836735 212.77551020408157,1841.7346938775509 217.21428571428567,1841.0714285714282 221.6530612244898,1840.4081632653063 226.09183673469386,1839.7448979591838 230.53061224489798,1839.0816326530612 234.96938775510205,1838.4183673469388 239.4081632653061,1837.7551020408164 243.84693877551018,1837.091836734694 248.2857142857143,1836.4285714285716 252.72448979591837,1835.7653061224491 257.1632653061224,1835.1020408163267 261.60204081632656,1834.438775510204 266.0408163265306,1833.7755102040815 270.4795918367347,1833.1122448979593 274.9183673469388,1832.4489795918369 279.35714285714283,1831.7857142857144 283.79591836734687,1831.122448979592 288.234693877551,1830.4591836734694 292.67346938775506,1829.795918367347 297.11224489795916,1829.1326530612246 301.55102040816325,1828.4693877551022 305.98979591836735,1827.8061224489795 310.42857142857144,1827.142857142857 314.8673469387755,1826.4795918367347 319.3061224489795,1825.8163265306123 323.7448979591837,1825.1530612244899 328.18367346938777,1824.4897959183675 332.6224489795918,1823.8265306122448 337.0612244897959,1823.1632653061224 341.5,1822.5 341.5,1822.5 345.93877551020404,1821.8367346938774 350.3775510204081,1821.1734693877547 354.8163265306123,1820.5102040816328 359.2551020408163,1819.8469387755101 363.69387755102036,1819.1836734693875 368.13265306122446,1818.5204081632653 372.5714285714286,1817.8571428571431 377.0102040816327,1817.1938775510207 381.4489795918368,1816.5306122448983 385.8877551020408,1815.867346938775 390.3265306122448,1815.2040816326528 394.76530612244886,1814.5408163265304 399.204081632653,1813.877551020408 403.6428571428571,1813.2142857142856 408.08163265306126,1812.5510204081634 412.5204081632653,1811.887755102041 416.9591836734694,1811.2244897959185 421.39795918367344,1810.5612244897957 425.83673469387753,1809.8979591836735 430.27551020408157,1809.2346938775506 434.71428571428567,1808.571428571428 439.1530612244899,1807.908163265306 443.59183673469386,1807.2448979591836 448.03061224489795,1806.5816326530612 452.46938775510205,1805.9183673469386 456.9081632653061,1805.255102040816 461.3469387755102,1804.591836734694 465.78571428571433,1803.9285714285713 470.2244897959184,1803.265306122449 474.6632653061224,1802.6020408163263 479.1020408163265,1801.9387755102043 483.5408163265306,1801.2755102040815 487.97959183673464,1800.612244897959 492.4183673469387,1799.9489795918366 496.8571428571429,1799.2857142857144 501.29591836734687,1798.6224489795918 505.73469387755097,1797.9591836734694 510.17346938775506,1797.295918367347 514.6122448979592,1796.6326530612246 519.0510204081633,1795.9693877551022 523.4897959183673,1795.3061224489795 527.9285714285714,1794.642857142857 532.3673469387755,1793.9795918367345 536.8061224489795,1793.316326530612 541.2448979591836,1792.6530612244896 545.6836734693877,1791.9897959183672 550.1224489795918,1791.3265306122448 554.5612244897959,1790.6632653061224 559.0,1790.0\" stroke=\"#8c35cd\" stroke-width=\"1\" /><polyline fill=\"none\" points=\"553.3159794207162,1785.79382477133 559,1790 554.7938247713299,1795.6840205792837 559,1790\" stroke=\"#8c35cd\" stroke-width=\"1\" /><rect fill=\"white\" height=\"13\" rx=\"2\" ry=\"2\" stroke=\"#8c35cd\" stroke-width=\"1\" transform=\"rotate(-8.498558879493682 340.0 1819.0)\" width=\"35.22222222222222\" x=\"322.3888888888889\" y=\"1812.5\" /><text fill=\"#8c35cd\" font-family=\"courier\" font-size=\"12\" transform=\"rotate(-8.498558879493682 340.0 1819.0)\" x=\"325.3888888888889\" y=\"1822.5\">TeRP</text><polyline fill=\"none\" points=\"177.0,1155.0 182.18367346938774,1153.316326530612 187.3673469387755,1151.6326530612243 192.55102040816328,1149.9489795918369 197.73469387755102,1148.265306122449 202.91836734693877,1146.5816326530612 208.10204081632648,1144.8979591836733 213.28571428571433,1143.214285714286 218.46938775510208,1141.530612244898 223.65306122448985,1139.8469387755101 228.8367346938775,1138.1632653061222 234.02040816326527,1136.4795918367345 239.20408163265304,1134.7959183673468 244.3877551020408,1133.112244897959 249.5714285714286,1131.4285714285713 254.75510204081638,1129.7448979591838 259.9387755102041,1128.0612244897961 265.1224489795919,1126.3775510204084 270.3061224489796,1124.6938775510205 275.48979591836735,1123.0102040816325 280.67346938775506,1121.3265306122446 285.85714285714283,1119.6428571428569 291.0408163265306,1117.9591836734694 296.2244897959184,1116.2755102040817 301.4081632653062,1114.5918367346937 306.5918367346939,1112.908163265306 311.77551020408157,1111.2244897959183 316.9591836734694,1109.5408163265306 322.14285714285717,1107.857142857143 327.32653061224494,1106.1734693877552 332.51020408163265,1104.4897959183675 337.6938775510205,1102.8061224489797 342.8775510204082,1101.1224489795918 348.0612244897959,1099.438775510204 353.24489795918373,1097.7551020408164 358.42857142857144,1096.0714285714287 363.61224489795916,1094.3877551020407 368.795918367347,1092.704081632653 373.9795918367347,1091.0204081632653 379.16326530612247,1089.3367346938776 384.34693877551024,1087.6530612244899 389.53061224489795,1085.969387755102 394.7142857142858,1084.2857142857142 399.89795918367344,1082.6020408163265 405.0816326530612,1080.9183673469388 410.265306122449,1079.234693877551 415.4489795918367,1077.5510204081634 420.63265306122446,1075.8673469387757 425.81632653061223,1074.1836734693877 431.0,1072.5 431.0,1072.5 436.1836734693877,1070.816326530612 441.3673469387755,1069.1326530612243 446.55102040816325,1067.4489795918369 451.734693877551,1065.765306122449 456.91836734693874,1064.0816326530612 462.10204081632645,1062.3979591836735 467.2857142857144,1060.714285714286 472.46938775510205,1059.030612244898 477.6530612244898,1057.3469387755101 482.8367346938774,1055.6632653061224 488.0204081632652,1053.9795918367347 493.20408163265296,1052.2959183673468 498.3877551020407,1050.6122448979593 503.5714285714286,1048.9285714285716 508.7551020408164,1047.2448979591838 513.9387755102041,1045.561224489796 519.1224489795918,1043.8775510204082 524.3061224489795,1042.1938775510205 529.4897959183673,1040.5102040816328 534.673469387755,1038.8265306122448 539.8571428571428,1037.142857142857 545.0408163265306,1035.4591836734696 550.2244897959183,1033.7755102040817 555.4081632653061,1032.091836734694 560.5918367346939,1030.408163265306 565.7755102040816,1028.7244897959183 570.9591836734694,1027.0408163265306 576.1428571428571,1025.357142857143 581.3265306122448,1023.6734693877552 586.5102040816325,1021.9897959183675 591.6938775510204,1020.3061224489797 596.8775510204081,1018.6224489795918 602.0612244897959,1016.9387755102041 607.2448979591836,1015.2551020408164 612.4285714285713,1013.5714285714284 617.612244897959,1011.887755102041 622.7959183673469,1010.2040816326531 627.9795918367347,1008.5204081632653 633.1632653061224,1006.8367346938776 638.3469387755101,1005.1530612244898 643.5306122448978,1003.4693877551022 648.7142857142858,1001.7857142857144 653.8979591836734,1000.1020408163265 659.0816326530612,998.4183673469388 664.2653061224489,996.7346938775511 669.4489795918367,995.0510204081634 674.6326530612245,993.3673469387755 679.8163265306123,991.6836734693877 685.0,990.0\" stroke=\"#8c35cd\" stroke-width=\"1\" /><polyline fill=\"none\" points=\"678.6999709039799,986.7891382170358 685,990 681.7891382170358,996.3000290960201 685,990\" stroke=\"#8c35cd\" stroke-width=\"1\" /><rect fill=\"white\" height=\"13\" rx=\"2\" ry=\"2\" stroke=\"#8c35cd\" stroke-width=\"1\" transform=\"rotate(-17.99395982021873 429.5 1069.0)\" width=\"35.22222222222222\" x=\"411.8888888888889\" y=\"1062.5\" /><text fill=\"#8c35cd\" font-family=\"courier\" font-size=\"12\" transform=\"rotate(-17.99395982021873 429.5 1069.0)\" x=\"414.8888888888889\" y=\"1072.5\">TeRP</text><polyline fill=\"none\" points=\"211.0,555.0 216.74489795918365,553.3163265306123 222.48979591836732,551.6326530612245 228.23469387755102,549.9489795918369 233.9795918367347,548.265306122449 239.72448979591837,546.5816326530612 245.46938775510202,544.8979591836734 251.2142857142858,543.2142857142858 256.95918367346945,541.5306122448981 262.70408163265313,539.8469387755102 268.4489795918367,538.1632653061224 274.19387755102036,536.4795918367347 279.9387755102041,534.7959183673469 285.68367346938777,533.1122448979592 291.42857142857144,531.4285714285714 297.1734693877551,529.7448979591837 302.91836734693885,528.061224489796 308.6632653061225,526.3775510204083 314.4081632653061,524.6938775510204 320.1530612244899,523.0102040816328 325.89795918367344,521.3265306122448 331.6428571428571,519.6428571428571 337.3877551020409,517.9591836734694 343.1326530612245,516.2755102040816 348.87755102040825,514.591836734694 354.62244897959187,512.9081632653061 360.3673469387755,511.2244897959183 366.1122448979592,509.5408163265306 371.8571428571429,507.8571428571429 377.6020408163266,506.1734693877551 383.34693877551024,504.48979591836735 389.09183673469397,502.80612244897964 394.8367346938776,501.1224489795918 400.5816326530613,499.4387755102041 406.32653061224494,497.75510204081627 412.0714285714286,496.07142857142856 417.8163265306123,494.38775510204084 423.5612244897959,492.704081632653 429.30612244897964,491.0204081632653 435.05102040816325,489.3367346938776 440.795918367347,487.6530612244898 446.5408163265306,485.96938775510205 452.28571428571433,484.28571428571433 458.03061224489795,482.6020408163265 463.7755102040816,480.91836734693874 469.5204081632653,479.234693877551 475.26530612244903,477.55102040816325 481.01020408163265,475.8673469387755 486.7551020408163,474.1836734693877 492.5,472.5 492.5,472.5 498.2448979591836,470.81632653061223 503.98979591836735,469.1326530612244 509.7346938775511,467.44897959183675 515.4795918367347,465.7653061224489 521.2244897959183,464.08163265306115 526.9693877551019,462.3979591836734 532.7142857142858,460.71428571428584 538.4591836734694,459.030612244898 544.2040816326531,457.34693877551024 549.9489795918366,455.6632653061224 555.6938775510203,453.97959183673464 561.4387755102039,452.29591836734687 567.1836734693876,450.61224489795916 572.9285714285713,448.92857142857144 578.6734693877552,447.24489795918373 584.4183673469388,445.56122448979596 590.1632653061225,443.87755102040825 595.9081632653061,442.1938775510204 601.6530612244898,440.5102040816327 607.3979591836733,438.8265306122448 613.1428571428571,437.1428571428571 618.8877551020407,435.4591836734694 624.6326530612243,433.7755102040816 630.3775510204081,432.09183673469386 636.1224489795918,430.4081632653061 641.8673469387754,428.7244897959183 647.612244897959,427.0408163265306 653.3571428571429,425.3571428571429 659.1020408163265,423.6734693877551 664.8469387755101,421.98979591836735 670.5918367346939,420.30612244897964 676.3367346938775,418.62244897959187 682.0816326530612,416.9387755102041 687.8265306122448,415.2551020408163 693.5714285714286,413.5714285714286 699.3163265306123,411.88775510204084 705.0612244897959,410.20408163265313 710.8061224489795,408.5204081632653 716.5510204081633,406.8367346938776 722.295918367347,405.1530612244898 728.0408163265306,403.46938775510205 733.7857142857142,401.78571428571433 739.530612244898,400.1020408163265 745.2755102040816,398.41836734693874 751.0204081632653,396.7346938775511 756.7653061224489,395.05102040816325 762.5102040816325,393.36734693877554 768.2551020408164,391.68367346938777 774.0,390.0\" stroke=\"#8c35cd\" stroke-width=\"1\" /><polyline fill=\"none\" points=\"767.7956007605268,386.6080344817166 774,390 770.6080344817166,396.2043992394732 774,390\" stroke=\"#8c35cd\" stroke-width=\"1\" /><rect fill=\"white\" height=\"13\" rx=\"2\" ry=\"2\" stroke=\"#8c35cd\" stroke-width=\"1\" transform=\"rotate(-16.33442705792688 491.0 469.0)\" width=\"35.22222222222222\" x=\"473.3888888888889\" y=\"462.5\" /><text fill=\"#8c35cd\" font-family=\"courier\" font-size=\"12\" transform=\"rotate(-16.33442705792688 491.0 469.0)\" x=\"476.3888888888889\" y=\"472.5\">TeRP</text><polyline fill=\"none\" points=\"80.0,755.0 87.02040816326529,754.3367346938776 94.04081632653059,753.6734693877551 101.06122448979593,753.0102040816327 108.08163265306122,752.3469387755102 115.10204081632652,751.6836734693877 122.12244897959182,751.0204081632652 129.14285714285717,750.3571428571431 136.16326530612247,749.6938775510206 143.18367346938777,749.0306122448982 150.20408163265304,748.3673469387755 157.22448979591834,747.7040816326529 164.24489795918367,747.0408163265306 171.26530612244898,746.3775510204082 178.28571428571428,745.7142857142859 185.3061224489796,745.0510204081634 192.3265306122449,744.387755102041 199.3469387755102,743.7244897959185 206.3673469387755,743.0612244897959 213.38775510204084,742.3979591836735 220.4081632653061,741.7346938775509 227.42857142857144,741.0714285714286 234.44897959183675,740.4081632653063 241.46938775510205,739.7448979591837 248.48979591836735,739.0816326530612 255.51020408163268,738.4183673469388 262.53061224489795,737.7551020408163 269.55102040816325,737.0918367346939 276.5714285714286,736.4285714285716 283.59183673469386,735.7653061224491 290.61224489795916,735.1020408163265 297.6326530612246,734.4387755102042 304.65306122448976,733.7755102040816 311.6734693877551,733.1122448979593 318.6938775510204,732.4489795918367 325.71428571428567,731.7857142857143 332.73469387755097,731.1224489795918 339.75510204081627,730.4591836734694 346.7755102040816,729.795918367347 353.7959183673469,729.1326530612246 360.81632653061223,728.469387755102 367.83673469387753,727.8061224489796 374.8571428571429,727.1428571428571 381.8775510204082,726.4795918367347 388.89795918367344,725.8163265306123 395.91836734693874,725.1530612244899 402.9387755102041,724.4897959183673 409.9591836734694,723.8265306122448 416.9795918367347,723.1632653061224 424.0,722.5 424.0,722.5 431.0204081632653,721.8367346938775 438.04081632653055,721.173469387755 445.06122448979596,720.5102040816327 452.0816326530612,719.8469387755101 459.1020408163265,719.1836734693878 466.12244897959187,718.5204081632652 473.1428571428573,717.8571428571429 480.16326530612247,717.1938775510205 487.18367346938777,716.530612244898 494.204081632653,715.8673469387754 501.2244897959183,715.204081632653 508.24489795918356,714.5408163265305 515.2653061224489,713.8775510204081 522.2857142857142,713.2142857142858 529.3061224489796,712.5510204081634 536.3265306122448,711.8877551020408 543.3469387755102,711.2244897959184 550.3673469387754,710.5612244897959 557.3877551020408,709.8979591836735 564.4081632653059,709.2346938775509 571.4285714285713,708.5714285714283 578.4489795918367,707.908163265306 585.4693877551019,707.2448979591837 592.4897959183673,706.5816326530612 599.5102040816327,705.9183673469387 606.5306122448978,705.2551020408162 613.5510204081631,704.5918367346939 620.5714285714286,703.9285714285716 627.5918367346939,703.265306122449 634.6122448979592,702.6020408163265 641.6326530612245,701.9387755102041 648.6530612244896,701.2755102040816 655.6734693877551,700.6122448979592 662.6938775510204,699.9489795918366 669.7142857142857,699.2857142857143 676.734693877551,698.6224489795918 683.7551020408163,697.9591836734694 690.7755102040817,697.295918367347 697.7959183673469,696.6326530612245 704.8163265306123,695.969387755102 711.8367346938775,695.3061224489795 718.8571428571429,694.6428571428571 725.8775510204082,693.9795918367347 732.8979591836734,693.3163265306122 739.9183673469387,692.6530612244899 746.9387755102041,691.9897959183673 753.9591836734694,691.3265306122448 760.9795918367346,690.6632653061224 768.0,690.0\" stroke=\"#39bf7f\" stroke-width=\"1\" /><polyline fill=\"none\" points=\"762.551876841958,685.492455873227 768,690 763.492455873227,695.448123158042 768,690\" stroke=\"#39bf7f\" stroke-width=\"1\" /><rect fill=\"white\" height=\"13\" rx=\"2\" ry=\"2\" stroke=\"#39bf7f\" stroke-width=\"1\" transform=\"rotate(-5.3970988402365725 422.5 719.0)\" width=\"35.22222222222222\" x=\"404.8888888888889\" y=\"712.5\" /><text fill=\"#39bf7f\" font-family=\"courier\" font-size=\"12\" transform=\"rotate(-5.3970988402365725 422.5 719.0)\" x=\"407.8888888888889\" y=\"722.5\">TrCP</text></svg>"
      ],
      "text/plain": [
       "<IPython.core.display.HTML object>"
      ]
     },
     "metadata": {
      "tags": []
     },
     "output_type": "display_data"
    }
   ],
   "source": [
    "text = [\n",
    "        \"\"\"This is the case of a very pleasant 46-year-old Caucasian female, seen in clinic on 12/11/07 during which time MRI of the left shoulder showed no evidence of rotator cuff tear. She did have a previous MRI of the cervical spine that did show an osteophyte on the left C6-C7 level. Based on this, negative MRI of the shoulder, the patient was recommended to have anterior cervical discectomy with anterior interbody fusion at C6-C7 level. Operation, expected outcome, risks, and benefits were discussed with her. Risks include, but not exclusive of bleeding and infection, bleeding could be soft tissue bleeding, which may compromise airway and may result in return to the operating room emergently for evacuation of said hematoma. There is also the possibility of bleeding into the epidural space, which can compress the spinal cord and result in weakness and numbness of all four extremities as well as impairment of bowel and bladder function. However, the patient may develop deeper-seated infection, which may require return to the operating room. Should the infection be in the area of the spinal instrumentation, this will cause a dilemma since there might be a need to remove the spinal instrumentation and/or allograft. There is also the possibility of potential injury to the esophageus, the trachea, and the carotid artery. There is also the risks of stroke on the right cerebral circulation should an undiagnosed plaque be propelled from the right carotid. She understood all of these risks and agreed to have the procedure performed.\"\"\",\n",
    "]\n",
    "res = lmodel.fullAnnotate(text)[0]\n",
    "\n",
    "from sparknlp_display import RelationExtractionVisualizer\n",
    "\n",
    "vis = RelationExtractionVisualizer()\n",
    "vis.display(res, 'relations', show_relations=True) # default show_relations: True\n"
   ]
  },
  {
   "cell_type": "markdown",
   "metadata": {
    "id": "8bQmNVDJ1aQT"
   },
   "source": [
    "## **Entity Resolution Visualisation**"
   ]
  },
  {
   "cell_type": "code",
   "execution_count": 6,
   "metadata": {
    "colab": {
     "base_uri": "https://localhost:8080/"
    },
    "id": "ZfOj1kVE1jPL",
    "outputId": "d227f9a7-2e7c-4f8e-b3d2-cfdbe522166c"
   },
   "outputs": [
    {
     "name": "stdout",
     "output_type": "stream",
     "text": [
      "embeddings_clinical download started this may take some time.\n",
      "Approximate size to download 1.6 GB\n",
      "[OK!]\n",
      "ner_clinical download started this may take some time.\n",
      "Approximate size to download 13.8 MB\n",
      "[OK!]\n",
      "chunkresolve_snomed_findings_clinical download started this may take some time.\n",
      "Approximate size to download 162.6 MB\n",
      "[OK!]\n"
     ]
    }
   ],
   "source": [
    "document_assembler = DocumentAssembler() \\\n",
    "    .setInputCol('text')\\\n",
    "    .setOutputCol('document')\n",
    "\n",
    "sentence_detector = SentenceDetector() \\\n",
    "    .setInputCols(['document'])\\\n",
    "    .setOutputCol('sentences')\n",
    "\n",
    "tokenizer = Tokenizer()\\\n",
    "    .setInputCols(['sentences']) \\\n",
    "    .setOutputCol('tokens')\n",
    "\n",
    "embeddings = WordEmbeddingsModel.pretrained('embeddings_clinical', 'en', 'clinical/models')\\\n",
    "    .setInputCols([\"sentences\", \"tokens\"])\\\n",
    "    .setOutputCol(\"embeddings\")\n",
    "\n",
    "ner_model = NerDLModel().pretrained('ner_clinical', 'en', 'clinical/models')\\\n",
    "    .setInputCols(\"sentences\", \"tokens\", \"embeddings\")\\\n",
    "    .setOutputCol(\"ner_tags\")   \n",
    "\n",
    "ner_chunker = NerConverter()\\\n",
    "    .setInputCols([\"sentences\", \"tokens\", \"ner_tags\"])\\\n",
    "    .setOutputCol(\"ner_chunk\")#.setWhiteList(['PROBLEM','TREATMENT'])\n",
    "\n",
    "chunk_embeddings = ChunkEmbeddings()\\\n",
    "    .setInputCols(\"ner_chunk\", \"embeddings\")\\\n",
    "    .setOutputCol(\"chunk_embeddings\")\n",
    "\n",
    "entity_resolver = \\\n",
    "    ChunkEntityResolverModel.pretrained(\"chunkresolve_snomed_findings_clinical\",\"en\",\"clinical/models\")\\\n",
    "    .setInputCols(\"tokens\",\"chunk_embeddings\").setOutputCol(\"resolution\")\n",
    "    \n",
    "pipeline = Pipeline(stages=[\n",
    "    document_assembler, \n",
    "    sentence_detector,\n",
    "    tokenizer,\n",
    "    embeddings,\n",
    "    ner_model,\n",
    "    ner_chunker,\n",
    "    chunk_embeddings,\n",
    "    entity_resolver])\n",
    "\n",
    "empty_df = spark.createDataFrame([['']]).toDF(\"text\")\n",
    "pipelineModel = pipeline.fit(empty_df)\n",
    "\n",
    "lmodel = sparknlp.base.LightPipeline(pipelineModel)"
   ]
  },
  {
   "cell_type": "code",
   "execution_count": 7,
   "metadata": {
    "colab": {
     "base_uri": "https://localhost:8080/",
     "height": 1000
    },
    "id": "QCzoW-sO1j3l",
    "outputId": "fb126552-e9a4-48e6-8186-1aeec5eb6a4c"
   },
   "outputs": [
    {
     "data": {
      "text/html": [
       "\n",
       "<style>\n",
       "    @import url('https://fonts.googleapis.com/css2?family=Montserrat:wght@300;400;500;600;700&display=swap');\n",
       "    @import url('https://fonts.googleapis.com/css2?family=Vistol Regular:wght@300;400;500;600;700&display=swap');\n",
       "    \n",
       "    .spark-nlp-display-scroll-entities {\n",
       "        border: 1px solid #E7EDF0;\n",
       "        border-radius: 3px;\n",
       "        text-align: justify;\n",
       "        \n",
       "    }\n",
       "    .spark-nlp-display-scroll-entities span {  \n",
       "        font-size: 14px;\n",
       "        line-height: 24px;\n",
       "        color: #536B76;\n",
       "        font-family: 'Montserrat', sans-serif !important;\n",
       "    }\n",
       "    \n",
       "    .spark-nlp-display-entity-wrapper{\n",
       "    \n",
       "        display: inline-grid;\n",
       "        text-align: center;\n",
       "        border-radius: 4px;\n",
       "        margin: 0 2px 5px 2px;\n",
       "        padding: 1px\n",
       "    }\n",
       "    .spark-nlp-display-entity-name{\n",
       "        font-size: 14px;\n",
       "        line-height: 24px;\n",
       "        font-family: 'Montserrat', sans-serif !important;\n",
       "        \n",
       "        background: #f1f2f3;\n",
       "        border-width: medium;\n",
       "        text-align: center;\n",
       "        \n",
       "        font-weight: 400;\n",
       "        \n",
       "        border-radius: 5px;\n",
       "        padding: 2px 5px;\n",
       "        display: block;\n",
       "        margin: 3px 2px;\n",
       "    \n",
       "    }\n",
       "    .spark-nlp-display-entity-type{\n",
       "        font-size: 14px;\n",
       "        line-height: 24px;\n",
       "        color: #ffffff;\n",
       "        font-family: 'Montserrat', sans-serif !important;\n",
       "        \n",
       "        text-transform: uppercase;\n",
       "        \n",
       "        font-weight: 500;\n",
       "\n",
       "        display: block;\n",
       "        padding: 3px 5px;\n",
       "    }\n",
       "    \n",
       "    .spark-nlp-display-entity-resolution{\n",
       "        font-size: 14px;\n",
       "        line-height: 24px;\n",
       "        color: #ffffff;\n",
       "        font-family: 'Vistol Regular', sans-serif !important;\n",
       "        \n",
       "        text-transform: uppercase;\n",
       "        \n",
       "        font-weight: 500;\n",
       "\n",
       "        display: block;\n",
       "        padding: 3px 5px;\n",
       "    }\n",
       "    \n",
       "    .spark-nlp-display-others{\n",
       "        font-size: 14px;\n",
       "        line-height: 24px;\n",
       "        font-family: 'Montserrat', sans-serif !important;\n",
       "        \n",
       "        font-weight: 400;\n",
       "    }\n",
       "\n",
       "</style>\n",
       " <span class=\"spark-nlp-display-others\" style=\"background-color: white\">This is the case of a very pleasant 46-year-old Caucasian female, seen in clinic on 12/11/07 during which </span><span class=\"spark-nlp-display-entity-wrapper\" style=\"background-color: #e6ccffB3\"><span class=\"spark-nlp-display-entity-name\">time MRI of the left shoulder </span><span class=\"spark-nlp-display-entity-type\">TEST</span><span class=\"spark-nlp-display-entity-resolution\" style=\"background-color: #e6ccffFF\">11780921000119100 </span><span class=\"spark-nlp-display-entity-resolution\" style=\"background-color: #e6ccffCC\">Injury of left shoulder</span></span><span class=\"spark-nlp-display-others\" style=\"background-color: white\"> showed no evidence of </span><span class=\"spark-nlp-display-entity-wrapper\" style=\"background-color: #800080B3\"><span class=\"spark-nlp-display-entity-name\">rotator cuff tear </span><span class=\"spark-nlp-display-entity-type\">PROBLEM</span><span class=\"spark-nlp-display-entity-resolution\" style=\"background-color: #800080FF\">4106009 </span><span class=\"spark-nlp-display-entity-resolution\" style=\"background-color: #800080CC\">Rotator cuff tear</span></span><span class=\"spark-nlp-display-others\" style=\"background-color: white\">. She did have </span><span class=\"spark-nlp-display-entity-wrapper\" style=\"background-color: #e6ccffB3\"><span class=\"spark-nlp-display-entity-name\">a previous MRI of the cervical spine </span><span class=\"spark-nlp-display-entity-type\">TEST</span><span class=\"spark-nlp-display-entity-resolution\" style=\"background-color: #e6ccffFF\">116275003 </span><span class=\"spark-nlp-display-entity-resolution\" style=\"background-color: #e6ccffCC\">Finding of cervical spine</span></span><span class=\"spark-nlp-display-others\" style=\"background-color: white\"> that did show </span><span class=\"spark-nlp-display-entity-wrapper\" style=\"background-color: #800080B3\"><span class=\"spark-nlp-display-entity-name\">an osteophyte on the left C6-C7 level </span><span class=\"spark-nlp-display-entity-type\">PROBLEM</span><span class=\"spark-nlp-display-entity-resolution\" style=\"background-color: #800080FF\">316551000119104 </span><span class=\"spark-nlp-display-entity-resolution\" style=\"background-color: #800080CC\">Osteophyte of left ankle (disorder)</span></span><span class=\"spark-nlp-display-others\" style=\"background-color: white\">. Based on this, negative </span><span class=\"spark-nlp-display-entity-wrapper\" style=\"background-color: #e6ccffB3\"><span class=\"spark-nlp-display-entity-name\">MRI of the shoulder </span><span class=\"spark-nlp-display-entity-type\">TEST</span><span class=\"spark-nlp-display-entity-resolution\" style=\"background-color: #e6ccffFF\">267949000 </span><span class=\"spark-nlp-display-entity-resolution\" style=\"background-color: #e6ccffCC\">Arthralgia of the shoulder region</span></span><span class=\"spark-nlp-display-others\" style=\"background-color: white\">, the patient was recommended to have </span><span class=\"spark-nlp-display-entity-wrapper\" style=\"background-color: #008080B3\"><span class=\"spark-nlp-display-entity-name\">anterior cervical discectomy </span><span class=\"spark-nlp-display-entity-type\">TREATMENT</span><span class=\"spark-nlp-display-entity-resolution\" style=\"background-color: #008080FF\">109402007 </span><span class=\"spark-nlp-display-entity-resolution\" style=\"background-color: #008080CC\">Anterior perimaxillary faciosynostosis</span></span><span class=\"spark-nlp-display-others\" style=\"background-color: white\"> with </span><span class=\"spark-nlp-display-entity-wrapper\" style=\"background-color: #008080B3\"><span class=\"spark-nlp-display-entity-name\">anterior interbody fusion at C6-C7 level </span><span class=\"spark-nlp-display-entity-type\">TREATMENT</span><span class=\"spark-nlp-display-entity-resolution\" style=\"background-color: #008080FF\">721515003 </span><span class=\"spark-nlp-display-entity-resolution\" style=\"background-color: #008080CC\">Anterior cord syndrome of spinal cord at fourth lumbar level</span></span><span class=\"spark-nlp-display-others\" style=\"background-color: white\">. Operation, expected outcome, risks, and benefits were discussed with her. Risks include, but not exclusive of </span><span class=\"spark-nlp-display-entity-wrapper\" style=\"background-color: #800080B3\"><span class=\"spark-nlp-display-entity-name\">bleeding </span><span class=\"spark-nlp-display-entity-type\">PROBLEM</span><span class=\"spark-nlp-display-entity-resolution\" style=\"background-color: #800080FF\">266603000 </span><span class=\"spark-nlp-display-entity-resolution\" style=\"background-color: #800080CC\">Ovulation bleeding</span></span><span class=\"spark-nlp-display-others\" style=\"background-color: white\"> and </span><span class=\"spark-nlp-display-entity-wrapper\" style=\"background-color: #800080B3\"><span class=\"spark-nlp-display-entity-name\">infection </span><span class=\"spark-nlp-display-entity-type\">PROBLEM</span><span class=\"spark-nlp-display-entity-resolution\" style=\"background-color: #800080FF\">128351009 </span><span class=\"spark-nlp-display-entity-resolution\" style=\"background-color: #800080CC\">Eye infection</span></span><span class=\"spark-nlp-display-others\" style=\"background-color: white\">, </span><span class=\"spark-nlp-display-entity-wrapper\" style=\"background-color: #800080B3\"><span class=\"spark-nlp-display-entity-name\">bleeding </span><span class=\"spark-nlp-display-entity-type\">PROBLEM</span><span class=\"spark-nlp-display-entity-resolution\" style=\"background-color: #800080FF\">266603000 </span><span class=\"spark-nlp-display-entity-resolution\" style=\"background-color: #800080CC\">Ovulation bleeding</span></span><span class=\"spark-nlp-display-others\" style=\"background-color: white\"> could be </span><span class=\"spark-nlp-display-entity-wrapper\" style=\"background-color: #800080B3\"><span class=\"spark-nlp-display-entity-name\">soft tissue bleeding </span><span class=\"spark-nlp-display-entity-type\">PROBLEM</span><span class=\"spark-nlp-display-entity-resolution\" style=\"background-color: #800080FF\">95880003 </span><span class=\"spark-nlp-display-entity-resolution\" style=\"background-color: #800080CC\">Soft tissue infection</span></span><span class=\"spark-nlp-display-others\" style=\"background-color: white\">, which may compromise airway and may result in return to the operating room emergently for </span><span class=\"spark-nlp-display-entity-wrapper\" style=\"background-color: #008080B3\"><span class=\"spark-nlp-display-entity-name\">evacuation </span><span class=\"spark-nlp-display-entity-type\">TREATMENT</span><span class=\"spark-nlp-display-entity-resolution\" style=\"background-color: #008080FF\">249515001 </span><span class=\"spark-nlp-display-entity-resolution\" style=\"background-color: #008080CC\">Incomplete bowel evacuation</span></span><span class=\"spark-nlp-display-others\" style=\"background-color: white\"> of said </span><span class=\"spark-nlp-display-entity-wrapper\" style=\"background-color: #800080B3\"><span class=\"spark-nlp-display-entity-name\">hematoma </span><span class=\"spark-nlp-display-entity-type\">PROBLEM</span><span class=\"spark-nlp-display-entity-resolution\" style=\"background-color: #800080FF\">236002003 </span><span class=\"spark-nlp-display-entity-resolution\" style=\"background-color: #800080CC\">Retroperitoneal hematoma</span></span><span class=\"spark-nlp-display-others\" style=\"background-color: white\">. There is also the possibility of </span><span class=\"spark-nlp-display-entity-wrapper\" style=\"background-color: #800080B3\"><span class=\"spark-nlp-display-entity-name\">bleeding into the epidural space </span><span class=\"spark-nlp-display-entity-type\">PROBLEM</span><span class=\"spark-nlp-display-entity-resolution\" style=\"background-color: #800080FF\">450379002 </span><span class=\"spark-nlp-display-entity-resolution\" style=\"background-color: #800080CC\">Haemorrhage into epidural space of spine</span></span><span class=\"spark-nlp-display-others\" style=\"background-color: white\">, which can compress the spinal cord and result in </span><span class=\"spark-nlp-display-entity-wrapper\" style=\"background-color: #800080B3\"><span class=\"spark-nlp-display-entity-name\">weakness </span><span class=\"spark-nlp-display-entity-type\">PROBLEM</span><span class=\"spark-nlp-display-entity-resolution\" style=\"background-color: #800080FF\">13791008 </span><span class=\"spark-nlp-display-entity-resolution\" style=\"background-color: #800080CC\">Weakness</span></span><span class=\"spark-nlp-display-others\" style=\"background-color: white\"> and </span><span class=\"spark-nlp-display-entity-wrapper\" style=\"background-color: #800080B3\"><span class=\"spark-nlp-display-entity-name\">numbness of all four extremities </span><span class=\"spark-nlp-display-entity-type\">PROBLEM</span><span class=\"spark-nlp-display-entity-resolution\" style=\"background-color: #800080FF\">609554006 </span><span class=\"spark-nlp-display-entity-resolution\" style=\"background-color: #800080CC\">Paralytic syndrome of all four limbs</span></span><span class=\"spark-nlp-display-others\" style=\"background-color: white\"> as well as </span><span class=\"spark-nlp-display-entity-wrapper\" style=\"background-color: #800080B3\"><span class=\"spark-nlp-display-entity-name\">impairment of bowel and bladder function </span><span class=\"spark-nlp-display-entity-type\">PROBLEM</span><span class=\"spark-nlp-display-entity-resolution\" style=\"background-color: #800080FF\">129023004 </span><span class=\"spark-nlp-display-entity-resolution\" style=\"background-color: #800080CC\">Maintains bowel and bladder continence</span></span><span class=\"spark-nlp-display-others\" style=\"background-color: white\">. However, the patient may develop </span><span class=\"spark-nlp-display-entity-wrapper\" style=\"background-color: #800080B3\"><span class=\"spark-nlp-display-entity-name\">deeper-seated infection </span><span class=\"spark-nlp-display-entity-type\">PROBLEM</span><span class=\"spark-nlp-display-entity-resolution\" style=\"background-color: #800080FF\">419468003 </span><span class=\"spark-nlp-display-entity-resolution\" style=\"background-color: #800080CC\">Gardnerella infection</span></span><span class=\"spark-nlp-display-others\" style=\"background-color: white\">, which may require return to the operating room. Should </span><span class=\"spark-nlp-display-entity-wrapper\" style=\"background-color: #800080B3\"><span class=\"spark-nlp-display-entity-name\">the infection </span><span class=\"spark-nlp-display-entity-type\">PROBLEM</span><span class=\"spark-nlp-display-entity-resolution\" style=\"background-color: #800080FF\">419468003 </span><span class=\"spark-nlp-display-entity-resolution\" style=\"background-color: #800080CC\">Gardnerella infection</span></span><span class=\"spark-nlp-display-others\" style=\"background-color: white\"> be in the area of </span><span class=\"spark-nlp-display-entity-wrapper\" style=\"background-color: #008080B3\"><span class=\"spark-nlp-display-entity-name\">the spinal instrumentation </span><span class=\"spark-nlp-display-entity-type\">TREATMENT</span><span class=\"spark-nlp-display-entity-resolution\" style=\"background-color: #008080FF\">307211004 </span><span class=\"spark-nlp-display-entity-resolution\" style=\"background-color: #008080CC\">Nonunion of spinal fusion</span></span><span class=\"spark-nlp-display-others\" style=\"background-color: white\">, this will cause a dilemma since there might be a need to remove </span><span class=\"spark-nlp-display-entity-wrapper\" style=\"background-color: #008080B3\"><span class=\"spark-nlp-display-entity-name\">the spinal instrumentation </span><span class=\"spark-nlp-display-entity-type\">TREATMENT</span><span class=\"spark-nlp-display-entity-resolution\" style=\"background-color: #008080FF\">307211004 </span><span class=\"spark-nlp-display-entity-resolution\" style=\"background-color: #008080CC\">Nonunion of spinal fusion</span></span><span class=\"spark-nlp-display-others\" style=\"background-color: white\"> and/or </span><span class=\"spark-nlp-display-entity-wrapper\" style=\"background-color: #008080B3\"><span class=\"spark-nlp-display-entity-name\">allograft </span><span class=\"spark-nlp-display-entity-type\">TREATMENT</span><span class=\"spark-nlp-display-entity-resolution\" style=\"background-color: #008080FF\">314002005 </span><span class=\"spark-nlp-display-entity-resolution\" style=\"background-color: #008080CC\">Corneal allograft rejection</span></span><span class=\"spark-nlp-display-others\" style=\"background-color: white\">. There is also the possibility of </span><span class=\"spark-nlp-display-entity-wrapper\" style=\"background-color: #800080B3\"><span class=\"spark-nlp-display-entity-name\">potential injury to the esophageus, the trachea, and the carotid artery </span><span class=\"spark-nlp-display-entity-type\">PROBLEM</span><span class=\"spark-nlp-display-entity-resolution\" style=\"background-color: #800080FF\">285709007 </span><span class=\"spark-nlp-display-entity-resolution\" style=\"background-color: #800080CC\">Injury of artery of head and neck (disorder)</span></span><span class=\"spark-nlp-display-others\" style=\"background-color: white\">. There is also the risks of </span><span class=\"spark-nlp-display-entity-wrapper\" style=\"background-color: #800080B3\"><span class=\"spark-nlp-display-entity-name\">stroke on the right cerebral circulation </span><span class=\"spark-nlp-display-entity-type\">PROBLEM</span><span class=\"spark-nlp-display-entity-resolution\" style=\"background-color: #800080FF\">230696001 </span><span class=\"spark-nlp-display-entity-resolution\" style=\"background-color: #800080CC\">Posterior cerebral circulation stroke</span></span><span class=\"spark-nlp-display-others\" style=\"background-color: white\"> should </span><span class=\"spark-nlp-display-entity-wrapper\" style=\"background-color: #800080B3\"><span class=\"spark-nlp-display-entity-name\">an undiagnosed plaque </span><span class=\"spark-nlp-display-entity-type\">PROBLEM</span><span class=\"spark-nlp-display-entity-resolution\" style=\"background-color: #800080FF\">276321008 </span><span class=\"spark-nlp-display-entity-resolution\" style=\"background-color: #800080CC\">Mucosal plaque (finding)</span></span><span class=\"spark-nlp-display-others\" style=\"background-color: white\"> be propelled from the right carotid. She understood all of these risks and agreed to have </span><span class=\"spark-nlp-display-entity-wrapper\" style=\"background-color: #008080B3\"><span class=\"spark-nlp-display-entity-name\">the procedure </span><span class=\"spark-nlp-display-entity-type\">TREATMENT</span><span class=\"spark-nlp-display-entity-resolution\" style=\"background-color: #008080FF\">183815004 </span><span class=\"spark-nlp-display-entity-resolution\" style=\"background-color: #008080CC\">Admission fundable procedure</span></span><span class=\"spark-nlp-display-others\" style=\"background-color: white\"> performed.</span></div>"
      ],
      "text/plain": [
       "<IPython.core.display.HTML object>"
      ]
     },
     "metadata": {
      "tags": []
     },
     "output_type": "display_data"
    }
   ],
   "source": [
    "text = [\n",
    "        \"\"\"This is the case of a very pleasant 46-year-old Caucasian female, seen in clinic on 12/11/07 during which time MRI of the left shoulder showed no evidence of rotator cuff tear. She did have a previous MRI of the cervical spine that did show an osteophyte on the left C6-C7 level. Based on this, negative MRI of the shoulder, the patient was recommended to have anterior cervical discectomy with anterior interbody fusion at C6-C7 level. Operation, expected outcome, risks, and benefits were discussed with her. Risks include, but not exclusive of bleeding and infection, bleeding could be soft tissue bleeding, which may compromise airway and may result in return to the operating room emergently for evacuation of said hematoma. There is also the possibility of bleeding into the epidural space, which can compress the spinal cord and result in weakness and numbness of all four extremities as well as impairment of bowel and bladder function. However, the patient may develop deeper-seated infection, which may require return to the operating room. Should the infection be in the area of the spinal instrumentation, this will cause a dilemma since there might be a need to remove the spinal instrumentation and/or allograft. There is also the possibility of potential injury to the esophageus, the trachea, and the carotid artery. There is also the risks of stroke on the right cerebral circulation should an undiagnosed plaque be propelled from the right carotid. She understood all of these risks and agreed to have the procedure performed.\"\"\",\n",
    "]\n",
    "res = lmodel.fullAnnotate(text)[0]\n",
    "\n",
    "from sparknlp_display import EntityResolverVisualizer\n",
    "\n",
    "vis = EntityResolverVisualizer()\n",
    "vis.set_label_colors({'TREATMENT':'#008080', 'problem':'#800080'})\n",
    "vis.display(res, 'ner_chunk', 'resolution')\n"
   ]
  },
  {
   "cell_type": "markdown",
   "metadata": {
    "id": "p7miDjgYlgq8"
   },
   "source": [
    "## **Assertion Status Visualisation**"
   ]
  },
  {
   "cell_type": "code",
   "execution_count": 8,
   "metadata": {
    "colab": {
     "base_uri": "https://localhost:8080/"
    },
    "id": "zC3DeBKmlmHZ",
    "outputId": "e89f5a99-7ce8-4e98-eba4-9accbf636dc7"
   },
   "outputs": [
    {
     "name": "stdout",
     "output_type": "stream",
     "text": [
      "embeddings_clinical download started this may take some time.\n",
      "Approximate size to download 1.6 GB\n",
      "[OK!]\n",
      "ner_clinical download started this may take some time.\n",
      "Approximate size to download 13.8 MB\n",
      "[OK!]\n",
      "assertion_dl download started this may take some time.\n",
      "Approximate size to download 1.3 MB\n",
      "[OK!]\n"
     ]
    }
   ],
   "source": [
    "documentAssembler = DocumentAssembler()\\\n",
    "  .setInputCol(\"text\")\\\n",
    "  .setOutputCol(\"document\")\n",
    "\n",
    "sentenceDetector = SentenceDetector()\\\n",
    "  .setInputCols([\"document\"])\\\n",
    "  .setOutputCol(\"sentence\")\n",
    "\n",
    "tokenizer = Tokenizer()\\\n",
    "  .setInputCols([\"sentence\"])\\\n",
    "  .setOutputCol(\"token\")\n",
    "\n",
    "word_embeddings = WordEmbeddingsModel.pretrained(\"embeddings_clinical\", \"en\", \"clinical/models\")\\\n",
    "  .setInputCols([\"sentence\", \"token\"])\\\n",
    "  .setOutputCol(\"embeddings\")\n",
    "\n",
    "clinical_ner = NerDLModel.pretrained(\"ner_clinical\", \"en\", \"clinical/models\") \\\n",
    "  .setInputCols([\"sentence\", \"token\", \"embeddings\"]) \\\n",
    "  .setOutputCol(\"ner\")\n",
    "\n",
    "ner_converter = NerConverter() \\\n",
    "  .setInputCols([\"sentence\", \"token\", \"ner\"]) \\\n",
    "  .setOutputCol(\"ner_chunk\").setWhiteList(['PROBLEM'])\n",
    "\n",
    "clinical_assertion = AssertionDLModel.pretrained(\"assertion_dl\", \"en\", \"clinical/models\") \\\n",
    "    .setInputCols([\"sentence\", \"ner_chunk\", \"embeddings\"]) \\\n",
    "    .setOutputCol(\"assertion\")\n",
    "    \n",
    "nlpPipeline = Pipeline(stages=[\n",
    "    documentAssembler, \n",
    "    sentenceDetector,\n",
    "    tokenizer,\n",
    "    word_embeddings,\n",
    "    clinical_ner,\n",
    "    ner_converter,\n",
    "    clinical_assertion\n",
    "    ])\n",
    "\n",
    "empty_data = spark.createDataFrame([[\"\"]]).toDF(\"text\")\n",
    "\n",
    "model = nlpPipeline.fit(empty_data)\n",
    "\n",
    "lmodel = LightPipeline(model)"
   ]
  },
  {
   "cell_type": "code",
   "execution_count": 9,
   "metadata": {
    "colab": {
     "base_uri": "https://localhost:8080/",
     "height": 921
    },
    "id": "T9qaR9J-mQ7z",
    "outputId": "57591135-3c7c-4726-b6b6-b6a45bf90927"
   },
   "outputs": [
    {
     "data": {
      "text/html": [
       "\n",
       "<style>\n",
       "    @import url('https://fonts.googleapis.com/css2?family=Montserrat:wght@300;400;500;600;700&display=swap');\n",
       "    @import url('https://fonts.googleapis.com/css2?family=Vistol Regular:wght@300;400;500;600;700&display=swap');\n",
       "    \n",
       "    .spark-nlp-display-scroll-entities {\n",
       "        border: 1px solid #E7EDF0;\n",
       "        border-radius: 3px;\n",
       "        text-align: justify;\n",
       "        \n",
       "    }\n",
       "    .spark-nlp-display-scroll-entities span {  \n",
       "        font-size: 14px;\n",
       "        line-height: 24px;\n",
       "        color: #536B76;\n",
       "        font-family: 'Montserrat', sans-serif !important;\n",
       "    }\n",
       "    \n",
       "    .spark-nlp-display-entity-wrapper{\n",
       "    \n",
       "        display: inline-grid;\n",
       "        text-align: center;\n",
       "        border-radius: 4px;\n",
       "        margin: 0 2px 5px 2px;\n",
       "        padding: 1px\n",
       "    }\n",
       "    .spark-nlp-display-entity-name{\n",
       "        font-size: 14px;\n",
       "        line-height: 24px;\n",
       "        font-family: 'Montserrat', sans-serif !important;\n",
       "        \n",
       "        background: #f1f2f3;\n",
       "        border-width: medium;\n",
       "        text-align: center;\n",
       "        \n",
       "        font-weight: 400;\n",
       "        \n",
       "        border-radius: 5px;\n",
       "        padding: 2px 5px;\n",
       "        display: block;\n",
       "        margin: 3px 2px;\n",
       "    \n",
       "    }\n",
       "    .spark-nlp-display-entity-type{\n",
       "        font-size: 14px;\n",
       "        line-height: 24px;\n",
       "        color: #ffffff;\n",
       "        font-family: 'Montserrat', sans-serif !important;\n",
       "        \n",
       "        text-transform: uppercase;\n",
       "        \n",
       "        font-weight: 500;\n",
       "\n",
       "        display: block;\n",
       "        padding: 3px 5px;\n",
       "    }\n",
       "    \n",
       "    .spark-nlp-display-entity-resolution{\n",
       "        font-size: 14px;\n",
       "        line-height: 24px;\n",
       "        color: #ffffff;\n",
       "        font-family: 'Vistol Regular', sans-serif !important;\n",
       "        \n",
       "        text-transform: uppercase;\n",
       "        \n",
       "        font-weight: 500;\n",
       "\n",
       "        display: block;\n",
       "        padding: 3px 5px;\n",
       "    }\n",
       "    \n",
       "    .spark-nlp-display-others{\n",
       "        font-size: 14px;\n",
       "        line-height: 24px;\n",
       "        font-family: 'Montserrat', sans-serif !important;\n",
       "        \n",
       "        font-weight: 400;\n",
       "    }\n",
       "\n",
       "</style>\n",
       " <span class=\"spark-nlp-display-others\" style=\"background-color: white\">This is the case of a very pleasant 46-year-old Caucasian female, seen in clinic on 12/11/07 during which time MRI of the left shoulder showed no evidence of </span><span class=\"spark-nlp-display-entity-wrapper\" style=\"background-color: #800080B3\"><span class=\"spark-nlp-display-entity-name\">rotator cuff tear </span><span class=\"spark-nlp-display-entity-type\">PROBLEM</span><span class=\"spark-nlp-display-entity-resolution\" style=\"background-color: #800080FF\">absent </span></span><span class=\"spark-nlp-display-others\" style=\"background-color: white\">. She did have a previous MRI of the cervical spine that did show </span><span class=\"spark-nlp-display-entity-wrapper\" style=\"background-color: #800080B3\"><span class=\"spark-nlp-display-entity-name\">an osteophyte on the left C6-C7 level </span><span class=\"spark-nlp-display-entity-type\">PROBLEM</span><span class=\"spark-nlp-display-entity-resolution\" style=\"background-color: #800080FF\">present </span></span><span class=\"spark-nlp-display-others\" style=\"background-color: white\">. Based on this, negative MRI of the shoulder, the patient was recommended to have anterior cervical discectomy with anterior interbody fusion at C6-C7 level. Operation, expected outcome, risks, and benefits were discussed with her. Risks include, but not exclusive of </span><span class=\"spark-nlp-display-entity-wrapper\" style=\"background-color: #800080B3\"><span class=\"spark-nlp-display-entity-name\">bleeding </span><span class=\"spark-nlp-display-entity-type\">PROBLEM</span><span class=\"spark-nlp-display-entity-resolution\" style=\"background-color: #800080FF\">present </span></span><span class=\"spark-nlp-display-others\" style=\"background-color: white\"> and </span><span class=\"spark-nlp-display-entity-wrapper\" style=\"background-color: #800080B3\"><span class=\"spark-nlp-display-entity-name\">infection </span><span class=\"spark-nlp-display-entity-type\">PROBLEM</span><span class=\"spark-nlp-display-entity-resolution\" style=\"background-color: #800080FF\">present </span></span><span class=\"spark-nlp-display-others\" style=\"background-color: white\">, </span><span class=\"spark-nlp-display-entity-wrapper\" style=\"background-color: #800080B3\"><span class=\"spark-nlp-display-entity-name\">bleeding </span><span class=\"spark-nlp-display-entity-type\">PROBLEM</span><span class=\"spark-nlp-display-entity-resolution\" style=\"background-color: #800080FF\">present </span></span><span class=\"spark-nlp-display-others\" style=\"background-color: white\"> could be </span><span class=\"spark-nlp-display-entity-wrapper\" style=\"background-color: #800080B3\"><span class=\"spark-nlp-display-entity-name\">soft tissue bleeding </span><span class=\"spark-nlp-display-entity-type\">PROBLEM</span><span class=\"spark-nlp-display-entity-resolution\" style=\"background-color: #800080FF\">present </span></span><span class=\"spark-nlp-display-others\" style=\"background-color: white\">, which may compromise airway and may result in return to the operating room emergently for evacuation of said </span><span class=\"spark-nlp-display-entity-wrapper\" style=\"background-color: #800080B3\"><span class=\"spark-nlp-display-entity-name\">hematoma </span><span class=\"spark-nlp-display-entity-type\">PROBLEM</span><span class=\"spark-nlp-display-entity-resolution\" style=\"background-color: #800080FF\">present </span></span><span class=\"spark-nlp-display-others\" style=\"background-color: white\">. There is also the possibility of </span><span class=\"spark-nlp-display-entity-wrapper\" style=\"background-color: #800080B3\"><span class=\"spark-nlp-display-entity-name\">bleeding into the epidural space </span><span class=\"spark-nlp-display-entity-type\">PROBLEM</span><span class=\"spark-nlp-display-entity-resolution\" style=\"background-color: #800080FF\">possible </span></span><span class=\"spark-nlp-display-others\" style=\"background-color: white\">, which can compress the spinal cord and result in </span><span class=\"spark-nlp-display-entity-wrapper\" style=\"background-color: #800080B3\"><span class=\"spark-nlp-display-entity-name\">weakness </span><span class=\"spark-nlp-display-entity-type\">PROBLEM</span><span class=\"spark-nlp-display-entity-resolution\" style=\"background-color: #800080FF\">present </span></span><span class=\"spark-nlp-display-others\" style=\"background-color: white\"> and </span><span class=\"spark-nlp-display-entity-wrapper\" style=\"background-color: #800080B3\"><span class=\"spark-nlp-display-entity-name\">numbness of all four extremities </span><span class=\"spark-nlp-display-entity-type\">PROBLEM</span><span class=\"spark-nlp-display-entity-resolution\" style=\"background-color: #800080FF\">present </span></span><span class=\"spark-nlp-display-others\" style=\"background-color: white\"> as well as </span><span class=\"spark-nlp-display-entity-wrapper\" style=\"background-color: #800080B3\"><span class=\"spark-nlp-display-entity-name\">impairment of bowel and bladder function </span><span class=\"spark-nlp-display-entity-type\">PROBLEM</span><span class=\"spark-nlp-display-entity-resolution\" style=\"background-color: #800080FF\">present </span></span><span class=\"spark-nlp-display-others\" style=\"background-color: white\">. However, the patient may develop </span><span class=\"spark-nlp-display-entity-wrapper\" style=\"background-color: #800080B3\"><span class=\"spark-nlp-display-entity-name\">deeper-seated infection </span><span class=\"spark-nlp-display-entity-type\">PROBLEM</span><span class=\"spark-nlp-display-entity-resolution\" style=\"background-color: #800080FF\">possible </span></span><span class=\"spark-nlp-display-others\" style=\"background-color: white\">, which may require return to the operating room. Should </span><span class=\"spark-nlp-display-entity-wrapper\" style=\"background-color: #800080B3\"><span class=\"spark-nlp-display-entity-name\">the infection </span><span class=\"spark-nlp-display-entity-type\">PROBLEM</span><span class=\"spark-nlp-display-entity-resolution\" style=\"background-color: #800080FF\">possible </span></span><span class=\"spark-nlp-display-others\" style=\"background-color: white\"> be in the area of the spinal instrumentation, this will cause a dilemma since there might be a need to remove the spinal instrumentation and/or allograft. There is also the possibility of </span><span class=\"spark-nlp-display-entity-wrapper\" style=\"background-color: #800080B3\"><span class=\"spark-nlp-display-entity-name\">potential injury to the esophageus, the trachea, and the carotid artery </span><span class=\"spark-nlp-display-entity-type\">PROBLEM</span><span class=\"spark-nlp-display-entity-resolution\" style=\"background-color: #800080FF\">possible </span></span><span class=\"spark-nlp-display-others\" style=\"background-color: white\">. There is also the risks of </span><span class=\"spark-nlp-display-entity-wrapper\" style=\"background-color: #800080B3\"><span class=\"spark-nlp-display-entity-name\">stroke on the right cerebral circulation </span><span class=\"spark-nlp-display-entity-type\">PROBLEM</span><span class=\"spark-nlp-display-entity-resolution\" style=\"background-color: #800080FF\">possible </span></span><span class=\"spark-nlp-display-others\" style=\"background-color: white\"> should </span><span class=\"spark-nlp-display-entity-wrapper\" style=\"background-color: #800080B3\"><span class=\"spark-nlp-display-entity-name\">an undiagnosed plaque </span><span class=\"spark-nlp-display-entity-type\">PROBLEM</span><span class=\"spark-nlp-display-entity-resolution\" style=\"background-color: #800080FF\">possible </span></span><span class=\"spark-nlp-display-others\" style=\"background-color: white\"> be propelled from the right carotid. She understood all of these risks and agreed to have the procedure performed.</span></div>"
      ],
      "text/plain": [
       "<IPython.core.display.HTML object>"
      ]
     },
     "metadata": {
      "tags": []
     },
     "output_type": "display_data"
    }
   ],
   "source": [
    "text = [\n",
    "        \"\"\"This is the case of a very pleasant 46-year-old Caucasian female, seen in clinic on 12/11/07 during which time MRI of the left shoulder showed no evidence of rotator cuff tear. She did have a previous MRI of the cervical spine that did show an osteophyte on the left C6-C7 level. Based on this, negative MRI of the shoulder, the patient was recommended to have anterior cervical discectomy with anterior interbody fusion at C6-C7 level. Operation, expected outcome, risks, and benefits were discussed with her. Risks include, but not exclusive of bleeding and infection, bleeding could be soft tissue bleeding, which may compromise airway and may result in return to the operating room emergently for evacuation of said hematoma. There is also the possibility of bleeding into the epidural space, which can compress the spinal cord and result in weakness and numbness of all four extremities as well as impairment of bowel and bladder function. However, the patient may develop deeper-seated infection, which may require return to the operating room. Should the infection be in the area of the spinal instrumentation, this will cause a dilemma since there might be a need to remove the spinal instrumentation and/or allograft. There is also the possibility of potential injury to the esophageus, the trachea, and the carotid artery. There is also the risks of stroke on the right cerebral circulation should an undiagnosed plaque be propelled from the right carotid. She understood all of these risks and agreed to have the procedure performed.\"\"\",\n",
    "]\n",
    "res = lmodel.fullAnnotate(text)[0]\n",
    "\n",
    "from sparknlp_display import AssertionVisualizer\n",
    "\n",
    "vis = AssertionVisualizer()\n",
    "vis.set_label_colors({'TREATMENT':'#008080', 'problem':'#800080'})\n",
    "vis.display(res, 'ner_chunk', 'assertion')\n"
   ]
  }
 ],
 "metadata": {
  "colab": {
   "collapsed_sections": [],
   "name": "Spark_NLP_Display.ipynb",
   "provenance": [],
   "toc_visible": true
  },
  "kernelspec": {
   "display_name": "Python 3",
   "language": "python",
   "name": "python3"
  },
  "language_info": {
   "codemirror_mode": {
    "name": "ipython",
    "version": 3
   },
   "file_extension": ".py",
   "mimetype": "text/x-python",
   "name": "python",
   "nbconvert_exporter": "python",
   "pygments_lexer": "ipython3",
   "version": "3.7.6"
  }
 },
 "nbformat": 4,
 "nbformat_minor": 1
}
